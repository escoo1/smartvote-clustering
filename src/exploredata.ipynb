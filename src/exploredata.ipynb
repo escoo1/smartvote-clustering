{
 "cells": [
  {
   "cell_type": "code",
   "execution_count": 6,
   "metadata": {},
   "outputs": [
    {
     "name": "stdout",
     "output_type": "stream",
     "text": [
      "Requirement already satisfied: pandas in c:\\users\\olive\\git\\eprp\\.conda\\lib\\site-packages (2.2.3)\n",
      "Requirement already satisfied: numpy in c:\\users\\olive\\git\\eprp\\.conda\\lib\\site-packages (2.2.3)\n",
      "Requirement already satisfied: python-dateutil>=2.8.2 in c:\\users\\olive\\appdata\\roaming\\python\\python311\\site-packages (from pandas) (2.9.0.post0)\n",
      "Requirement already satisfied: pytz>=2020.1 in c:\\users\\olive\\git\\eprp\\.conda\\lib\\site-packages (from pandas) (2025.1)\n",
      "Requirement already satisfied: tzdata>=2022.7 in c:\\users\\olive\\git\\eprp\\.conda\\lib\\site-packages (from pandas) (2025.1)\n",
      "Requirement already satisfied: six>=1.5 in c:\\users\\olive\\appdata\\roaming\\python\\python311\\site-packages (from python-dateutil>=2.8.2->pandas) (1.16.0)\n",
      "Note: you may need to restart the kernel to use updated packages.\n",
      "Collecting openpyxl\n",
      "  Downloading openpyxl-3.1.5-py2.py3-none-any.whl.metadata (2.5 kB)\n",
      "Collecting et-xmlfile (from openpyxl)\n",
      "  Downloading et_xmlfile-2.0.0-py3-none-any.whl.metadata (2.7 kB)\n",
      "Downloading openpyxl-3.1.5-py2.py3-none-any.whl (250 kB)\n",
      "Downloading et_xmlfile-2.0.0-py3-none-any.whl (18 kB)\n",
      "Installing collected packages: et-xmlfile, openpyxl\n",
      "Successfully installed et-xmlfile-2.0.0 openpyxl-3.1.5\n",
      "Note: you may need to restart the kernel to use updated packages.\n"
     ]
    }
   ],
   "source": [
    "%pip install pandas numpy\n",
    "%pip install openpyxl\n",
    "\n"
   ]
  },
  {
   "cell_type": "code",
   "execution_count": 4,
   "metadata": {},
   "outputs": [
    {
     "name": "stdout",
     "output_type": "stream",
     "text": [
      "Pandas Version: 2.2.3\n",
      "NumPy Version: 2.2.3\n"
     ]
    }
   ],
   "source": [
    "import pandas as pd\n",
    "import numpy as np\n",
    "\n",
    "print(\"Pandas Version:\", pd.__version__)\n",
    "print(\"NumPy Version:\", np.__version__)\n"
   ]
  },
  {
   "cell_type": "code",
   "execution_count": 7,
   "metadata": {},
   "outputs": [
    {
     "data": {
      "text/html": [
       "<div>\n",
       "<style scoped>\n",
       "    .dataframe tbody tr th:only-of-type {\n",
       "        vertical-align: middle;\n",
       "    }\n",
       "\n",
       "    .dataframe tbody tr th {\n",
       "        vertical-align: top;\n",
       "    }\n",
       "\n",
       "    .dataframe thead th {\n",
       "        text-align: right;\n",
       "    }\n",
       "</style>\n",
       "<table border=\"1\" class=\"dataframe\">\n",
       "  <thead>\n",
       "    <tr style=\"text-align: right;\">\n",
       "      <th></th>\n",
       "      <th>ID_Politikbereich</th>\n",
       "      <th>Politikbereich</th>\n",
       "      <th>ID_Wahl</th>\n",
       "      <th>Kanton</th>\n",
       "      <th>Jahr</th>\n",
       "      <th>ID_Frage</th>\n",
       "      <th>Frage</th>\n",
       "      <th>ID_sv-Kategorie</th>\n",
       "      <th>ID_sv-Group</th>\n",
       "      <th>Fragetyp</th>\n",
       "    </tr>\n",
       "  </thead>\n",
       "  <tbody>\n",
       "    <tr>\n",
       "      <th>0</th>\n",
       "      <td>1.0</td>\n",
       "      <td>Aussenpolitik</td>\n",
       "      <td>76.0</td>\n",
       "      <td>BL</td>\n",
       "      <td>2015</td>\n",
       "      <td>1169.0</td>\n",
       "      <td>Soll die Schweiz innerhalb der nächsten vier J...</td>\n",
       "      <td>11.0</td>\n",
       "      <td>59.0</td>\n",
       "      <td>Standard-4</td>\n",
       "    </tr>\n",
       "    <tr>\n",
       "      <th>1</th>\n",
       "      <td>1.0</td>\n",
       "      <td>Aussenpolitik</td>\n",
       "      <td>76.0</td>\n",
       "      <td>BL</td>\n",
       "      <td>2015</td>\n",
       "      <td>1134.0</td>\n",
       "      <td>Befürworten Sie das bestehende Personenfreizüg...</td>\n",
       "      <td>4.0</td>\n",
       "      <td>61.0</td>\n",
       "      <td>Standard-4</td>\n",
       "    </tr>\n",
       "    <tr>\n",
       "      <th>2</th>\n",
       "      <td>1.0</td>\n",
       "      <td>Aussenpolitik</td>\n",
       "      <td>76.0</td>\n",
       "      <td>BL</td>\n",
       "      <td>2015</td>\n",
       "      <td>1168.0</td>\n",
       "      <td>Soll die Schweiz mit den USA über ein Freihand...</td>\n",
       "      <td>11.0</td>\n",
       "      <td>60.0</td>\n",
       "      <td>Standard-4</td>\n",
       "    </tr>\n",
       "    <tr>\n",
       "      <th>3</th>\n",
       "      <td>1.0</td>\n",
       "      <td>Aussenpolitik</td>\n",
       "      <td>76.0</td>\n",
       "      <td>BL</td>\n",
       "      <td>2015</td>\n",
       "      <td>1167.0</td>\n",
       "      <td>Die Schweiz verfolgt seit einigen Jahren eine ...</td>\n",
       "      <td>11.0</td>\n",
       "      <td>63.0</td>\n",
       "      <td>Standard-4</td>\n",
       "    </tr>\n",
       "    <tr>\n",
       "      <th>4</th>\n",
       "      <td>2.0</td>\n",
       "      <td>Bildung</td>\n",
       "      <td>76.0</td>\n",
       "      <td>BL</td>\n",
       "      <td>2015</td>\n",
       "      <td>1171.0</td>\n",
       "      <td>Bildung</td>\n",
       "      <td>13.0</td>\n",
       "      <td>301.0</td>\n",
       "      <td>Budget-5</td>\n",
       "    </tr>\n",
       "  </tbody>\n",
       "</table>\n",
       "</div>"
      ],
      "text/plain": [
       "   ID_Politikbereich Politikbereich  ID_Wahl Kanton  Jahr  ID_Frage  \\\n",
       "0                1.0  Aussenpolitik     76.0     BL  2015    1169.0   \n",
       "1                1.0  Aussenpolitik     76.0     BL  2015    1134.0   \n",
       "2                1.0  Aussenpolitik     76.0     BL  2015    1168.0   \n",
       "3                1.0  Aussenpolitik     76.0     BL  2015    1167.0   \n",
       "4                2.0        Bildung     76.0     BL  2015    1171.0   \n",
       "\n",
       "                                               Frage  ID_sv-Kategorie  \\\n",
       "0  Soll die Schweiz innerhalb der nächsten vier J...             11.0   \n",
       "1  Befürworten Sie das bestehende Personenfreizüg...              4.0   \n",
       "2  Soll die Schweiz mit den USA über ein Freihand...             11.0   \n",
       "3  Die Schweiz verfolgt seit einigen Jahren eine ...             11.0   \n",
       "4                                            Bildung             13.0   \n",
       "\n",
       "   ID_sv-Group    Fragetyp  \n",
       "0         59.0  Standard-4  \n",
       "1         61.0  Standard-4  \n",
       "2         60.0  Standard-4  \n",
       "3         63.0  Standard-4  \n",
       "4        301.0    Budget-5  "
      ]
     },
     "execution_count": 7,
     "metadata": {},
     "output_type": "execute_result"
    }
   ],
   "source": [
    "# Datei einlesen\n",
    "df = pd.read_excel(\"../data/sv-Fragen 2011-2021.xlsx\", engine=\"openpyxl\")\n",
    "\n",
    "# Erste Zeilen anzeigen\n",
    "df.head()"
   ]
  },
  {
   "cell_type": "code",
   "execution_count": 8,
   "metadata": {},
   "outputs": [
    {
     "name": "stdout",
     "output_type": "stream",
     "text": [
      "Shape der Daten: (4489, 10)\n",
      "Spaltenübersicht: ['ID_Politikbereich', 'Politikbereich', 'ID_Wahl', 'Kanton', 'Jahr', 'ID_Frage', 'Frage', 'ID_sv-Kategorie', 'ID_sv-Group', 'Fragetyp']\n",
      "<class 'pandas.core.frame.DataFrame'>\n",
      "RangeIndex: 4489 entries, 0 to 4488\n",
      "Data columns (total 10 columns):\n",
      " #   Column             Non-Null Count  Dtype  \n",
      "---  ------             --------------  -----  \n",
      " 0   ID_Politikbereich  4466 non-null   float64\n",
      " 1   Politikbereich     4466 non-null   object \n",
      " 2   ID_Wahl            4341 non-null   float64\n",
      " 3   Kanton             4489 non-null   object \n",
      " 4   Jahr               4489 non-null   int64  \n",
      " 5   ID_Frage           4341 non-null   float64\n",
      " 6   Frage              4489 non-null   object \n",
      " 7   ID_sv-Kategorie    4341 non-null   float64\n",
      " 8   ID_sv-Group        4191 non-null   float64\n",
      " 9   Fragetyp           4341 non-null   object \n",
      "dtypes: float64(5), int64(1), object(4)\n",
      "memory usage: 350.8+ KB\n"
     ]
    }
   ],
   "source": [
    "# Anzahl der Zeilen und Spalten\n",
    "print(\"Shape der Daten:\", df.shape)\n",
    "\n",
    "# Spaltennamen anzeigen\n",
    "print(\"Spaltenübersicht:\", df.columns.tolist())\n",
    "\n",
    "# Allgemeine Infos über die Datentypen\n",
    "df.info()\n"
   ]
  }
 ],
 "metadata": {
  "kernelspec": {
   "display_name": "Python 3",
   "language": "python",
   "name": "python3"
  },
  "language_info": {
   "codemirror_mode": {
    "name": "ipython",
    "version": 3
   },
   "file_extension": ".py",
   "mimetype": "text/x-python",
   "name": "python",
   "nbconvert_exporter": "python",
   "pygments_lexer": "ipython3",
   "version": "3.11.11"
  }
 },
 "nbformat": 4,
 "nbformat_minor": 2
}
