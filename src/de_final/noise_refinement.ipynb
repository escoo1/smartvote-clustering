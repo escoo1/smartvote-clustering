{
 "cells": [
  {
   "cell_type": "markdown",
   "id": "e83aef97",
   "metadata": {},
   "source": [
    "# Noise‑Refinement Workflow\n",
    "1. Laden der Daten\n",
    "2. Nachklassifikation via Cosine‑Ähnlichkeit zu bestehenden Clusterzentren\n",
    "3. Analyse der Reassignment‑Ergebnisse\n",
    "4. Re‑Clustering des verbleibenden Noise‑Kerns mit HDBSCAN\n",
    "5. Visualisierung mit UMAP\n",
    "6. Speichern des finalen Labels\n",
    "\n"
   ]
  },
  {
   "cell_type": "code",
   "execution_count": 1,
   "id": "cec81b6b",
   "metadata": {},
   "outputs": [
    {
     "name": "stdout",
     "output_type": "stream",
     "text": [
      "Note: you may need to restart the kernel to use updated packages.\n"
     ]
    }
   ],
   "source": [
    "%pip install --quiet umap-learn hdbscan joblib"
   ]
  },
  {
   "cell_type": "code",
   "execution_count": 2,
   "id": "02dee7be",
   "metadata": {},
   "outputs": [
    {
     "name": "stdout",
     "output_type": "stream",
     "text": [
      "Libraries geladen.\n"
     ]
    }
   ],
   "source": [
    "import pandas as pd\n",
    "import numpy as np\n",
    "import joblib, hdbscan, umap.umap_ as umap\n",
    "from sklearn.metrics.pairwise import cosine_similarity\n",
    "import matplotlib.pyplot as plt\n",
    "plt.rcParams['figure.figsize'] = (8,6)\n",
    "print('Libraries geladen.')"
   ]
  },
  {
   "cell_type": "markdown",
   "id": "b8d422c1",
   "metadata": {},
   "source": [
    "## 1 | Daten laden"
   ]
  },
  {
   "cell_type": "code",
   "execution_count": 3,
   "id": "a882c10e",
   "metadata": {},
   "outputs": [
    {
     "name": "stdout",
     "output_type": "stream",
     "text": [
      "Noise‑Fragen: 1890 | Clusterzentren: 209\n"
     ]
    },
    {
     "data": {
      "text/html": [
       "<div>\n",
       "<style scoped>\n",
       "    .dataframe tbody tr th:only-of-type {\n",
       "        vertical-align: middle;\n",
       "    }\n",
       "\n",
       "    .dataframe tbody tr th {\n",
       "        vertical-align: top;\n",
       "    }\n",
       "\n",
       "    .dataframe thead th {\n",
       "        text-align: right;\n",
       "    }\n",
       "</style>\n",
       "<table border=\"1\" class=\"dataframe\">\n",
       "  <thead>\n",
       "    <tr style=\"text-align: right;\">\n",
       "      <th></th>\n",
       "      <th>ID_Wahl</th>\n",
       "      <th>Datum</th>\n",
       "      <th>Frage_ID</th>\n",
       "      <th>Frage_Text</th>\n",
       "      <th>Frage_Typ</th>\n",
       "      <th>Bereich_ID</th>\n",
       "      <th>Bereich</th>\n",
       "      <th>ID_gesamt</th>\n",
       "      <th>Sprache</th>\n",
       "      <th>text_norm</th>\n",
       "      <th>dup_grp</th>\n",
       "      <th>is_rep</th>\n",
       "      <th>cluster</th>\n",
       "    </tr>\n",
       "  </thead>\n",
       "  <tbody>\n",
       "    <tr>\n",
       "      <th>0</th>\n",
       "      <td>2.0</td>\n",
       "      <td>2019-10-20 00:00:00</td>\n",
       "      <td>5.0</td>\n",
       "      <td>Wie beurteilen Sie diese Aussage: \"Wer sich ni...</td>\n",
       "      <td>options7</td>\n",
       "      <td>4734.0</td>\n",
       "      <td>Werthaltungen</td>\n",
       "      <td>Q00000</td>\n",
       "      <td>de</td>\n",
       "      <td>wie beurteilen sie diese aussage wer sich nich...</td>\n",
       "      <td>0</td>\n",
       "      <td>True</td>\n",
       "      <td>-1</td>\n",
       "    </tr>\n",
       "    <tr>\n",
       "      <th>1</th>\n",
       "      <td>2.0</td>\n",
       "      <td>2019-10-20 00:00:00</td>\n",
       "      <td>8.0</td>\n",
       "      <td>Wie beurteilen Sie diese Aussage: \"Die Bestraf...</td>\n",
       "      <td>options7</td>\n",
       "      <td>4734.0</td>\n",
       "      <td>Werthaltungen</td>\n",
       "      <td>Q00001</td>\n",
       "      <td>de</td>\n",
       "      <td>wie beurteilen sie diese aussage die bestrafun...</td>\n",
       "      <td>1</td>\n",
       "      <td>True</td>\n",
       "      <td>-1</td>\n",
       "    </tr>\n",
       "    <tr>\n",
       "      <th>2</th>\n",
       "      <td>2.0</td>\n",
       "      <td>2019-10-20 00:00:00</td>\n",
       "      <td>11.0</td>\n",
       "      <td>Wie beurteilen Sie diese Aussage: \"Für ein Kin...</td>\n",
       "      <td>options7</td>\n",
       "      <td>4734.0</td>\n",
       "      <td>Werthaltungen</td>\n",
       "      <td>Q00002</td>\n",
       "      <td>de</td>\n",
       "      <td>wie beurteilen sie diese aussage für ein kind ...</td>\n",
       "      <td>2</td>\n",
       "      <td>True</td>\n",
       "      <td>-1</td>\n",
       "    </tr>\n",
       "    <tr>\n",
       "      <th>10</th>\n",
       "      <td>2.0</td>\n",
       "      <td>2019-10-20 00:00:00</td>\n",
       "      <td>47.0</td>\n",
       "      <td>Sollen die Renten der Pensionskasse durch eine...</td>\n",
       "      <td>options4</td>\n",
       "      <td>4160.0</td>\n",
       "      <td>Sozialstaat &amp; Familie</td>\n",
       "      <td>Q00010</td>\n",
       "      <td>de</td>\n",
       "      <td>sollen die renten der pensionskasse durch eine...</td>\n",
       "      <td>10</td>\n",
       "      <td>True</td>\n",
       "      <td>-1</td>\n",
       "    </tr>\n",
       "    <tr>\n",
       "      <th>11</th>\n",
       "      <td>2.0</td>\n",
       "      <td>2019-10-20 00:00:00</td>\n",
       "      <td>50.0</td>\n",
       "      <td>Befürworten Sie Bestrebungen in den Kantonen z...</td>\n",
       "      <td>options4</td>\n",
       "      <td>4160.0</td>\n",
       "      <td>Sozialstaat &amp; Familie</td>\n",
       "      <td>Q00011</td>\n",
       "      <td>de</td>\n",
       "      <td>befürworten sie bestrebungen in den kantonen z...</td>\n",
       "      <td>11</td>\n",
       "      <td>True</td>\n",
       "      <td>-1</td>\n",
       "    </tr>\n",
       "  </tbody>\n",
       "</table>\n",
       "</div>"
      ],
      "text/plain": [
       "    ID_Wahl                Datum  Frage_ID  \\\n",
       "0       2.0  2019-10-20 00:00:00       5.0   \n",
       "1       2.0  2019-10-20 00:00:00       8.0   \n",
       "2       2.0  2019-10-20 00:00:00      11.0   \n",
       "10      2.0  2019-10-20 00:00:00      47.0   \n",
       "11      2.0  2019-10-20 00:00:00      50.0   \n",
       "\n",
       "                                           Frage_Text Frage_Typ  Bereich_ID  \\\n",
       "0   Wie beurteilen Sie diese Aussage: \"Wer sich ni...  options7      4734.0   \n",
       "1   Wie beurteilen Sie diese Aussage: \"Die Bestraf...  options7      4734.0   \n",
       "2   Wie beurteilen Sie diese Aussage: \"Für ein Kin...  options7      4734.0   \n",
       "10  Sollen die Renten der Pensionskasse durch eine...  options4      4160.0   \n",
       "11  Befürworten Sie Bestrebungen in den Kantonen z...  options4      4160.0   \n",
       "\n",
       "                  Bereich ID_gesamt Sprache  \\\n",
       "0           Werthaltungen    Q00000      de   \n",
       "1           Werthaltungen    Q00001      de   \n",
       "2           Werthaltungen    Q00002      de   \n",
       "10  Sozialstaat & Familie    Q00010      de   \n",
       "11  Sozialstaat & Familie    Q00011      de   \n",
       "\n",
       "                                            text_norm  dup_grp  is_rep  \\\n",
       "0   wie beurteilen sie diese aussage wer sich nich...        0    True   \n",
       "1   wie beurteilen sie diese aussage die bestrafun...        1    True   \n",
       "2   wie beurteilen sie diese aussage für ein kind ...        2    True   \n",
       "10  sollen die renten der pensionskasse durch eine...       10    True   \n",
       "11  befürworten sie bestrebungen in den kantonen z...       11    True   \n",
       "\n",
       "    cluster  \n",
       "0        -1  \n",
       "1        -1  \n",
       "2        -1  \n",
       "10       -1  \n",
       "11       -1  "
      ]
     },
     "execution_count": 3,
     "metadata": {},
     "output_type": "execute_result"
    }
   ],
   "source": [
    "noise_df = pd.read_pickle('noise_questions.pkl')\n",
    "centers = joblib.load('cluster_centers.pkl')\n",
    "print(f'Noise‑Fragen: {len(noise_df)} | Clusterzentren: {len(centers)}')\n",
    "noise_df.drop(columns=['embedding']).head()\n"
   ]
  },
  {
   "cell_type": "markdown",
   "id": "2c4f0e4d",
   "metadata": {},
   "source": [
    "## 2 | Nachklassifikation an bestehende Cluster"
   ]
  },
  {
   "cell_type": "code",
   "execution_count": 4,
   "id": "01381692",
   "metadata": {},
   "outputs": [
    {
     "name": "stdout",
     "output_type": "stream",
     "text": [
      "Reassignments: 1165\n"
     ]
    }
   ],
   "source": [
    "sims = cosine_similarity(np.vstack(noise_df['embedding']), np.vstack(centers.values))\n",
    "best_cluster = sims.argmax(axis=1)\n",
    "best_score = sims.max(axis=1)\n",
    "\n",
    "thresh = 0.7  # frei anpassen, 0.30 ≈ 70 % Ähnlichkeit\n",
    "mask_reassign = best_score >= thresh\n",
    "noise_df.loc[mask_reassign, 'reassign_to'] = [list(centers.index)[i] for i in best_cluster[mask_reassign]]\n",
    "noise_df['reassign_score'] = best_score\n",
    "print('Reassignments:', mask_reassign.sum())"
   ]
  },
  {
   "cell_type": "markdown",
   "id": "49eb6beb",
   "metadata": {},
   "source": [
    "### 2.1 | Übersicht der Zuordnung"
   ]
  },
  {
   "cell_type": "code",
   "execution_count": 5,
   "id": "65f3501f",
   "metadata": {},
   "outputs": [
    {
     "data": {
      "text/plain": [
       "reassign_to\n",
       "NaN      725\n",
       "205.0     36\n",
       "175.0     25\n",
       "157.0     23\n",
       "122.0     23\n",
       "Name: count, dtype: int64"
      ]
     },
     "execution_count": 5,
     "metadata": {},
     "output_type": "execute_result"
    }
   ],
   "source": [
    "noise_df['reassign_to'].value_counts(dropna=False).head()"
   ]
  },
  {
   "cell_type": "markdown",
   "id": "784a7213",
   "metadata": {},
   "source": [
    "## 3 | Verbleibender Noise‑Kern"
   ]
  },
  {
   "cell_type": "code",
   "execution_count": 6,
   "id": "94fc5743",
   "metadata": {},
   "outputs": [
    {
     "name": "stdout",
     "output_type": "stream",
     "text": [
      "Verbleibender Noise: 725\n"
     ]
    }
   ],
   "source": [
    "remain_df = noise_df[noise_df['reassign_to'].isna()].copy()\n",
    "print('Verbleibender Noise:', len(remain_df))"
   ]
  },
  {
   "cell_type": "markdown",
   "id": "417f9ccf",
   "metadata": {},
   "source": [
    "## 4 | Re‑Clustering mit HDBSCAN"
   ]
  },
  {
   "cell_type": "code",
   "execution_count": 7,
   "id": "6406278e",
   "metadata": {},
   "outputs": [
    {
     "name": "stderr",
     "output_type": "stream",
     "text": [
      "c:\\Users\\olive\\git\\EPRP\\.conda\\Lib\\site-packages\\sklearn\\utils\\deprecation.py:151: FutureWarning: 'force_all_finite' was renamed to 'ensure_all_finite' in 1.6 and will be removed in 1.8.\n",
      "  warnings.warn(\n",
      "c:\\Users\\olive\\git\\EPRP\\.conda\\Lib\\site-packages\\sklearn\\utils\\deprecation.py:151: FutureWarning: 'force_all_finite' was renamed to 'ensure_all_finite' in 1.6 and will be removed in 1.8.\n",
      "  warnings.warn(\n"
     ]
    },
    {
     "data": {
      "text/plain": [
       "subcluster\n",
       " 2    523\n",
       "-1    194\n",
       " 1      3\n",
       " 0      3\n",
       " 3      2\n",
       "Name: count, dtype: int64"
      ]
     },
     "execution_count": 7,
     "metadata": {},
     "output_type": "execute_result"
    }
   ],
   "source": [
    "hdb = hdbscan.HDBSCAN(min_cluster_size=2, metric='euclidean')\n",
    "remain_df['subcluster'] = hdb.fit_predict(np.vstack(remain_df['embedding']))\n",
    "remain_df['subcluster'].value_counts().head()"
   ]
  },
  {
   "cell_type": "markdown",
   "id": "839947e0",
   "metadata": {},
   "source": [
    "## 5 | Ergebnisse speichern"
   ]
  },
  {
   "cell_type": "code",
   "execution_count": 8,
   "id": "6343ff99",
   "metadata": {},
   "outputs": [
    {
     "name": "stdout",
     "output_type": "stream",
     "text": [
      "Gespeichert unter noise_refined.pkl\n"
     ]
    }
   ],
   "source": [
    "final_df = pd.concat([\n",
    "    noise_df[mask_reassign],\n",
    "    remain_df\n",
    "])\n",
    "final_df.to_pickle('noise_refined.pkl')\n",
    "print('Gespeichert unter noise_refined.pkl')"
   ]
  },
  {
   "cell_type": "markdown",
   "id": "65f203a4",
   "metadata": {},
   "source": [
    "## Analyse der neu zugeordneten Fragen"
   ]
  },
  {
   "cell_type": "code",
   "execution_count": 9,
   "id": "2fc04029",
   "metadata": {},
   "outputs": [],
   "source": [
    "# 1 | Daten laden und vorbereiten\n",
    "import pandas as pd, numpy as np\n",
    "from sklearn.metrics.pairwise import cosine_similarity\n",
    "import joblib\n",
    "\n",
    "# Hauptdaten\n",
    "rep_df   = pd.read_pickle(\"rep_df.pkl\")          # Haupt-DF mit allen Original-Clustern\n",
    "noise_df = pd.read_pickle(\"noise_refined.pkl\")   # dein exportiertes Noise-DF\n",
    "\n",
    "# Zentren korrekt laden\n",
    "centers  = joblib.load(\"cluster_centers.pkl\")      # oder joblib.load(...)\n",
    "\n"
   ]
  },
  {
   "cell_type": "code",
   "execution_count": 10,
   "id": "5cdd3a56",
   "metadata": {},
   "outputs": [],
   "source": [
    "# 2 | Hauptfrage (Repräsentant) pro Cluster bestimmen\n",
    "# 2.1  Hilfsfunktion\n",
    "def cluster_representative(label):\n",
    "    emb_center = centers[label]\n",
    "    # alle Originalfragen dieses Clusters\n",
    "    cand = rep_df[rep_df[\"cluster\"] == label]\n",
    "    sims = cosine_similarity(np.vstack(cand[\"embedding\"]), [emb_center]).ravel()\n",
    "    best_idx = sims.argmax()\n",
    "    return cand.iloc[best_idx][\"Frage_Text\"]\n",
    "\n",
    "# 2.2  Dictionary anlegen\n",
    "repr_dict = {lbl: cluster_representative(lbl) for lbl in centers.index}\n"
   ]
  },
  {
   "cell_type": "code",
   "execution_count": 11,
   "id": "c7cce1dc",
   "metadata": {},
   "outputs": [],
   "source": [
    "# 3 | DataFrame der neu zugeordneten Fragen bauen\n",
    "# 3.1  Nur Fragen, die tatsächlich reassigned wurden\n",
    "reassigned_df = noise_df[noise_df[\"reassign_to\"].notna()].copy()\n",
    "\n",
    "# 3.2  Hauptfrage dazumerken\n",
    "reassigned_df[\"cluster_main_question\"] = reassigned_df[\"reassign_to\"].map(repr_dict)\n",
    "\n",
    "# 3.3  Optional sortieren nach Zielcluster\n",
    "reassigned_df.sort_values(\"reassign_to\", inplace=True)\n"
   ]
  },
  {
   "cell_type": "code",
   "execution_count": 12,
   "id": "88b36400",
   "metadata": {},
   "outputs": [
    {
     "name": "stdout",
     "output_type": "stream",
     "text": [
      "                                                                                                                                            Frage_Text  \\\n",
      "6459                                                                                                                                       Sozialwerke   \n",
      "3833                                                                                                                                Soziale Sicherheit   \n",
      "3027        Sollen Sozialhilfebeziehende weiterhin zu einem Vorbezug aus der Pensionskasse verpflichtet werden können (vor dem Bezug von Sozialhilfe)?   \n",
      "1185                                                                          Soll das Land im Bereich «Soziale Wohlfahrt» mehr oder weniger ausgeben?   \n",
      "71                                                                            Soll der Bund im Bereich \"Soziale Wohlfahrt\" mehr oder weniger ausgeben?   \n",
      "69                                                                       Soll der Bund im Bereich \"Öffentliche Sicherheit\" mehr oder weniger ausgeben?   \n",
      "3693                                                                   Soll das Land im Bereich \"Öffentliche Sicherheit\" mehr oder weniger ausgeben?\\n   \n",
      "5855                                                                                                                               Transports publics    \n",
      "3126                                        Befürworten Sie eine lokalerere und nachhaltigere Beschaffung des Mittagstisch-Caterings an Wiler Schulen?   \n",
      "2814  Wie beurteilen Sie folgende Aussage: \"Es ist notwendig, dass der Staat durch Umverteilung die Einkommens- und Vermögensunterschiede ausgleicht.\"   \n",
      "\n",
      "      reassign_to  \\\n",
      "6459          1.0   \n",
      "3833          1.0   \n",
      "3027          1.0   \n",
      "1185          1.0   \n",
      "71            1.0   \n",
      "69            2.0   \n",
      "3693          2.0   \n",
      "5855          3.0   \n",
      "3126          5.0   \n",
      "2814          6.0   \n",
      "\n",
      "                                                                                                                                                                    cluster_main_question  \n",
      "6459                                                                                                                                                                    Soziale Wohlfahrt  \n",
      "3833                                                                                                                                                                    Soziale Wohlfahrt  \n",
      "3027                                                                                                                                                                    Soziale Wohlfahrt  \n",
      "1185                                                                                                                                                                    Soziale Wohlfahrt  \n",
      "71                                                                                                                                                                      Soziale Wohlfahrt  \n",
      "69                                                                                                                                                     Öffentliche Ordnung und Sicherheit  \n",
      "3693                                                                                                                                                   Öffentliche Ordnung und Sicherheit  \n",
      "5855                                                                                                                                                                              Verkehr  \n",
      "3126  Soll sich die Gemeinde stärker für eine nachhaltige Ernährung einsetzen (z.B. mit Schulprojekten und Plakatkampagnen, die auch über vegane und vegetarische Ernährung informieren)?  \n",
      "2814                                                                       Wie beurteilen Sie diese Aussage: \"Vermögende sollen sich stärker an der Finanzierung des Staates beteiligen.\"  \n"
     ]
    },
    {
     "data": {
      "text/html": [
       "<div>\n",
       "<style scoped>\n",
       "    .dataframe tbody tr th:only-of-type {\n",
       "        vertical-align: middle;\n",
       "    }\n",
       "\n",
       "    .dataframe tbody tr th {\n",
       "        vertical-align: top;\n",
       "    }\n",
       "\n",
       "    .dataframe thead th {\n",
       "        text-align: right;\n",
       "    }\n",
       "</style>\n",
       "<table border=\"1\" class=\"dataframe\">\n",
       "  <thead>\n",
       "    <tr style=\"text-align: right;\">\n",
       "      <th></th>\n",
       "      <th>Frage_Text</th>\n",
       "      <th>cluster_main_question</th>\n",
       "    </tr>\n",
       "  </thead>\n",
       "  <tbody>\n",
       "    <tr>\n",
       "      <th>3559</th>\n",
       "      <td>Städtische Angestellte können in Bern heute mit 63 Jahren in Rente gehen. Soll das ordentliche Rentenalter auf die üblichen 65 Jahre erhöht werden?</td>\n",
       "      <td>Befürworten Sie eine Erhöhung des Rentenalters für Frauen und Männer (z.B. auf 67 Jahre)?</td>\n",
       "    </tr>\n",
       "    <tr>\n",
       "      <th>3656</th>\n",
       "      <td>Sind Sie dafür, das ordentliche Renteneintrittsalter an die durchschnittliche Lebenserwartung anzupassen?</td>\n",
       "      <td>Befürworten Sie eine Erhöhung des Rentenalters für Frauen und Männer (z.B. auf 67 Jahre)?</td>\n",
       "    </tr>\n",
       "  </tbody>\n",
       "</table>\n",
       "</div>"
      ],
      "text/plain": [
       "                                                                                                                                               Frage_Text  \\\n",
       "3559  Städtische Angestellte können in Bern heute mit 63 Jahren in Rente gehen. Soll das ordentliche Rentenalter auf die üblichen 65 Jahre erhöht werden?   \n",
       "3656                                            Sind Sie dafür, das ordentliche Renteneintrittsalter an die durchschnittliche Lebenserwartung anzupassen?   \n",
       "\n",
       "                                                                          cluster_main_question  \n",
       "3559  Befürworten Sie eine Erhöhung des Rentenalters für Frauen und Männer (z.B. auf 67 Jahre)?  \n",
       "3656  Befürworten Sie eine Erhöhung des Rentenalters für Frauen und Männer (z.B. auf 67 Jahre)?  "
      ]
     },
     "execution_count": 12,
     "metadata": {},
     "output_type": "execute_result"
    }
   ],
   "source": [
    "# 4 | Ergebnisse anschauen\n",
    "\n",
    "pd.set_option('display.max_colwidth', None)\n",
    "\n",
    "# 4.1 Schnell-Übersicht\n",
    "print(reassigned_df[[\"Frage_Text\", \"reassign_to\", \"cluster_main_question\"]].head(10))\n",
    "\n",
    "\n",
    "# 4.2 Für einen bestimmten Cluster\n",
    "\n",
    "CLUSTER_ID = 7\n",
    "reassigned_df[reassigned_df[\"reassign_to\"] == CLUSTER_ID]   \\\n",
    "    [[\"Frage_Text\", \"cluster_main_question\"]]\n"
   ]
  }
 ],
 "metadata": {
  "kernelspec": {
   "display_name": "Python 3",
   "language": "python",
   "name": "python3"
  },
  "language_info": {
   "codemirror_mode": {
    "name": "ipython",
    "version": 3
   },
   "file_extension": ".py",
   "mimetype": "text/x-python",
   "name": "python",
   "nbconvert_exporter": "python",
   "pygments_lexer": "ipython3",
   "version": "3.11.11"
  }
 },
 "nbformat": 4,
 "nbformat_minor": 5
}
