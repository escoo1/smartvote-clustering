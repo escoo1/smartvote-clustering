{
 "cells": [
  {
   "cell_type": "code",
   "execution_count": 1,
   "id": "a73994f2",
   "metadata": {},
   "outputs": [],
   "source": [
    "import pandas as pd\n",
    "\n",
    "# Original-DataFrame laden\n",
    "df = pd.read_excel(\"../../data/df_de_final_duplikate_markiert.xlsx\", engine=\"openpyxl\")\n"
   ]
  },
  {
   "cell_type": "code",
   "execution_count": 4,
   "id": "d0b904f1",
   "metadata": {},
   "outputs": [],
   "source": [
    "# Cluster_Duplikate neu erstellen\n",
    "df[\"Cluster_Duplikate\"] = -1\n",
    "\n",
    "for idx, gruppe in enumerate(df[\"Duplikat_Gruppe\"].dropna().unique()):\n",
    "    df.loc[df[\"Duplikat_Gruppe\"] == gruppe, \"Cluster_Duplikate\"] = idx\n"
   ]
  },
  {
   "cell_type": "code",
   "execution_count": 2,
   "id": "2ed3f1bc",
   "metadata": {},
   "outputs": [],
   "source": [
    "# Das BERT-Clustering-Resultat laden\n",
    "df_bert = pd.read_excel(\"../../data/df_de_final_clustered_bert.xlsx\", engine=\"openpyxl\")\n"
   ]
  },
  {
   "cell_type": "code",
   "execution_count": 5,
   "id": "ff91d102",
   "metadata": {},
   "outputs": [],
   "source": [
    "# Mapping-Tabelle erstellen\n",
    "id_to_cluster = df_bert.set_index(\"ID_gesamt\")[\"Cluster_HDBSCAN\"].to_dict()\n",
    "\n",
    "# Neue Spalte im originalen df\n",
    "def assign_bert_cluster(row):\n",
    "    if row[\"Cluster_Duplikate\"] != -1:\n",
    "        # Wenn es eine Duplikat-Gruppe gab: Behalte Cluster_Duplikate\n",
    "        return row[\"Cluster_Duplikate\"]\n",
    "    else:\n",
    "        # Wenn es keine Duplikat-Gruppe gab: nutze Cluster_HDBSCAN von BERT\n",
    "        return id_to_cluster.get(row[\"ID_gesamt\"], -1)  # Falls keine Zuordnung, dann -1 (Noise)\n",
    "\n",
    "df[\"Cluster_Final_BERT\"] = df.apply(assign_bert_cluster, axis=1)\n"
   ]
  },
  {
   "cell_type": "code",
   "execution_count": 6,
   "id": "a1f165eb",
   "metadata": {},
   "outputs": [
    {
     "name": "stdout",
     "output_type": "stream",
     "text": [
      "Cluster_Final_BERT\n",
      "-1       1900\n",
      " 0         59\n",
      " 1         59\n",
      " 2         60\n",
      " 3          3\n",
      "         ... \n",
      " 1310       3\n",
      " 1311       3\n",
      " 1312       2\n",
      " 1313       3\n",
      " 1314       2\n",
      "Name: count, Length: 1316, dtype: int64\n"
     ]
    }
   ],
   "source": [
    "cluster_counts = df[\"Cluster_Final_BERT\"].value_counts().sort_index()\n",
    "print(cluster_counts)\n"
   ]
  },
  {
   "cell_type": "code",
   "execution_count": 7,
   "id": "3d352e17",
   "metadata": {},
   "outputs": [
    {
     "name": "stdout",
     "output_type": "stream",
     "text": [
      "Anteil geclusterte Fragen: 5559 / 7459 = 74.53%\n"
     ]
    }
   ],
   "source": [
    "anzahl_gesamt = len(df)\n",
    "anzahl_geclusterte = (df[\"Cluster_Final_BERT\"] != -1).sum()\n",
    "print(f\"Anteil geclusterte Fragen: {anzahl_geclusterte} / {anzahl_gesamt} = {anzahl_geclusterte / anzahl_gesamt:.2%}\")\n"
   ]
  }
 ],
 "metadata": {
  "kernelspec": {
   "display_name": "Python 3",
   "language": "python",
   "name": "python3"
  },
  "language_info": {
   "codemirror_mode": {
    "name": "ipython",
    "version": 3
   },
   "file_extension": ".py",
   "mimetype": "text/x-python",
   "name": "python",
   "nbconvert_exporter": "python",
   "pygments_lexer": "ipython3",
   "version": "3.11.11"
  }
 },
 "nbformat": 4,
 "nbformat_minor": 5
}
