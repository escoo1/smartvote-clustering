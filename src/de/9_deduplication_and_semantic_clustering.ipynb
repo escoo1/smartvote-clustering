{
 "cells": [
  {
   "cell_type": "code",
   "execution_count": 8,
   "id": "19506cf8",
   "metadata": {},
   "outputs": [],
   "source": [
    "import pandas as pd\n",
    "\n",
    "df = pd.read_excel(\"../../data/df_de_final_duplikate_markiert.xlsx\", engine=\"openpyxl\")\n"
   ]
  },
  {
   "cell_type": "code",
   "execution_count": 9,
   "id": "7f5b6fdd",
   "metadata": {},
   "outputs": [],
   "source": [
    "# Neue Spalte für Duplikat-Clustering\n",
    "df[\"Cluster_Duplikate\"] = -1\n",
    "\n",
    "# Cluster-Nummern zuweisen für jede Duplikat_Gruppe\n",
    "for idx, gruppe in enumerate(df[\"Duplikat_Gruppe\"].dropna().unique()):\n",
    "    df.loc[df[\"Duplikat_Gruppe\"] == gruppe, \"Cluster_Duplikate\"] = idx\n"
   ]
  },
  {
   "cell_type": "code",
   "execution_count": 10,
   "id": "c7bd5521",
   "metadata": {},
   "outputs": [
    {
     "name": "stdout",
     "output_type": "stream",
     "text": [
      "Anzahl einzigartiger Fragen: 1316\n"
     ]
    }
   ],
   "source": [
    "# Nur eine Frage pro Duplikat_Gruppe behalten (oder Singletons)\n",
    "df_unique = df.drop_duplicates(subset=[\"Duplikat_Gruppe\"], keep=\"first\").copy()\n",
    "\n",
    "print(f\"Anzahl einzigartiger Fragen: {len(df_unique)}\")\n"
   ]
  },
  {
   "cell_type": "code",
   "execution_count": 11,
   "id": "0f9b02cc",
   "metadata": {},
   "outputs": [],
   "source": [
    "import spacy\n",
    "import numpy as np\n",
    "\n",
    "# spaCy Modell laden\n",
    "nlp = spacy.load('de_core_news_lg')\n",
    "\n",
    "# Normierte Fragetexte verwenden\n",
    "texts = df_unique['Frage_Text'].str.lower().str.strip().tolist()\n",
    "docs = list(nlp.pipe(texts))\n",
    "vectors = np.array([doc.vector for doc in docs])\n"
   ]
  },
  {
   "cell_type": "code",
   "execution_count": 12,
   "id": "d23d3222",
   "metadata": {},
   "outputs": [],
   "source": [
    "from sklearn.metrics.pairwise import cosine_distances\n",
    "\n",
    "distance_matrix = cosine_distances(vectors).astype(np.float64)\n"
   ]
  },
  {
   "cell_type": "code",
   "execution_count": 13,
   "id": "bc839028",
   "metadata": {},
   "outputs": [],
   "source": [
    "import hdbscan\n",
    "\n",
    "clusterer = hdbscan.HDBSCAN(min_cluster_size=2, metric=\"precomputed\")\n",
    "labels_hdbscan = clusterer.fit_predict(distance_matrix)\n",
    "\n",
    "# Cluster-Labels in DataFrame speichern\n",
    "df_unique[\"Cluster_HDBSCAN\"] = labels_hdbscan\n"
   ]
  },
  {
   "cell_type": "code",
   "execution_count": 14,
   "id": "c78e7cac",
   "metadata": {},
   "outputs": [],
   "source": [
    "# Mapping: ID_gesamt --> Cluster_HDBSCAN\n",
    "id_to_cluster = df_unique.set_index(\"ID_gesamt\")[\"Cluster_HDBSCAN\"].to_dict()\n",
    "\n",
    "def assign_final_cluster(row):\n",
    "    if row[\"Cluster_Duplikate\"] != -1:\n",
    "        return row[\"Cluster_Duplikate\"]\n",
    "    else:\n",
    "        return id_to_cluster.get(row[\"ID_gesamt\"], -1)\n",
    "\n",
    "df[\"Cluster_Final\"] = df.apply(assign_final_cluster, axis=1)\n"
   ]
  },
  {
   "cell_type": "code",
   "execution_count": 15,
   "id": "ea19e52c",
   "metadata": {},
   "outputs": [],
   "source": [
    "df.to_excel(\"../../data/df_de_final_clustered.xlsx\", index=False, engine=\"openpyxl\")\n"
   ]
  },
  {
   "cell_type": "code",
   "execution_count": 16,
   "id": "a41cf59c",
   "metadata": {},
   "outputs": [
    {
     "name": "stdout",
     "output_type": "stream",
     "text": [
      "Anzahl einzigartiger Fragen insgesamt: 1901\n",
      "Anzahl einzigartiger Fragen, die durch HDBSCAN geclustert wurden: 1\n",
      "Effektivität von HDBSCAN (in %): 0.05%\n"
     ]
    }
   ],
   "source": [
    "import pandas as pd\n",
    "\n",
    "# Ergebnis-DataFrame laden\n",
    "df = pd.read_excel(\"../../data/df_de_final_clustered.xlsx\", engine=\"openpyxl\")\n",
    "\n",
    "# 1. Alle Fragen, die KEIN Duplikat waren (Cluster_Duplikate == -1)\n",
    "einzigartige_fragen = df[df[\"Cluster_Duplikate\"] == -1]\n",
    "\n",
    "# 2. Innerhalb der einzigartigen Fragen:\n",
    "# Welche sind durch HDBSCAN in ein echtes Cluster (> -1) gekommen?\n",
    "geclusterte_einzigartige_fragen = einzigartige_fragen[einzigartige_fragen[\"Cluster_Final\"] != -1]\n",
    "\n",
    "# 3. Anzahl berechnen\n",
    "anzahl_einzigartige = len(einzigartige_fragen)\n",
    "anzahl_geclusterte_einzigartige = len(geclusterte_einzigartige_fragen)\n",
    "\n",
    "# 4. Prozentsatz\n",
    "effektivitätsquote = anzahl_geclusterte_einzigartige / anzahl_einzigartige * 100\n",
    "\n",
    "# Ausgabe\n",
    "print(f\"Anzahl einzigartiger Fragen insgesamt: {anzahl_einzigartige}\")\n",
    "print(f\"Anzahl einzigartiger Fragen, die durch HDBSCAN geclustert wurden: {anzahl_geclusterte_einzigartige}\")\n",
    "print(f\"Effektivität von HDBSCAN (in %): {effektivitätsquote:.2f}%\")\n"
   ]
  }
 ],
 "metadata": {
  "kernelspec": {
   "display_name": "Python 3",
   "language": "python",
   "name": "python3"
  },
  "language_info": {
   "codemirror_mode": {
    "name": "ipython",
    "version": 3
   },
   "file_extension": ".py",
   "mimetype": "text/x-python",
   "name": "python",
   "nbconvert_exporter": "python",
   "pygments_lexer": "ipython3",
   "version": "3.11.11"
  }
 },
 "nbformat": 4,
 "nbformat_minor": 5
}
