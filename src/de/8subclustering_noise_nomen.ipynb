{
 "cells": [
  {
   "cell_type": "code",
   "execution_count": 1,
   "id": "e74f19fc",
   "metadata": {},
   "outputs": [],
   "source": [
    "import pandas as pd\n",
    "import numpy as np\n",
    "import spacy\n",
    "from spacy.tokens import DocBin\n",
    "from sklearn.metrics.pairwise import cosine_similarity\n",
    "from numpy import mean\n"
   ]
  },
  {
   "cell_type": "code",
   "execution_count": 2,
   "id": "1e1afead",
   "metadata": {},
   "outputs": [],
   "source": [
    "# Zeichenanzahl pro Spalte erhöhen\n",
    "pd.set_option(\"display.max_colwidth\", None)\n"
   ]
  },
  {
   "cell_type": "code",
   "execution_count": 3,
   "id": "8b76d8e7",
   "metadata": {},
   "outputs": [],
   "source": [
    "# spaCy-Modell laden\n",
    "nlp = spacy.load(\"de_core_news_lg\")\n",
    "\n",
    "# DataFrame mit Haupt-Cluster laden\n",
    "df = pd.read_excel(\"../../data/df_de_final_duplikate_markiert_HDBSCAN.xlsx\")\n",
    "\n",
    "# spaCy-Docs laden (die du vorher vektorisiert hast)\n",
    "doc_bin = DocBin().from_disk(\"docs_de.spacy\")\n",
    "docs = list(doc_bin.get_docs(nlp.vocab))\n"
   ]
  },
  {
   "cell_type": "code",
   "execution_count": 4,
   "id": "99bc4a22",
   "metadata": {},
   "outputs": [],
   "source": [
    "# Nur Fragen im HDBSCAN-Noise-Cluster\n",
    "df_noise = df[df[\"HDBSCAN_Cluster\"] == -1].copy()\n",
    "\n",
    "# Die zugehörigen Docs holen\n",
    "docs_noise = [docs[i] for i in df[df[\"HDBSCAN_Cluster\"] == -1].index]\n"
   ]
  },
  {
   "cell_type": "code",
   "execution_count": 5,
   "id": "eeac9baa",
   "metadata": {},
   "outputs": [
    {
     "name": "stdout",
     "output_type": "stream",
     "text": [
      "1538\n"
     ]
    }
   ],
   "source": [
    "print(len(df_noise))"
   ]
  },
  {
   "cell_type": "code",
   "execution_count": 6,
   "id": "7fd2f9c8",
   "metadata": {},
   "outputs": [],
   "source": [
    "noun_vectors = []\n",
    "\n",
    "for doc in docs_noise:\n",
    "    # Alle Nomen mit Vektor\n",
    "    nouns = [token.vector for token in doc if token.pos_ == \"NOUN\" and token.has_vector]\n",
    "    \n",
    "    if nouns:\n",
    "        noun_vector = mean(nouns, axis=0)\n",
    "    else:\n",
    "        noun_vector = doc.vector  # Fallback: ganzer Satzvektor\n",
    "    \n",
    "    noun_vectors.append(noun_vector)\n",
    "\n",
    "noun_vectors = np.array(noun_vectors)\n"
   ]
  },
  {
   "cell_type": "code",
   "execution_count": 7,
   "id": "51e1f778",
   "metadata": {},
   "outputs": [],
   "source": [
    "# Cosine-Similarity\n",
    "similarity_matrix_nouns = cosine_similarity(noun_vectors)\n",
    "\n",
    "# Optional: Distance-Matrix (für HDBSCAN oder DBSCAN)\n",
    "distance_matrix_nouns = (1 - cosine_similarity(noun_vectors)).astype(np.float64)\n"
   ]
  },
  {
   "cell_type": "code",
   "execution_count": 8,
   "id": "fe6ee38f",
   "metadata": {},
   "outputs": [],
   "source": [
    "import hdbscan\n"
   ]
  },
  {
   "cell_type": "code",
   "execution_count": 9,
   "id": "e8a24b3c",
   "metadata": {},
   "outputs": [],
   "source": [
    "# HDBSCAN auf Distance-Matrix (1 - cosine similarity)\n",
    "subclusterer = hdbscan.HDBSCAN(\n",
    "    min_cluster_size=2,\n",
    "    min_samples=1,\n",
    "    metric=\"precomputed\"\n",
    ")\n",
    "\n",
    "labels_sub = subclusterer.fit_predict(distance_matrix_nouns)\n"
   ]
  },
  {
   "cell_type": "code",
   "execution_count": 10,
   "id": "07487c3c",
   "metadata": {},
   "outputs": [],
   "source": [
    "df_noise[\"Subcluster_Nomen\"] = labels_sub\n"
   ]
  },
  {
   "cell_type": "code",
   "execution_count": 11,
   "id": "ddf7972b",
   "metadata": {},
   "outputs": [
    {
     "name": "stdout",
     "output_type": "stream",
     "text": [
      "Subcluster_Nomen\n",
      "-1      514\n",
      " 0        2\n",
      " 1        2\n",
      " 2        4\n",
      " 3        3\n",
      "       ... \n",
      " 391      2\n",
      " 392      4\n",
      " 393      2\n",
      " 394      2\n",
      " 395      5\n",
      "Name: count, Length: 397, dtype: int64\n"
     ]
    },
    {
     "data": {
      "text/html": [
       "<div>\n",
       "<style scoped>\n",
       "    .dataframe tbody tr th:only-of-type {\n",
       "        vertical-align: middle;\n",
       "    }\n",
       "\n",
       "    .dataframe tbody tr th {\n",
       "        vertical-align: top;\n",
       "    }\n",
       "\n",
       "    .dataframe thead th {\n",
       "        text-align: right;\n",
       "    }\n",
       "</style>\n",
       "<table border=\"1\" class=\"dataframe\">\n",
       "  <thead>\n",
       "    <tr style=\"text-align: right;\">\n",
       "      <th></th>\n",
       "      <th>Frage_Text</th>\n",
       "    </tr>\n",
       "  </thead>\n",
       "  <tbody>\n",
       "    <tr>\n",
       "      <th>6</th>\n",
       "      <td>Wie beurteilen Sie diese Aussage: \"Vermögende sollen sich stärker an der Finanzierung des Staates beteiligen.\"</td>\n",
       "    </tr>\n",
       "    <tr>\n",
       "      <th>3700</th>\n",
       "      <td>Wie beurteilen Sie folgende Aussage: \"Vermögende sollen sich stärker als heute an der Finanzierung des Staates beteiligen.\"</td>\n",
       "    </tr>\n",
       "  </tbody>\n",
       "</table>\n",
       "</div>"
      ],
      "text/plain": [
       "                                                                                                                       Frage_Text\n",
       "6                  Wie beurteilen Sie diese Aussage: \"Vermögende sollen sich stärker an der Finanzierung des Staates beteiligen.\"\n",
       "3700  Wie beurteilen Sie folgende Aussage: \"Vermögende sollen sich stärker als heute an der Finanzierung des Staates beteiligen.\""
      ]
     },
     "execution_count": 11,
     "metadata": {},
     "output_type": "execute_result"
    }
   ],
   "source": [
    "# Anzahl erkannter Subcluster anzeigen\n",
    "print(df_noise[\"Subcluster_Nomen\"].value_counts().sort_index())\n",
    "\n",
    "# Beispiel-Fragen aus Cluster 0\n",
    "df_noise[df_noise[\"Subcluster_Nomen\"] == 154][[\"Frage_Text\"]].head()\n"
   ]
  },
  {
   "cell_type": "code",
   "execution_count": 12,
   "id": "3dd9cc5e",
   "metadata": {},
   "outputs": [
    {
     "data": {
      "text/plain": [
       "ID_Wahl                                                                                                                          2.0\n",
       "Datum                                                                                                            2019-10-20 00:00:00\n",
       "Frage_ID                                                                                                                        31.0\n",
       "Frage_Text            Wie beurteilen Sie diese Aussage: \"Vermögende sollen sich stärker an der Finanzierung des Staates beteiligen.\"\n",
       "Frage_Typ                                                                                                                   options7\n",
       "Bereich_ID                                                                                                                    4734.0\n",
       "Bereich                                                                                                                Werthaltungen\n",
       "ID_gesamt                                                                                                                     Q00006\n",
       "Sprache                                                                                                                           de\n",
       "Duplikat                                                                                                                        True\n",
       "Frage_Hash                                                                                          d717627dc6d0d8b3c09432f355181f17\n",
       "Duplikat_Gruppe                                                                                     d717627dc6d0d8b3c09432f355181f17\n",
       "HDBSCAN_Cluster                                                                                                                   -1\n",
       "Cluster_Top_Wörter                                                                                              Noise / kein Cluster\n",
       "Subcluster_Nomen                                                                                                                 154\n",
       "Name: 6, dtype: object"
      ]
     },
     "execution_count": 12,
     "metadata": {},
     "output_type": "execute_result"
    }
   ],
   "source": [
    "df_noise.loc[6]"
   ]
  },
  {
   "cell_type": "code",
   "execution_count": 15,
   "id": "cb6f9b31",
   "metadata": {},
   "outputs": [
    {
     "data": {
      "text/html": [
       "<div>\n",
       "<style scoped>\n",
       "    .dataframe tbody tr th:only-of-type {\n",
       "        vertical-align: middle;\n",
       "    }\n",
       "\n",
       "    .dataframe tbody tr th {\n",
       "        vertical-align: top;\n",
       "    }\n",
       "\n",
       "    .dataframe thead th {\n",
       "        text-align: right;\n",
       "    }\n",
       "</style>\n",
       "<table border=\"1\" class=\"dataframe\">\n",
       "  <thead>\n",
       "    <tr style=\"text-align: right;\">\n",
       "      <th></th>\n",
       "      <th>Frage_Text</th>\n",
       "    </tr>\n",
       "  </thead>\n",
       "  <tbody>\n",
       "  </tbody>\n",
       "</table>\n",
       "</div>"
      ],
      "text/plain": [
       "Empty DataFrame\n",
       "Columns: [Frage_Text]\n",
       "Index: []"
      ]
     },
     "execution_count": 15,
     "metadata": {},
     "output_type": "execute_result"
    }
   ],
   "source": [
    "df_noise[(df_noise[\"Subcluster_Nomen\"] == -1) & (df_noise[\"Duplikat\"] == True)][[\"Frage_Text\"]]\n"
   ]
  }
 ],
 "metadata": {
  "kernelspec": {
   "display_name": "Python 3",
   "language": "python",
   "name": "python3"
  },
  "language_info": {
   "codemirror_mode": {
    "name": "ipython",
    "version": 3
   },
   "file_extension": ".py",
   "mimetype": "text/x-python",
   "name": "python",
   "nbconvert_exporter": "python",
   "pygments_lexer": "ipython3",
   "version": "3.11.11"
  }
 },
 "nbformat": 4,
 "nbformat_minor": 5
}
