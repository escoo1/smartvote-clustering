{
 "cells": [
  {
   "cell_type": "code",
   "execution_count": 1,
   "id": "de63d704",
   "metadata": {},
   "outputs": [],
   "source": [
    "import pandas as pd\n",
    "import numpy as np\n",
    "from sklearn.cluster import AgglomerativeClustering\n",
    "from sklearn.metrics.pairwise import cosine_distances\n",
    "from sentence_transformers import SentenceTransformer\n"
   ]
  },
  {
   "cell_type": "code",
   "execution_count": 2,
   "id": "4f39172e",
   "metadata": {},
   "outputs": [],
   "source": [
    "df = pd.read_excel(\"../../data/df_de_final_clustered_bert.xlsx\", engine=\"openpyxl\")\n"
   ]
  },
  {
   "cell_type": "code",
   "execution_count": 3,
   "id": "dd233b33",
   "metadata": {},
   "outputs": [],
   "source": [
    "df[\"noise_cluster\"] = -99  # -99 = Platzhalter für \"nicht im Re-Clustering enthalten\"\n"
   ]
  },
  {
   "cell_type": "code",
   "execution_count": 4,
   "id": "9b21f792",
   "metadata": {},
   "outputs": [
    {
     "name": "stdout",
     "output_type": "stream",
     "text": [
      "Anzahl Noise-Fragen: 408\n"
     ]
    }
   ],
   "source": [
    "df_noise = df[df[\"Cluster_HDBSCAN\"] == -1].copy()\n",
    "print(f\"Anzahl Noise-Fragen: {len(df_noise)}\")\n"
   ]
  },
  {
   "cell_type": "code",
   "execution_count": 5,
   "id": "d4a8eb86",
   "metadata": {},
   "outputs": [
    {
     "data": {
      "application/vnd.jupyter.widget-view+json": {
       "model_id": "8bc073b5b003427987502e89ac455fdd",
       "version_major": 2,
       "version_minor": 0
      },
      "text/plain": [
       "Batches:   0%|          | 0/13 [00:00<?, ?it/s]"
      ]
     },
     "metadata": {},
     "output_type": "display_data"
    }
   ],
   "source": [
    "model = SentenceTransformer('distiluse-base-multilingual-cased-v2')\n",
    "noise_vectors = model.encode(df_noise[\"Frage_Text\"].tolist(), convert_to_numpy=True, show_progress_bar=True)\n"
   ]
  },
  {
   "cell_type": "code",
   "execution_count": 6,
   "id": "320d47e4",
   "metadata": {},
   "outputs": [],
   "source": [
    "dist_matrix = cosine_distances(noise_vectors)\n"
   ]
  },
  {
   "cell_type": "code",
   "execution_count": 18,
   "id": "f027ce01",
   "metadata": {},
   "outputs": [
    {
     "name": "stdout",
     "output_type": "stream",
     "text": [
      "Anzahl neu gebildeter Cluster: 236\n"
     ]
    }
   ],
   "source": [
    "agglo = AgglomerativeClustering(\n",
    "    n_clusters=None,  # automatischer Cut\n",
    "    distance_threshold=0.4,  # je kleiner, desto feiner\n",
    "    metric='precomputed',\n",
    "    linkage='average'\n",
    ")\n",
    "labels = agglo.fit_predict(dist_matrix)\n",
    "print(f\"Anzahl neu gebildeter Cluster: {len(set(labels))}\")\n"
   ]
  },
  {
   "cell_type": "code",
   "execution_count": 19,
   "id": "2b0089a4",
   "metadata": {},
   "outputs": [
    {
     "name": "stdout",
     "output_type": "stream",
     "text": [
      "Anzahl neu gebildeter Cluster (exkl. Noise): 236\n",
      "\n",
      "Fragen pro Cluster:\n",
      "0       3\n",
      "1      10\n",
      "2      10\n",
      "3       5\n",
      "4       7\n",
      "       ..\n",
      "231     1\n",
      "232     1\n",
      "233     1\n",
      "234     1\n",
      "235     1\n",
      "Name: count, Length: 236, dtype: int64\n"
     ]
    }
   ],
   "source": [
    "# Anzahl eindeutiger Cluster\n",
    "unique_clusters = np.unique(labels)\n",
    "print(f\"Anzahl neu gebildeter Cluster (exkl. Noise): {len(unique_clusters)}\")\n",
    "\n",
    "# Häufigkeit der Clustergrössen\n",
    "cluster_counts = pd.Series(labels).value_counts().sort_index()\n",
    "print(\"\\nFragen pro Cluster:\")\n",
    "print(cluster_counts)"
   ]
  },
  {
   "cell_type": "code",
   "execution_count": 20,
   "id": "df3386f8",
   "metadata": {},
   "outputs": [
    {
     "name": "stdout",
     "output_type": "stream",
     "text": [
      "\n",
      "--- Cluster 10 (2 Fragen) ---\n",
      "- Aargauer Gemeinden können die Unterbringung von Asylsuchende durch die Entrichtung einer Ersatzabgabe umgehen. Befürworten Sie diese Praxis?\n",
      "- Sind Sie der Meinung, dass Personen, deren Asylgesuch abgelehnt wurde, nur noch Nothilfe in Form von Naturalien erhalten sollen?\n",
      "\n",
      "--- Cluster 11 (2 Fragen) ---\n",
      "- Soll die Netzneutralität (gleichberechtigte Datenübertragung aller Angebote im Internet) per Gesetz verankert werden?\n",
      "- Soll die Versorgung aller Gemeinden mit schnellem Internet (z.B. Glasfaser) vom Kanton gefördert werden?\n",
      "\n",
      "--- Cluster 12 (2 Fragen) ---\n",
      "- Soll auf die vom Bundesrat vorgeschlagene Verschärfung der Zulassungsbedingungen zum Zivildienst verzichtet werden?\n",
      "- Soll der Bundesrat ein Freihandelsabkommen mit den USA anstreben?\n",
      "\n",
      "--- Cluster 13 (2 Fragen) ---\n",
      "- Würden Sie die Einführung der Widerspruchslösung bei der Organspende befürworten?\n",
      "- Befürworten Sie eine Begrenzung des Pendlerabzugs?\n",
      "\n",
      "--- Cluster 14 (2 Fragen) ---\n",
      "- Der Bund möchte ein oder zwei neue Bundeszentren für Asylsuchende in der Nordwestschweiz bauen. Soll der Kanton Baselland ein solches Asylzentrum des Bundes aufnehmen?\n",
      "- Unterstützen Sie den Bau der Asylunterkunft in Flumenthal/Deitingen, welche dem Bund als Ausreisezentrum dienen soll?\n"
     ]
    }
   ],
   "source": [
    "# Clusterlabels + Texte zusammenfassen\n",
    "df_overview = pd.DataFrame({\n",
    "    \"Frage_Text\": df_noise[\"Frage_Text\"].tolist(),\n",
    "    \"Cluster\": labels\n",
    "})\n",
    "\n",
    "def beispiele_anzeigen(df, cluster_ids=None, n=3):\n",
    "    if cluster_ids is None:\n",
    "        cluster_ids = df[\"Cluster\"].unique()\n",
    "    for cid in sorted(cluster_ids):\n",
    "        fragen = df[df[\"Cluster\"] == cid][\"Frage_Text\"]\n",
    "        print(f\"\\n--- Cluster {cid} ({len(fragen)} Fragen) ---\")\n",
    "        print(\"\\n\".join(f\"- {f}\" for f in fragen.sample(min(n, len(fragen)), random_state=1)))\n",
    "\n",
    "# Beispiel: zeige 3 Fragen aus den ersten 5 Clustern\n",
    "beispiele_anzeigen(df_overview, cluster_ids=sorted(df_overview[\"Cluster\"].unique())[10:15])\n"
   ]
  },
  {
   "cell_type": "code",
   "execution_count": 21,
   "id": "745731b3",
   "metadata": {},
   "outputs": [
    {
     "name": "stdout",
     "output_type": "stream",
     "text": [
      "Top 20 häufigste Wörter in den Noise-Fragen:\n",
      "der: 282\n",
      "die: 235\n",
      "sie: 191\n",
      "soll: 140\n",
      "kanton: 140\n",
      "für: 132\n",
      "befürworten: 126\n",
      "werden: 123\n",
      "von: 108\n",
      "und: 101\n",
      "im: 98\n",
      "eine: 83\n",
      "den: 75\n",
      "in: 74\n",
      "des: 67\n",
      "auf: 61\n",
      "sollen: 60\n",
      "das: 56\n",
      "zur: 45\n",
      "stärker: 42\n"
     ]
    }
   ],
   "source": [
    "import pandas as pd\n",
    "from collections import Counter\n",
    "import re\n",
    "\n",
    "# 1. Nur Noise-Fragen extrahieren\n",
    "df_noise = df[df[\"Cluster_HDBSCAN\"] == -1].copy()\n",
    "\n",
    "# 2. Alle Texte zu einem einzigen grossen String verbinden\n",
    "text_corpus = \" \".join(df_noise[\"Frage_Text\"].tolist())\n",
    "\n",
    "# 3. Tokenisieren (nur Wörter, keine Sonderzeichen oder Zahlen)\n",
    "tokens = re.findall(r'\\b[a-zäöüßA-ZÄÖÜ]{2,}\\b', text_corpus)  # nur Wörter mit 2+ Buchstaben\n",
    "\n",
    "# 4. Alles in Kleinbuchstaben\n",
    "tokens = [t.lower() for t in tokens]\n",
    "\n",
    "# 5. Häufigkeitsanalyse\n",
    "counter = Counter(tokens)\n",
    "top_20 = counter.most_common(20)\n",
    "\n",
    "# Ausgabe\n",
    "print(\"Top 20 häufigste Wörter in den Noise-Fragen:\")\n",
    "for wort, anzahl in top_20:\n",
    "    print(f\"{wort}: {anzahl}\")\n"
   ]
  },
  {
   "cell_type": "code",
   "execution_count": 22,
   "id": "6901d331",
   "metadata": {},
   "outputs": [],
   "source": [
    "# Liste der zu entfernenden Wörter (kannst du bei Bedarf manuell anpassen)\n",
    "stoppwörter = [wort for wort, _ in top_20]\n",
    "\n",
    "def entferne_stoppwörter(text, stopwords):\n",
    "    tokens = re.findall(r'\\b[a-zäöüßA-ZÄÖÜ]{2,}\\b', text)\n",
    "    tokens = [t for t in tokens if t.lower() not in stopwords]\n",
    "    return \" \".join(tokens)\n",
    "\n",
    "# Neue Spalte mit bereinigten Texten\n",
    "df_noise[\"Frage_Text_cleaned\"] = df_noise[\"Frage_Text\"].apply(lambda x: entferne_stoppwörter(x, stoppwörter))\n"
   ]
  },
  {
   "cell_type": "code",
   "execution_count": 23,
   "id": "ea30102d",
   "metadata": {},
   "outputs": [
    {
     "data": {
      "application/vnd.jupyter.widget-view+json": {
       "model_id": "1d2ef4929c7d478297136d7daead87dd",
       "version_major": 2,
       "version_minor": 0
      },
      "text/plain": [
       "Batches:   0%|          | 0/13 [00:00<?, ?it/s]"
      ]
     },
     "metadata": {},
     "output_type": "display_data"
    }
   ],
   "source": [
    "from sentence_transformers import SentenceTransformer\n",
    "\n",
    "# BERT-Modell laden\n",
    "model = SentenceTransformer('distiluse-base-multilingual-cased-v2')\n",
    "\n",
    "# Bereinigte Texte in Vektoren umwandeln\n",
    "texts_cleaned = df_noise[\"Frage_Text_cleaned\"].tolist()\n",
    "vectors_cleaned = model.encode(texts_cleaned, convert_to_numpy=True, show_progress_bar=True)\n"
   ]
  },
  {
   "cell_type": "code",
   "execution_count": 24,
   "id": "a95d6701",
   "metadata": {},
   "outputs": [],
   "source": [
    "from sklearn.metrics.pairwise import cosine_distances\n",
    "\n",
    "distance_matrix = cosine_distances(vectors_cleaned)\n"
   ]
  },
  {
   "cell_type": "code",
   "execution_count": 36,
   "id": "ee76d536",
   "metadata": {},
   "outputs": [
    {
     "name": "stdout",
     "output_type": "stream",
     "text": [
      "Anzahl neu gebildeter Cluster: 225\n"
     ]
    }
   ],
   "source": [
    "from sklearn.cluster import AgglomerativeClustering\n",
    "\n",
    "# Clustering konfigurieren\n",
    "agglo = AgglomerativeClustering(\n",
    "    n_clusters=None,\n",
    "    distance_threshold=0.5,\n",
    "    metric='precomputed',\n",
    "    linkage='average'\n",
    ")\n",
    "\n",
    "# Clustering ausführen\n",
    "labels = agglo.fit_predict(distance_matrix)\n",
    "\n",
    "# Ergebnisse anzeigen\n",
    "print(f\"Anzahl neu gebildeter Cluster: {len(set(labels))}\")\n"
   ]
  },
  {
   "cell_type": "code",
   "execution_count": 37,
   "id": "f76cf1ec",
   "metadata": {},
   "outputs": [
    {
     "name": "stdout",
     "output_type": "stream",
     "text": [
      "Anzahl neu gebildeter Cluster: 225\n",
      "\n",
      "Fragen pro Cluster:\n",
      "0      4\n",
      "1      3\n",
      "2      2\n",
      "3      9\n",
      "4      2\n",
      "      ..\n",
      "220    1\n",
      "221    1\n",
      "222    1\n",
      "223    1\n",
      "224    1\n",
      "Name: count, Length: 225, dtype: int64\n"
     ]
    }
   ],
   "source": [
    "# Cluster-Labels zu Serie machen\n",
    "cluster_counts = pd.Series(labels).value_counts().sort_index()\n",
    "\n",
    "# Ausgabe\n",
    "print(f\"Anzahl neu gebildeter Cluster: {len(cluster_counts)}\")\n",
    "print(\"\\nFragen pro Cluster:\")\n",
    "print(cluster_counts)"
   ]
  },
  {
   "cell_type": "code",
   "execution_count": 39,
   "id": "b3ba210d",
   "metadata": {},
   "outputs": [
    {
     "name": "stdout",
     "output_type": "stream",
     "text": [
      "\n",
      "--- Cluster 0 (4 Fragen) ---\n",
      "- Original: Haben für Sie Steuersenkungen in den Kantonen Nidwalden resp. Obwalden in den nächsten vier Jahren Priorität?\n",
      "  Cleaned:  Haben Steuersenkungen Kantonen Nidwalden resp Obwalden nächsten vier Jahren Priorität\n",
      "- Original: Haben für Sie Steuersenkungen in den nächsten fünf Jahren Priorität?\n",
      "  Cleaned:  Haben Steuersenkungen nächsten fünf Jahren Priorität\n",
      "- Original: Haben für Sie Steuersenkungen in Lenzburg in den nächsten vier Jahren Priorität?  [Bürger/-innen-Frage]\n",
      "  Cleaned:  Haben Steuersenkungen Lenzburg nächsten vier Jahren Priorität Bürger innen Frage\n",
      "\n",
      "--- Cluster 1 (3 Fragen) ---\n",
      "- Original: Sollen die Vorschriften für den Bau von Wohnraum gelockert werden (z.B. Denkmalschutz, Lärmschutz, Ausnutzungsziffern)?\n",
      "  Cleaned:  Vorschriften Bau Wohnraum gelockert Denkmalschutz Lärmschutz Ausnutzungsziffern\n",
      "- Original: Sollen die Vorschriften des eidgenössischen Natur- und Heimatschutzgesetzes gelockert werden?\n",
      "  Cleaned:  Vorschriften eidgenössischen Natur Heimatschutzgesetzes gelockert\n",
      "- Original: Sollen autoarme und autofreie Siedlungen im Bau- und Planungsgesetz gefördert werden?\n",
      "  Cleaned:  autoarme autofreie Siedlungen Bau Planungsgesetz gefördert\n",
      "\n",
      "--- Cluster 2 (2 Fragen) ---\n",
      "- Original: Soll im Kanton Thurgau eine gesetzliche Grundlage geschaffen werden, damit in Zukunft Autonummernscanner eingesetzt werden dürfen?\n",
      "  Cleaned:  Thurgau gesetzliche Grundlage geschaffen damit Zukunft Autonummernscanner eingesetzt dürfen\n",
      "- Original: Befürworten Sie das Scannen von Autonummern im Rahmen der automatisierten Fahrzeugfahndung?\n",
      "  Cleaned:  Scannen Autonummern Rahmen automatisierten Fahrzeugfahndung\n",
      "\n",
      "--- Cluster 3 (9 Fragen) ---\n",
      "- Original: Soll die kantonale Kulturförderung vermehrt Kulturinstitutionen in ländlichen Regionen unterstützen?\n",
      "  Cleaned:  kantonale Kulturförderung vermehrt Kulturinstitutionen ländlichen Regionen unterstützen\n",
      "- Original: Soll die finanzielle Unterstützung für die Kultur generell erhöht werden (z.B. für Zuger Filmtage)?\n",
      "  Cleaned:  finanzielle Unterstützung Kultur generell erhöht Zuger Filmtage\n",
      "- Original: Eine Petition fordert mehr finanzielle Mittel zur Kulturförderung im Kanton Graubünden. Befürworten Sie dies?\n",
      "  Cleaned:  Petition fordert mehr finanzielle Mittel Kulturförderung Graubünden dies\n",
      "\n",
      "--- Cluster 4 (2 Fragen) ---\n",
      "- Original: Soll auf allen obligatorischen Schulstufen in Lenzburg das Tagesschulmodell mit integriertem Betreuungsangebot eingeführt werden?  [Bürger/-innen-Frage]\n",
      "  Cleaned:  allen obligatorischen Schulstufen Lenzburg Tagesschulmodell mit integriertem Betreuungsangebot eingeführt Bürger innen Frage\n",
      "- Original: Befürworten Sie die Einführung einer Schuldenbremse (bzw. Ausgabenbremse) für Lenzburg?  [Bürger/-innen-Frage]\n",
      "  Cleaned:  Einführung einer Schuldenbremse bzw Ausgabenbremse Lenzburg Bürger innen Frage\n"
     ]
    }
   ],
   "source": [
    "# Neues Vorschau-DataFrame erstellen\n",
    "df_overview = pd.DataFrame({\n",
    "    \"Frage_Text\": df_noise[\"Frage_Text\"],\n",
    "    \"Frage_Text_cleaned\": df_noise[\"Frage_Text_cleaned\"],\n",
    "    \"Cluster\": labels\n",
    "})\n",
    "\n",
    "# Funktion: Beispielfragen anzeigen\n",
    "def beispiele_anzeigen(df, cluster_ids=None, n=3):\n",
    "    if cluster_ids is None:\n",
    "        cluster_ids = df[\"Cluster\"].unique()\n",
    "    for cid in sorted(cluster_ids):\n",
    "        fragen = df[df[\"Cluster\"] == cid][[\"Frage_Text\", \"Frage_Text_cleaned\"]]\n",
    "        print(f\"\\n--- Cluster {cid} ({len(fragen)} Fragen) ---\")\n",
    "        for i, row in fragen.sample(min(n, len(fragen)), random_state=1).iterrows():\n",
    "            print(f\"- Original: {row['Frage_Text']}\")\n",
    "            print(f\"  Cleaned:  {row['Frage_Text_cleaned']}\")\n",
    "\n",
    "# Beispiel: 3 Fragen aus den ersten 5 Clustern\n",
    "beispiele_anzeigen(df_overview, cluster_ids=sorted(cluster_counts.index)[:5])\n"
   ]
  },
  {
   "cell_type": "code",
   "execution_count": 40,
   "id": "b8f7da9b",
   "metadata": {},
   "outputs": [
    {
     "data": {
      "image/png": "[encoded data removed]",
      "text/plain": [
       "<Figure size 1200x500 with 1 Axes>"
      ]
     },
     "metadata": {},
     "output_type": "display_data"
    }
   ],
   "source": [
    "import matplotlib.pyplot as plt\n",
    "\n",
    "cluster_counts.plot(kind=\"bar\", figsize=(12, 5))\n",
    "plt.title(\"Grösse der neu gebildeten Cluster (bereinigte Noise-Fragen)\")\n",
    "plt.xlabel(\"Cluster-ID\")\n",
    "plt.ylabel(\"Anzahl Fragen\")\n",
    "plt.tight_layout()\n",
    "plt.show()\n"
   ]
  },
  {
   "cell_type": "code",
   "execution_count": 41,
   "id": "8d8465eb",
   "metadata": {},
   "outputs": [],
   "source": [
    "# Neue Clusterlabels zuweisen\n",
    "df_noise[\"noise_cluster_cleaned\"] = labels\n"
   ]
  },
  {
   "cell_type": "code",
   "execution_count": 42,
   "id": "aa999ed2",
   "metadata": {},
   "outputs": [],
   "source": [
    "# Werte für die Spalte in df (Haupt-DataFrame)\n",
    "df.loc[df[\"Cluster_HDBSCAN\"] == -1, \"noise_cluster_cleaned\"] = df_noise[\"noise_cluster_cleaned\"].values\n",
    "\n",
    "# Alle anderen behalten den Standardwert (falls noch nicht gesetzt)\n",
    "df[\"noise_cluster_cleaned\"] = df[\"noise_cluster_cleaned\"].fillna(-99).astype(int)\n"
   ]
  },
  {
   "cell_type": "code",
   "execution_count": 44,
   "id": "1a1a4cfa",
   "metadata": {},
   "outputs": [
    {
     "name": "stdout",
     "output_type": "stream",
     "text": [
      "Spalte 'noise_cluster' wurde entfernt.\n"
     ]
    }
   ],
   "source": [
    "if \"noise_cluster\" in df.columns:\n",
    "    df = df.drop(columns=[\"noise_cluster\"])\n",
    "    print(\"Spalte 'noise_cluster' wurde entfernt.\")\n",
    "else:\n",
    "    print(\"Spalte 'noise_cluster' existiert nicht oder wurde bereits entfernt.\")\n"
   ]
  },
  {
   "cell_type": "code",
   "execution_count": 46,
   "id": "3868b203",
   "metadata": {},
   "outputs": [
    {
     "name": "stdout",
     "output_type": "stream",
     "text": [
      "Neuer Clusterstatus gespeichert unter: df_de_final_clustered_bert_noise_reclustered.xlsx\n"
     ]
    }
   ],
   "source": [
    "df.to_excel(\"../../data/df_de_final_clustered_bert_noise_reclustered.xlsx\", index=False, engine=\"openpyxl\")\n",
    "print(\"Neuer Clusterstatus gespeichert unter: df_de_final_clustered_bert_noise_reclustered.xlsx\")\n"
   ]
  },
  {
   "cell_type": "code",
   "execution_count": null,
   "id": "46f169b2",
   "metadata": {},
   "outputs": [],
   "source": []
  }
 ],
 "metadata": {
  "kernelspec": {
   "display_name": "Python 3",
   "language": "python",
   "name": "python3"
  },
  "language_info": {
   "codemirror_mode": {
    "name": "ipython",
    "version": 3
   },
   "file_extension": ".py",
   "mimetype": "text/x-python",
   "name": "python",
   "nbconvert_exporter": "python",
   "pygments_lexer": "ipython3",
   "version": "3.11.11"
  }
 },
 "nbformat": 4,
 "nbformat_minor": 5
}
