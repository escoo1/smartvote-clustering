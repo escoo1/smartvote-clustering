{
 "cells": [
  {
   "cell_type": "code",
   "execution_count": 2,
   "metadata": {},
   "outputs": [
    {
     "name": "stdout",
     "output_type": "stream",
     "text": [
      "Collecting matplotlib\n",
      "  Downloading matplotlib-3.10.1-cp311-cp311-win_amd64.whl.metadata (11 kB)\n",
      "Collecting seaborn\n",
      "  Downloading seaborn-0.13.2-py3-none-any.whl.metadata (5.4 kB)\n",
      "Collecting contourpy>=1.0.1 (from matplotlib)\n",
      "  Downloading contourpy-1.3.1-cp311-cp311-win_amd64.whl.metadata (5.4 kB)\n",
      "Collecting cycler>=0.10 (from matplotlib)\n",
      "  Downloading cycler-0.12.1-py3-none-any.whl.metadata (3.8 kB)\n",
      "Collecting fonttools>=4.22.0 (from matplotlib)\n",
      "  Downloading fonttools-4.56.0-cp311-cp311-win_amd64.whl.metadata (103 kB)\n",
      "Collecting kiwisolver>=1.3.1 (from matplotlib)\n",
      "  Downloading kiwisolver-1.4.8-cp311-cp311-win_amd64.whl.metadata (6.3 kB)\n",
      "Requirement already satisfied: numpy>=1.23 in c:\\users\\olive\\git\\eprp\\.conda\\lib\\site-packages (from matplotlib) (2.2.3)\n",
      "Requirement already satisfied: packaging>=20.0 in c:\\users\\olive\\appdata\\roaming\\python\\python311\\site-packages (from matplotlib) (24.0)\n",
      "Collecting pillow>=8 (from matplotlib)\n",
      "  Downloading pillow-11.1.0-cp311-cp311-win_amd64.whl.metadata (9.3 kB)\n",
      "Collecting pyparsing>=2.3.1 (from matplotlib)\n",
      "  Downloading pyparsing-3.2.3-py3-none-any.whl.metadata (5.0 kB)\n",
      "Requirement already satisfied: python-dateutil>=2.7 in c:\\users\\olive\\appdata\\roaming\\python\\python311\\site-packages (from matplotlib) (2.9.0.post0)\n",
      "Requirement already satisfied: pandas>=1.2 in c:\\users\\olive\\git\\eprp\\.conda\\lib\\site-packages (from seaborn) (2.2.3)\n",
      "Requirement already satisfied: pytz>=2020.1 in c:\\users\\olive\\git\\eprp\\.conda\\lib\\site-packages (from pandas>=1.2->seaborn) (2025.1)\n",
      "Requirement already satisfied: tzdata>=2022.7 in c:\\users\\olive\\git\\eprp\\.conda\\lib\\site-packages (from pandas>=1.2->seaborn) (2025.1)\n",
      "Requirement already satisfied: six>=1.5 in c:\\users\\olive\\appdata\\roaming\\python\\python311\\site-packages (from python-dateutil>=2.7->matplotlib) (1.16.0)\n",
      "Downloading matplotlib-3.10.1-cp311-cp311-win_amd64.whl (8.1 MB)\n",
      "   ---------------------------------------- 0.0/8.1 MB ? eta -:--:--\n",
      "   --------------- ------------------------ 3.1/8.1 MB 16.9 MB/s eta 0:00:01\n",
      "   ----------------------------------- ---- 7.1/8.1 MB 17.5 MB/s eta 0:00:01\n",
      "   ---------------------------------------- 8.1/8.1 MB 16.7 MB/s eta 0:00:00\n",
      "Downloading seaborn-0.13.2-py3-none-any.whl (294 kB)\n",
      "Downloading contourpy-1.3.1-cp311-cp311-win_amd64.whl (219 kB)\n",
      "Downloading cycler-0.12.1-py3-none-any.whl (8.3 kB)\n",
      "Downloading fonttools-4.56.0-cp311-cp311-win_amd64.whl (2.2 MB)\n",
      "   ---------------------------------------- 0.0/2.2 MB ? eta -:--:--\n",
      "   ---------------------------------------- 2.2/2.2 MB 17.8 MB/s eta 0:00:00\n",
      "Downloading kiwisolver-1.4.8-cp311-cp311-win_amd64.whl (71 kB)\n",
      "Downloading pillow-11.1.0-cp311-cp311-win_amd64.whl (2.6 MB)\n",
      "   ---------------------------------------- 0.0/2.6 MB ? eta -:--:--\n",
      "   ---------------------------------------- 2.6/2.6 MB 16.8 MB/s eta 0:00:00\n",
      "Downloading pyparsing-3.2.3-py3-none-any.whl (111 kB)\n",
      "Installing collected packages: pyparsing, pillow, kiwisolver, fonttools, cycler, contourpy, matplotlib, seaborn\n",
      "Successfully installed contourpy-1.3.1 cycler-0.12.1 fonttools-4.56.0 kiwisolver-1.4.8 matplotlib-3.10.1 pillow-11.1.0 pyparsing-3.2.3 seaborn-0.13.2\n",
      "Note: you may need to restart the kernel to use updated packages.\n"
     ]
    }
   ],
   "source": [
    "%pip install matplotlib seaborn\n"
   ]
  },
  {
   "cell_type": "code",
   "execution_count": 1,
   "metadata": {},
   "outputs": [],
   "source": [
    "# Pakete importieren\n",
    "import pandas as pd\n",
    "import numpy as np\n",
    "import spacy\n",
    "from spacy.tokens import DocBin\n",
    "from tqdm.notebook import tqdm\n",
    "import matplotlib.pyplot as plt\n",
    "import seaborn as sns\n"
   ]
  },
  {
   "cell_type": "code",
   "execution_count": 2,
   "metadata": {},
   "outputs": [
    {
     "name": "stdout",
     "output_type": "stream",
     "text": [
      "7459 Docs erfolgreich geladen.\n",
      "Similarity-Matrix geladen mit Form: (7459, 7459)\n"
     ]
    }
   ],
   "source": [
    "# spaCy-Modell laden\n",
    "nlp = spacy.load(\"de_core_news_lg\")\n",
    "\n",
    "# Gespeicherte Docs laden\n",
    "doc_bin = DocBin().from_disk(\"docs_de.spacy\")\n",
    "docs = list(doc_bin.get_docs(nlp.vocab))\n",
    "print(f\"{len(docs)} Docs erfolgreich geladen.\")\n",
    "\n",
    "# Similarity-Matrix laden\n",
    "similarity_matrix = np.load(\"similarity_matrix_de.npy\")\n",
    "print(f\"Similarity-Matrix geladen mit Form: {similarity_matrix.shape}\")\n"
   ]
  },
  {
   "cell_type": "code",
   "execution_count": 3,
   "metadata": {},
   "outputs": [
    {
     "name": "stdout",
     "output_type": "stream",
     "text": [
      "77302 Fragepaare mit Score > 0.95 gefunden.\n"
     ]
    }
   ],
   "source": [
    "ähnliche_paare = []\n",
    "\n",
    "for i in range(len(docs)):\n",
    "    for j in range(i + 1, len(docs)):  # keine Selbstvergleiche\n",
    "        score = similarity_matrix[i, j]\n",
    "        if score > 0.95:\n",
    "            ähnliche_paare.append((i, j, score))\n",
    "\n",
    "print(f\"{len(ähnliche_paare)} Fragepaare mit Score > 0.95 gefunden.\")\n"
   ]
  },
  {
   "cell_type": "code",
   "execution_count": 4,
   "metadata": {},
   "outputs": [
    {
     "name": "stdout",
     "output_type": "stream",
     "text": [
      "iteration 1: i ist jetzt 0, und j ist 1\n",
      "iteration 2: i ist jetzt 0, und j ist 2\n",
      "iteration 3: i ist jetzt 0, und j ist 3\n",
      "iteration 4: i ist jetzt 0, und j ist 4\n",
      "iteration 5: i ist jetzt 0, und j ist 5\n",
      "iteration 6: i ist jetzt 1, und j ist 2\n",
      "iteration 7: i ist jetzt 1, und j ist 3\n",
      "iteration 8: i ist jetzt 1, und j ist 4\n",
      "iteration 9: i ist jetzt 1, und j ist 5\n",
      "iteration 10: i ist jetzt 2, und j ist 3\n",
      "iteration 11: i ist jetzt 2, und j ist 4\n",
      "iteration 12: i ist jetzt 2, und j ist 5\n",
      "iteration 13: i ist jetzt 3, und j ist 4\n",
      "iteration 14: i ist jetzt 3, und j ist 5\n",
      "iteration 15: i ist jetzt 4, und j ist 5\n"
     ]
    }
   ],
   "source": [
    "# Zum besseren Verständniss, was in der Similarity Matrix analysiert wird.\n",
    "\n",
    "n = 0\n",
    "\n",
    "for i in range(6):\n",
    "    for j in range(i + 1, 6):  # keine Selbstvergleiche\n",
    "        n = n + 1\n",
    "        print(f\"iteration {n}: i ist jetzt {i}, und j ist {j}\")"
   ]
  },
  {
   "cell_type": "code",
   "execution_count": 5,
   "metadata": {},
   "outputs": [
    {
     "name": "stdout",
     "output_type": "stream",
     "text": [
      "\n",
      "Ähnlichkeit: 1.000\n",
      "Frage 0: Wie beurteilen Sie diese Aussage: \"Wer sich nichts zuschulden kommen lässt, hat von staatlichen Sicherheitsmassnahmen nichts zu befürchten.\"\n",
      "Frage 117: Wie beurteilen Sie diese Aussage: \"Wer sich nichts zuschulden kommen lässt, hat von staatlichen Sicherheitsmassnahmen nichts zu befürchten.\"\n",
      "\n",
      "Ähnlichkeit: 1.000\n",
      "Frage 0: Wie beurteilen Sie diese Aussage: \"Wer sich nichts zuschulden kommen lässt, hat von staatlichen Sicherheitsmassnahmen nichts zu befürchten.\"\n",
      "Frage 166: Wie beurteilen Sie diese Aussage: \"Wer sich nichts zuschulden kommen lässt, hat von staatlichen Sicherheitsmassnahmen nichts zu befürchten.\"\n",
      "\n",
      "Ähnlichkeit: 1.000\n",
      "Frage 0: Wie beurteilen Sie diese Aussage: \"Wer sich nichts zuschulden kommen lässt, hat von staatlichen Sicherheitsmassnahmen nichts zu befürchten.\"\n",
      "Frage 213: Wie beurteilen Sie diese Aussage: \"Wer sich nichts zuschulden kommen lässt, hat von staatlichen Sicherheitsmassnahmen nichts zu befürchten.\"\n",
      "\n",
      "Ähnlichkeit: 1.000\n",
      "Frage 0: Wie beurteilen Sie diese Aussage: \"Wer sich nichts zuschulden kommen lässt, hat von staatlichen Sicherheitsmassnahmen nichts zu befürchten.\"\n",
      "Frage 260: Wie beurteilen Sie diese Aussage: \"Wer sich nichts zuschulden kommen lässt, hat von staatlichen Sicherheitsmassnahmen nichts zu befürchten.\"\n",
      "\n",
      "Ähnlichkeit: 1.000\n",
      "Frage 0: Wie beurteilen Sie diese Aussage: \"Wer sich nichts zuschulden kommen lässt, hat von staatlichen Sicherheitsmassnahmen nichts zu befürchten.\"\n",
      "Frage 308: Wie beurteilen Sie diese Aussage: \"Wer sich nichts zuschulden kommen lässt, hat von staatlichen Sicherheitsmassnahmen nichts zu befürchten.\"\n",
      "\n",
      "Ähnlichkeit: 1.000\n",
      "Frage 0: Wie beurteilen Sie diese Aussage: \"Wer sich nichts zuschulden kommen lässt, hat von staatlichen Sicherheitsmassnahmen nichts zu befürchten.\"\n",
      "Frage 359: Wie beurteilen Sie diese Aussage: \"Wer sich nichts zuschulden kommen lässt, hat von staatlichen Sicherheitsmassnahmen nichts zu befürchten.\"\n",
      "\n",
      "Ähnlichkeit: 1.000\n",
      "Frage 0: Wie beurteilen Sie diese Aussage: \"Wer sich nichts zuschulden kommen lässt, hat von staatlichen Sicherheitsmassnahmen nichts zu befürchten.\"\n",
      "Frage 408: Wie beurteilen Sie diese Aussage: \"Wer sich nichts zuschulden kommen lässt, hat von staatlichen Sicherheitsmassnahmen nichts zu befürchten.\"\n",
      "\n",
      "Ähnlichkeit: 1.000\n",
      "Frage 0: Wie beurteilen Sie diese Aussage: \"Wer sich nichts zuschulden kommen lässt, hat von staatlichen Sicherheitsmassnahmen nichts zu befürchten.\"\n",
      "Frage 454: Wie beurteilen Sie diese Aussage: \"Wer sich nichts zuschulden kommen lässt, hat von staatlichen Sicherheitsmassnahmen nichts zu befürchten.\"\n",
      "\n",
      "Ähnlichkeit: 1.000\n",
      "Frage 0: Wie beurteilen Sie diese Aussage: \"Wer sich nichts zuschulden kommen lässt, hat von staatlichen Sicherheitsmassnahmen nichts zu befürchten.\"\n",
      "Frage 501: Wie beurteilen Sie diese Aussage: \"Wer sich nichts zuschulden kommen lässt, hat von staatlichen Sicherheitsmassnahmen nichts zu befürchten.\"\n",
      "\n",
      "Ähnlichkeit: 1.000\n",
      "Frage 0: Wie beurteilen Sie diese Aussage: \"Wer sich nichts zuschulden kommen lässt, hat von staatlichen Sicherheitsmassnahmen nichts zu befürchten.\"\n",
      "Frage 549: Wie beurteilen Sie diese Aussage: \"Wer sich nichts zuschulden kommen lässt, hat von staatlichen Sicherheitsmassnahmen nichts zu befürchten.\"\n"
     ]
    }
   ],
   "source": [
    "# Zeige ein paar ähnliche Fragepaare an\n",
    "for i, j, score in ähnliche_paare[:10]:\n",
    "    print(f\"\\nÄhnlichkeit: {score:.3f}\")\n",
    "    print(f\"Frage {i}: {docs[i].text}\")\n",
    "    print(f\"Frage {j}: {docs[j].text}\")\n"
   ]
  },
  {
   "cell_type": "code",
   "execution_count": 7,
   "metadata": {},
   "outputs": [
    {
     "data": {
      "text/html": [
       "<div>\n",
       "<style scoped>\n",
       "    .dataframe tbody tr th:only-of-type {\n",
       "        vertical-align: middle;\n",
       "    }\n",
       "\n",
       "    .dataframe tbody tr th {\n",
       "        vertical-align: top;\n",
       "    }\n",
       "\n",
       "    .dataframe thead th {\n",
       "        text-align: right;\n",
       "    }\n",
       "</style>\n",
       "<table border=\"1\" class=\"dataframe\">\n",
       "  <thead>\n",
       "    <tr style=\"text-align: right;\">\n",
       "      <th></th>\n",
       "      <th>ID_Wahl</th>\n",
       "      <th>Datum</th>\n",
       "      <th>Frage_ID</th>\n",
       "      <th>Frage_Text</th>\n",
       "      <th>Frage_Typ</th>\n",
       "      <th>Bereich_ID</th>\n",
       "      <th>Bereich</th>\n",
       "      <th>ID_gesamt</th>\n",
       "      <th>Sprache</th>\n",
       "    </tr>\n",
       "  </thead>\n",
       "  <tbody>\n",
       "    <tr>\n",
       "      <th>0</th>\n",
       "      <td>2.0</td>\n",
       "      <td>2019-10-20 00:00:00</td>\n",
       "      <td>5.0</td>\n",
       "      <td>Wie beurteilen Sie diese Aussage: \"Wer sich ni...</td>\n",
       "      <td>options7</td>\n",
       "      <td>4734.0</td>\n",
       "      <td>Werthaltungen</td>\n",
       "      <td>Q00000</td>\n",
       "      <td>de</td>\n",
       "    </tr>\n",
       "    <tr>\n",
       "      <th>1</th>\n",
       "      <td>2.0</td>\n",
       "      <td>2019-10-20 00:00:00</td>\n",
       "      <td>8.0</td>\n",
       "      <td>Wie beurteilen Sie diese Aussage: \"Die Bestraf...</td>\n",
       "      <td>options7</td>\n",
       "      <td>4734.0</td>\n",
       "      <td>Werthaltungen</td>\n",
       "      <td>Q00001</td>\n",
       "      <td>de</td>\n",
       "    </tr>\n",
       "    <tr>\n",
       "      <th>2</th>\n",
       "      <td>2.0</td>\n",
       "      <td>2019-10-20 00:00:00</td>\n",
       "      <td>11.0</td>\n",
       "      <td>Wie beurteilen Sie diese Aussage: \"Für ein Kin...</td>\n",
       "      <td>options7</td>\n",
       "      <td>4734.0</td>\n",
       "      <td>Werthaltungen</td>\n",
       "      <td>Q00002</td>\n",
       "      <td>de</td>\n",
       "    </tr>\n",
       "    <tr>\n",
       "      <th>3</th>\n",
       "      <td>2.0</td>\n",
       "      <td>2019-10-20 00:00:00</td>\n",
       "      <td>14.0</td>\n",
       "      <td>Soll der Bund Ausländer/-innen bei der Integra...</td>\n",
       "      <td>options4</td>\n",
       "      <td>4231.0</td>\n",
       "      <td>Migration &amp; Integration</td>\n",
       "      <td>Q00003</td>\n",
       "      <td>de</td>\n",
       "    </tr>\n",
       "    <tr>\n",
       "      <th>4</th>\n",
       "      <td>2.0</td>\n",
       "      <td>2019-10-20 00:00:00</td>\n",
       "      <td>17.0</td>\n",
       "      <td>Soll der Konsum von Cannabis legalisiert werden?</td>\n",
       "      <td>options4</td>\n",
       "      <td>4352.0</td>\n",
       "      <td>Gesellschaft &amp; Ethik</td>\n",
       "      <td>Q00004</td>\n",
       "      <td>de</td>\n",
       "    </tr>\n",
       "  </tbody>\n",
       "</table>\n",
       "</div>"
      ],
      "text/plain": [
       "   ID_Wahl                Datum  Frage_ID  \\\n",
       "0      2.0  2019-10-20 00:00:00       5.0   \n",
       "1      2.0  2019-10-20 00:00:00       8.0   \n",
       "2      2.0  2019-10-20 00:00:00      11.0   \n",
       "3      2.0  2019-10-20 00:00:00      14.0   \n",
       "4      2.0  2019-10-20 00:00:00      17.0   \n",
       "\n",
       "                                          Frage_Text Frage_Typ  Bereich_ID  \\\n",
       "0  Wie beurteilen Sie diese Aussage: \"Wer sich ni...  options7      4734.0   \n",
       "1  Wie beurteilen Sie diese Aussage: \"Die Bestraf...  options7      4734.0   \n",
       "2  Wie beurteilen Sie diese Aussage: \"Für ein Kin...  options7      4734.0   \n",
       "3  Soll der Bund Ausländer/-innen bei der Integra...  options4      4231.0   \n",
       "4   Soll der Konsum von Cannabis legalisiert werden?  options4      4352.0   \n",
       "\n",
       "                   Bereich ID_gesamt Sprache  \n",
       "0            Werthaltungen    Q00000      de  \n",
       "1            Werthaltungen    Q00001      de  \n",
       "2            Werthaltungen    Q00002      de  \n",
       "3  Migration & Integration    Q00003      de  \n",
       "4     Gesellschaft & Ethik    Q00004      de  "
      ]
     },
     "execution_count": 7,
     "metadata": {},
     "output_type": "execute_result"
    }
   ],
   "source": [
    "df = pd.read_excel('../../data/df_de_final.xlsx')\n",
    "\n",
    "df.head()"
   ]
  },
  {
   "cell_type": "code",
   "execution_count": 8,
   "metadata": {},
   "outputs": [
    {
     "name": "stdout",
     "output_type": "stream",
     "text": [
      "[(0, 117, np.float64(1.0)), (0, 166, np.float64(1.0)), (0, 213, np.float64(1.0)), (0, 260, np.float64(1.0)), (0, 308, np.float64(1.0))]\n"
     ]
    }
   ],
   "source": [
    "print(ähnliche_paare[:5])\n"
   ]
  },
  {
   "cell_type": "code",
   "execution_count": 10,
   "metadata": {},
   "outputs": [
    {
     "name": "stdout",
     "output_type": "stream",
     "text": [
      "es existieren 46947 identische fragen paare\n"
     ]
    }
   ],
   "source": [
    "identische_fragen = []\n",
    "\n",
    "for index1, index2, score in ähnliche_paare:\n",
    "    if score == 1.0:\n",
    "        identische_fragen.append((index1, index2, score))\n",
    "\n",
    "print(f'es existieren {len(identische_fragen)} identische fragen paare')\n"
   ]
  },
  {
   "cell_type": "code",
   "execution_count": 11,
   "metadata": {},
   "outputs": [
    {
     "name": "stdout",
     "output_type": "stream",
     "text": [
      "(1281, 6570, np.float64(1.0))\n"
     ]
    }
   ],
   "source": [
    "print(identische_fragen[20000])"
   ]
  },
  {
   "cell_type": "code",
   "execution_count": 12,
   "metadata": {},
   "outputs": [
    {
     "name": "stdout",
     "output_type": "stream",
     "text": [
      "Wie beurteilen Sie die folgende Aussage: \"Von einer freien Marktwirtschaft profitieren langfristig alle.\"\n",
      "Wie beurteilen Sie die folgende Aussage: \"Von einer freien Marktwirtschaft profitieren langfristig alle.\"\n"
     ]
    }
   ],
   "source": [
    "print(df.iloc[1281]['Frage_Text'])\n",
    "\n",
    "print(df.iloc[6570]['Frage_Text'])"
   ]
  },
  {
   "cell_type": "code",
   "execution_count": 13,
   "metadata": {},
   "outputs": [],
   "source": [
    "top_n = 3\n",
    "ähnlichkeits_liste = []\n",
    "\n",
    "for i in range(len(docs)):\n",
    "    # Ähnlichkeiten und Indizes außer dem eigenen\n",
    "    ähnlichkeiten = [(j, similarity_matrix[i, j]) for j in range(len(docs)) if j != i]\n",
    "    # Sortieren nach Score (absteigend)\n",
    "    top = sorted(ähnlichkeiten, key=lambda x: x[1], reverse=True)[:top_n]\n",
    "    ähnlichkeits_liste.append({\n",
    "        \"Frage_Index\": i,\n",
    "        \"Frage_Text\": docs[i].text,\n",
    "        \"Top_Ähnliche\": [(j, docs[j].text, round(score, 3)) for j, score in top]\n",
    "    })\n"
   ]
  },
  {
   "cell_type": "code",
   "execution_count": 14,
   "metadata": {},
   "outputs": [
    {
     "name": "stdout",
     "output_type": "stream",
     "text": [
      "Ausgangsfrage:\n",
      "Wie beurteilen Sie diese Aussage: \"Wer sich nichts zuschulden kommen lässt, hat von staatlichen Sicherheitsmassnahmen nichts zu befürchten.\"\n",
      "\n",
      "Top ähnliche Fragen:\n",
      "  [1.0]  Wie beurteilen Sie diese Aussage: \"Wer sich nichts zuschulden kommen lässt, hat von staatlichen Sicherheitsmassnahmen nichts zu befürchten.\"\n",
      "  [1.0] Wie beurteilen Sie diese Aussage: \"Wer sich nichts zuschulden kommen lässt, hat von staatlichen Sicherheitsmassnahmen nichts zu befürchten.\"\n",
      "  [1.0] Wie beurteilen Sie diese Aussage: \"Wer sich nichts zuschulden kommen lässt, hat von staatlichen Sicherheitsmassnahmen nichts zu befürchten.\"\n"
     ]
    }
   ],
   "source": [
    "# Beispiel ansehen\n",
    "eintrag = ähnlichkeits_liste[0]\n",
    "print(f\"Ausgangsfrage:\\n{eintrag['Frage_Text']}\\n\")\n",
    "print(\"Top ähnliche Fragen:\")\n",
    "for j, text, score in eintrag[\"Top_Ähnliche\"]:\n",
    "    print(f\"  [{score}] {text}\")\n"
   ]
  }
 ],
 "metadata": {
  "kernelspec": {
   "display_name": "Python 3",
   "language": "python",
   "name": "python3"
  },
  "language_info": {
   "codemirror_mode": {
    "name": "ipython",
    "version": 3
   },
   "file_extension": ".py",
   "mimetype": "text/x-python",
   "name": "python",
   "nbconvert_exporter": "python",
   "pygments_lexer": "ipython3",
   "version": "3.11.11"
  }
 },
 "nbformat": 4,
 "nbformat_minor": 2
}
