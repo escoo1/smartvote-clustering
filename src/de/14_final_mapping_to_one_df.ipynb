{
 "cells": [
  {
   "cell_type": "code",
   "execution_count": 3,
   "id": "67c9dd53",
   "metadata": {},
   "outputs": [],
   "source": [
    "import pandas as pd\n",
    "\n",
    "# 1. Dateien laden\n",
    "df_all = pd.read_excel(\"../../data/df_de_final_duplikate_markiert.xlsx\", engine=\"openpyxl\")\n",
    "df_clustered = pd.read_excel(\"../../data/df_de_final_clustered_bert_noise_reclustered.xlsx\", engine=\"openpyxl\")\n",
    "\n",
    "# 2. Mapping: Duplikat_Gruppe → Cluster_HDBSCAN\n",
    "mapping_cluster = df_clustered.set_index(\"Duplikat_Gruppe\")[\"Cluster_HDBSCAN\"].to_dict()\n",
    "\n",
    "# 3. Cluster_HDBSCAN ins vollständige DataFrame übertragen\n",
    "df_all[\"Cluster_HDBSCAN\"] = df_all[\"Duplikat_Gruppe\"].map(mapping_cluster).fillna(-1).astype(int)\n"
   ]
  },
  {
   "cell_type": "code",
   "execution_count": 4,
   "id": "693ae46b",
   "metadata": {},
   "outputs": [],
   "source": [
    "# 4. Mapping: Duplikat_Gruppe → noise_cluster_cleaned (nur für ursprüngliches Noise)\n",
    "mapping_noise = df_clustered.set_index(\"Duplikat_Gruppe\")[\"noise_cluster_cleaned\"].to_dict()\n",
    "\n",
    "# 5. Nur auf Fragen anwenden, die Cluster_HDBSCAN == -1\n",
    "df_all[\"noise_cluster_cleaned\"] = df_all.apply(\n",
    "    lambda row: mapping_noise.get(row[\"Duplikat_Gruppe\"], -99) if row[\"Cluster_HDBSCAN\"] == -1 else -99,\n",
    "    axis=1\n",
    ")\n"
   ]
  },
  {
   "cell_type": "code",
   "execution_count": 5,
   "id": "d38a2ff8",
   "metadata": {},
   "outputs": [
    {
     "name": "stdout",
     "output_type": "stream",
     "text": [
      "Datei gespeichert: df_de_final_clustered_all_mapped.xlsx\n"
     ]
    }
   ],
   "source": [
    "df_all.to_excel(\"../../data/df_de_final_clustered_all_mapped.xlsx\", index=False, engine=\"openpyxl\")\n",
    "print(\"Datei gespeichert: df_de_final_clustered_all_mapped.xlsx\")\n"
   ]
  },
  {
   "cell_type": "code",
   "execution_count": 6,
   "id": "ea96db34",
   "metadata": {},
   "outputs": [],
   "source": [
    "# Clustergrössen berechnen (nur für echte Cluster)\n",
    "cluster_sizes = df_all[df_all[\"Cluster_HDBSCAN\"] != -1][\"Cluster_HDBSCAN\"].value_counts()\n",
    "df_all[\"Cluster_Grösse\"] = df_all[\"Cluster_HDBSCAN\"].map(cluster_sizes)\n"
   ]
  },
  {
   "cell_type": "code",
   "execution_count": 13,
   "id": "3ca9a1c5",
   "metadata": {},
   "outputs": [],
   "source": [
    "df_all[\"is_clustered\"] = df_all[\"Cluster_HDBSCAN\"] != -1\n",
    "\n",
    "df_all_sorted = df_all.sort_values(\n",
    "    by=[\n",
    "        \"is_clustered\",             # True (echte Cluster) zuerst\n",
    "        \"Cluster_Grösse\",           # grössere Cluster zuerst\n",
    "        \"Cluster_HDBSCAN\",          # Cluster-ID\n",
    "        \"noise_cluster_cleaned\",    # innerhalb Noise: Subcluster\n",
    "        \"Frage_Text\"                # alphabetisch\n",
    "    ],\n",
    "    ascending=[False, False, True, True, True]\n",
    ").reset_index(drop=True)\n"
   ]
  },
  {
   "cell_type": "code",
   "execution_count": 17,
   "id": "89ba59be",
   "metadata": {},
   "outputs": [],
   "source": [
    "from openpyxl import Workbook\n",
    "from openpyxl.styles import PatternFill"
   ]
  },
  {
   "cell_type": "code",
   "execution_count": null,
   "id": "1fef3ca5",
   "metadata": {},
   "outputs": [
    {
     "name": "stdout",
     "output_type": "stream",
     "text": [
      "Datei erfolgreich exportiert: df_de_final_clustered_all_colored.xlsx\n"
     ]
    }
   ],
   "source": [
    "from openpyxl import Workbook\n",
    "from openpyxl.styles import PatternFill\n",
    "\n",
    "# === 5. Excel farbig exportieren ===\n",
    "wb = Workbook()\n",
    "ws = wb.active\n",
    "ws.title = \"Finale Clusteransicht\"\n",
    "\n",
    "# Farben definieren\n",
    "trennung_fill = PatternFill(start_color=\"D9E1F2\", end_color=\"D9E1F2\", fill_type=\"solid\")  # hellblau\n",
    "variante_fill = PatternFill(start_color=\"FFFACD\", end_color=\"FFFACD\", fill_type=\"solid\")  # hellgelb\n",
    "noise_colors = [\"E0F7FA\", \"FFF3E0\", \"E8F5E9\", \"F3E5F5\", \"FCE4EC\", \"F1F8E9\", \"F9FBE7\", \"EDE7F6\"]\n",
    "\n",
    "# Header schreiben\n",
    "ws.append(df_all_sorted.columns.tolist())\n",
    "\n",
    "# Initialwerte für Vergleiche\n",
    "prev_cluster = None\n",
    "prev_duplikat_gruppe = None\n",
    "noise_color_map = {}\n",
    "color_index = 0\n",
    "\n",
    "# Zeilen schreiben\n",
    "for idx, row in df_all_sorted.iterrows():\n",
    "    cluster_id = row[\"Cluster_HDBSCAN\"]\n",
    "    duplikat_gruppe = row[\"Duplikat_Gruppe\"]\n",
    "    noise_id = row[\"noise_cluster_cleaned\"]\n",
    "\n",
    "    # Trennzeile bei neuem Cluster\n",
    "    if cluster_id != prev_cluster and prev_cluster is not None:\n",
    "        ws.append([\"\" for _ in range(len(df_all_sorted.columns))])\n",
    "        for cell in ws[ws.max_row]:\n",
    "            cell.fill = trennung_fill\n",
    "\n",
    "    # Zeile einfügen\n",
    "    ws.append(row.tolist())\n",
    "\n",
    "    # Zellfarben anwenden\n",
    "    for col_idx, cell in enumerate(ws[ws.max_row]):\n",
    "        if cluster_id != -1:\n",
    "            # Varianten im Cluster hervorheben\n",
    "            if duplikat_gruppe != prev_duplikat_gruppe:\n",
    "                cell.fill = variante_fill\n",
    "        else:\n",
    "            # Farben für Subcluster der Noise-Gruppe\n",
    "            if noise_id not in noise_color_map:\n",
    "                noise_color_map[noise_id] = PatternFill(\n",
    "                    start_color=noise_colors[color_index % len(noise_colors)],\n",
    "                    end_color=noise_colors[color_index % len(noise_colors)],\n",
    "                    fill_type=\"solid\"\n",
    "                )\n",
    "                color_index += 1\n",
    "            cell.fill = noise_color_map[noise_id]\n",
    "\n",
    "    # Merker aktualisieren\n",
    "    prev_cluster = cluster_id\n",
    "    prev_duplikat_gruppe = duplikat_gruppe\n",
    "\n",
    "# === 6. Datei speichern ===\n",
    "output_path = \"../../data/df_de_final_clustered_all_colored.xlsx\"\n",
    "wb.save(output_path)\n",
    "print(f\"Datei erfolgreich exportiert: {output_path}\")\n"
   ]
  }
 ],
 "metadata": {
  "kernelspec": {
   "display_name": "Python 3",
   "language": "python",
   "name": "python3"
  },
  "language_info": {
   "codemirror_mode": {
    "name": "ipython",
    "version": 3
   },
   "file_extension": ".py",
   "mimetype": "text/x-python",
   "name": "python",
   "nbconvert_exporter": "python",
   "pygments_lexer": "ipython3",
   "version": "3.11.11"
  }
 },
 "nbformat": 4,
 "nbformat_minor": 5
}
