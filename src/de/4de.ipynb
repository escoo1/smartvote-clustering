{
 "cells": [
  {
   "cell_type": "code",
   "execution_count": 1,
   "metadata": {},
   "outputs": [],
   "source": [
    "import pandas as pd\n",
    "import numpy as np\n",
    "from tqdm.notebook import tqdm\n",
    "\n",
    "import spacy\n",
    "nlp = spacy.load(\"de_core_news_lg\")"
   ]
  },
  {
   "cell_type": "code",
   "execution_count": 3,
   "metadata": {},
   "outputs": [
    {
     "name": "stdout",
     "output_type": "stream",
     "text": [
      "Es sind 7459 Fragen vorhanden\n"
     ]
    },
    {
     "data": {
      "text/html": [
       "<div>\n",
       "<style scoped>\n",
       "    .dataframe tbody tr th:only-of-type {\n",
       "        vertical-align: middle;\n",
       "    }\n",
       "\n",
       "    .dataframe tbody tr th {\n",
       "        vertical-align: top;\n",
       "    }\n",
       "\n",
       "    .dataframe thead th {\n",
       "        text-align: right;\n",
       "    }\n",
       "</style>\n",
       "<table border=\"1\" class=\"dataframe\">\n",
       "  <thead>\n",
       "    <tr style=\"text-align: right;\">\n",
       "      <th></th>\n",
       "      <th>ID_Wahl</th>\n",
       "      <th>Datum</th>\n",
       "      <th>Frage_ID</th>\n",
       "      <th>Frage_Text</th>\n",
       "      <th>Frage_Typ</th>\n",
       "      <th>Bereich_ID</th>\n",
       "      <th>Bereich</th>\n",
       "      <th>ID_gesamt</th>\n",
       "      <th>Sprache</th>\n",
       "    </tr>\n",
       "  </thead>\n",
       "  <tbody>\n",
       "    <tr>\n",
       "      <th>0</th>\n",
       "      <td>2.0</td>\n",
       "      <td>2019-10-20 00:00:00</td>\n",
       "      <td>5.0</td>\n",
       "      <td>Wie beurteilen Sie diese Aussage: \"Wer sich ni...</td>\n",
       "      <td>options7</td>\n",
       "      <td>4734.0</td>\n",
       "      <td>Werthaltungen</td>\n",
       "      <td>Q00000</td>\n",
       "      <td>de</td>\n",
       "    </tr>\n",
       "    <tr>\n",
       "      <th>1</th>\n",
       "      <td>2.0</td>\n",
       "      <td>2019-10-20 00:00:00</td>\n",
       "      <td>8.0</td>\n",
       "      <td>Wie beurteilen Sie diese Aussage: \"Die Bestraf...</td>\n",
       "      <td>options7</td>\n",
       "      <td>4734.0</td>\n",
       "      <td>Werthaltungen</td>\n",
       "      <td>Q00001</td>\n",
       "      <td>de</td>\n",
       "    </tr>\n",
       "    <tr>\n",
       "      <th>2</th>\n",
       "      <td>2.0</td>\n",
       "      <td>2019-10-20 00:00:00</td>\n",
       "      <td>11.0</td>\n",
       "      <td>Wie beurteilen Sie diese Aussage: \"Für ein Kin...</td>\n",
       "      <td>options7</td>\n",
       "      <td>4734.0</td>\n",
       "      <td>Werthaltungen</td>\n",
       "      <td>Q00002</td>\n",
       "      <td>de</td>\n",
       "    </tr>\n",
       "    <tr>\n",
       "      <th>3</th>\n",
       "      <td>2.0</td>\n",
       "      <td>2019-10-20 00:00:00</td>\n",
       "      <td>14.0</td>\n",
       "      <td>Soll der Bund Ausländer/-innen bei der Integra...</td>\n",
       "      <td>options4</td>\n",
       "      <td>4231.0</td>\n",
       "      <td>Migration &amp; Integration</td>\n",
       "      <td>Q00003</td>\n",
       "      <td>de</td>\n",
       "    </tr>\n",
       "    <tr>\n",
       "      <th>4</th>\n",
       "      <td>2.0</td>\n",
       "      <td>2019-10-20 00:00:00</td>\n",
       "      <td>17.0</td>\n",
       "      <td>Soll der Konsum von Cannabis legalisiert werden?</td>\n",
       "      <td>options4</td>\n",
       "      <td>4352.0</td>\n",
       "      <td>Gesellschaft &amp; Ethik</td>\n",
       "      <td>Q00004</td>\n",
       "      <td>de</td>\n",
       "    </tr>\n",
       "  </tbody>\n",
       "</table>\n",
       "</div>"
      ],
      "text/plain": [
       "   ID_Wahl                Datum  Frage_ID  \\\n",
       "0      2.0  2019-10-20 00:00:00       5.0   \n",
       "1      2.0  2019-10-20 00:00:00       8.0   \n",
       "2      2.0  2019-10-20 00:00:00      11.0   \n",
       "3      2.0  2019-10-20 00:00:00      14.0   \n",
       "4      2.0  2019-10-20 00:00:00      17.0   \n",
       "\n",
       "                                          Frage_Text Frage_Typ  Bereich_ID  \\\n",
       "0  Wie beurteilen Sie diese Aussage: \"Wer sich ni...  options7      4734.0   \n",
       "1  Wie beurteilen Sie diese Aussage: \"Die Bestraf...  options7      4734.0   \n",
       "2  Wie beurteilen Sie diese Aussage: \"Für ein Kin...  options7      4734.0   \n",
       "3  Soll der Bund Ausländer/-innen bei der Integra...  options4      4231.0   \n",
       "4   Soll der Konsum von Cannabis legalisiert werden?  options4      4352.0   \n",
       "\n",
       "                   Bereich ID_gesamt Sprache  \n",
       "0            Werthaltungen    Q00000      de  \n",
       "1            Werthaltungen    Q00001      de  \n",
       "2            Werthaltungen    Q00002      de  \n",
       "3  Migration & Integration    Q00003      de  \n",
       "4     Gesellschaft & Ethik    Q00004      de  "
      ]
     },
     "execution_count": 3,
     "metadata": {},
     "output_type": "execute_result"
    }
   ],
   "source": [
    "df = pd.read_excel(\"../../data/df_de_final.xlsx\")\n",
    "\n",
    "print(f\"Es sind {len(df)} Fragen vorhanden\")\n",
    "\n",
    "df.head()"
   ]
  },
  {
   "cell_type": "code",
   "execution_count": 4,
   "metadata": {},
   "outputs": [],
   "source": [
    "fragen = df[\"Frage_Text\"].astype(str).tolist()\n"
   ]
  },
  {
   "cell_type": "code",
   "execution_count": 5,
   "metadata": {},
   "outputs": [
    {
     "data": {
      "application/vnd.jupyter.widget-view+json": {
       "model_id": "80dff7c5102b42f39d399be7f94abc75",
       "version_major": 2,
       "version_minor": 0
      },
      "text/plain": [
       "Vektorisiere Fragen:   0%|          | 0/7459 [00:00<?, ?it/s]"
      ]
     },
     "metadata": {},
     "output_type": "display_data"
    }
   ],
   "source": [
    "# spaCy-Vektorisierung\n",
    "docs = [nlp(text) for text in tqdm(fragen, desc=\"Vektorisiere Fragen\")]\n"
   ]
  },
  {
   "cell_type": "code",
   "execution_count": 6,
   "metadata": {},
   "outputs": [
    {
     "name": "stdout",
     "output_type": "stream",
     "text": [
      "7459 Fragen erfolgreich vektorisiert.\n"
     ]
    }
   ],
   "source": [
    "print(f\"{len(docs)} Fragen erfolgreich vektorisiert.\")\n"
   ]
  },
  {
   "cell_type": "code",
   "execution_count": 7,
   "metadata": {},
   "outputs": [
    {
     "name": "stdout",
     "output_type": "stream",
     "text": [
      "0 Fragen haben einen leeren Vektor.\n",
      "\n"
     ]
    }
   ],
   "source": [
    "# Liste für Index und Text von Fragen ohne gültigen Vektor\n",
    "leere_vektoren = []\n",
    "\n",
    "for i, doc in enumerate(docs):\n",
    "    if doc.vector_norm == 0:\n",
    "        leere_vektoren.append((i, df.loc[i, \"Frage_Text\"]))\n",
    "\n",
    "\n",
    "print(f\"{len(leere_vektoren)} Fragen haben einen leeren Vektor.\\n\")\n"
   ]
  },
  {
   "cell_type": "code",
   "execution_count": 8,
   "metadata": {},
   "outputs": [
    {
     "name": "stdout",
     "output_type": "stream",
     "text": [
      "Doc-Objekte gespeichert.\n"
     ]
    }
   ],
   "source": [
    "from spacy.tokens import DocBin\n",
    "\n",
    "# DocBin erstellen und alle docs hinzufügen\n",
    "doc_bin = DocBin(store_user_data=True)  # speichert alle Infos, auch Vektoren\n",
    "for doc in docs:\n",
    "    doc_bin.add(doc)\n",
    "\n",
    "# In Datei speichern\n",
    "doc_bin.to_disk(\"docs_de.spacy\")\n",
    "print(\"Doc-Objekte gespeichert.\")\n"
   ]
  },
  {
   "cell_type": "code",
   "execution_count": null,
   "metadata": {},
   "outputs": [],
   "source": [
    "# Code zum laden der docs\n",
    "\n",
    "\"\"\"\n",
    "\n",
    "from spacy.tokens import DocBin\n",
    "\n",
    "# Modell wieder laden\n",
    "nlp = spacy.load(\"de_core_news_lg\")\n",
    "\n",
    "# Datei laden\n",
    "doc_bin = DocBin().from_disk(\"docs_de.spacy\")\n",
    "\n",
    "# Docs extrahieren\n",
    "docs = list(doc_bin.get_docs(nlp.vocab))\n",
    "print(f\"{len(docs)} Docs erfolgreich geladen.\")\n",
    "\n",
    "\n",
    "\"\"\""
   ]
  },
  {
   "cell_type": "code",
   "execution_count": 8,
   "metadata": {},
   "outputs": [
    {
     "data": {
      "application/vnd.jupyter.widget-view+json": {
       "model_id": "34e52b83d7d24fcf897772f2b895750f",
       "version_major": 2,
       "version_minor": 0
      },
      "text/plain": [
       "Berechne Ähnlichkeiten:   0%|          | 0/7459 [00:00<?, ?it/s]"
      ]
     },
     "metadata": {},
     "output_type": "display_data"
    }
   ],
   "source": [
    "n = len(docs)\n",
    "\n",
    "similarity_matrix = np.zeros((n, n))\n",
    "\n",
    "\n",
    "\n",
    "for i in tqdm(range(n), desc=\"Berechne Ähnlichkeiten\"):\n",
    "    for j in range(i, n):  # nur obere Dreiecksmatrix + Diagonale\n",
    "        sim = docs[i].similarity(docs[j])\n",
    "        similarity_matrix[i, j] = sim\n",
    "        similarity_matrix[j, i] = sim  # weil symmetrisch\n",
    "\n"
   ]
  },
  {
   "cell_type": "code",
   "execution_count": 11,
   "metadata": {},
   "outputs": [],
   "source": [
    "np.save(\"similarity_matrix_de.npy\", similarity_matrix)"
   ]
  },
  {
   "cell_type": "code",
   "execution_count": null,
   "metadata": {},
   "outputs": [],
   "source": [
    "# zum laden der similarity_matrix:\n",
    "\n",
    "\"\"\"\n",
    "\n",
    "similarity_matrix = np.load(\"similarity_matrix_de.npy\")\n",
    "\n",
    "\n",
    "\"\"\""
   ]
  }
 ],
 "metadata": {
  "kernelspec": {
   "display_name": "Python 3",
   "language": "python",
   "name": "python3"
  },
  "language_info": {
   "codemirror_mode": {
    "name": "ipython",
    "version": 3
   },
   "file_extension": ".py",
   "mimetype": "text/x-python",
   "name": "python",
   "nbconvert_exporter": "python",
   "pygments_lexer": "ipython3",
   "version": "3.11.11"
  }
 },
 "nbformat": 4,
 "nbformat_minor": 2
}
