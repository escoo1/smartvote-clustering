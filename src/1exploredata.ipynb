{
 "cells": [
  {
   "cell_type": "code",
   "execution_count": 29,
   "metadata": {},
   "outputs": [
    {
     "name": "stdout",
     "output_type": "stream",
     "text": [
      "Requirement already satisfied: pandas in c:\\users\\olive\\git\\eprp\\.conda\\lib\\site-packages (2.2.3)Note: you may need to restart the kernel to use updated packages.\n",
      "\n",
      "Requirement already satisfied: numpy in c:\\users\\olive\\git\\eprp\\.conda\\lib\\site-packages (2.2.3)\n",
      "Requirement already satisfied: python-dateutil>=2.8.2 in c:\\users\\olive\\appdata\\roaming\\python\\python311\\site-packages (from pandas) (2.9.0.post0)\n",
      "Requirement already satisfied: pytz>=2020.1 in c:\\users\\olive\\git\\eprp\\.conda\\lib\\site-packages (from pandas) (2025.1)\n",
      "Requirement already satisfied: tzdata>=2022.7 in c:\\users\\olive\\git\\eprp\\.conda\\lib\\site-packages (from pandas) (2025.1)\n",
      "Requirement already satisfied: six>=1.5 in c:\\users\\olive\\appdata\\roaming\\python\\python311\\site-packages (from python-dateutil>=2.8.2->pandas) (1.16.0)\n",
      "Requirement already satisfied: openpyxl in c:\\users\\olive\\git\\eprp\\.conda\\lib\\site-packages (3.1.5)\n",
      "Requirement already satisfied: et-xmlfile in c:\\users\\olive\\git\\eprp\\.conda\\lib\\site-packages (from openpyxl) (2.0.0)\n",
      "Note: you may need to restart the kernel to use updated packages.\n",
      "Requirement already satisfied: spacy in c:\\users\\olive\\git\\eprp\\.conda\\lib\\site-packages (3.8.4)Note: you may need to restart the kernel to use updated packages.\n",
      "\n",
      "Requirement already satisfied: spacy-legacy<3.1.0,>=3.0.11 in c:\\users\\olive\\git\\eprp\\.conda\\lib\\site-packages (from spacy) (3.0.12)\n",
      "Requirement already satisfied: spacy-loggers<2.0.0,>=1.0.0 in c:\\users\\olive\\git\\eprp\\.conda\\lib\\site-packages (from spacy) (1.0.5)\n",
      "Requirement already satisfied: murmurhash<1.1.0,>=0.28.0 in c:\\users\\olive\\git\\eprp\\.conda\\lib\\site-packages (from spacy) (1.0.12)\n",
      "Requirement already satisfied: cymem<2.1.0,>=2.0.2 in c:\\users\\olive\\git\\eprp\\.conda\\lib\\site-packages (from spacy) (2.0.11)\n",
      "Requirement already satisfied: preshed<3.1.0,>=3.0.2 in c:\\users\\olive\\git\\eprp\\.conda\\lib\\site-packages (from spacy) (3.0.9)\n",
      "Requirement already satisfied: thinc<8.4.0,>=8.3.4 in c:\\users\\olive\\git\\eprp\\.conda\\lib\\site-packages (from spacy) (8.3.4)\n",
      "Requirement already satisfied: wasabi<1.2.0,>=0.9.1 in c:\\users\\olive\\git\\eprp\\.conda\\lib\\site-packages (from spacy) (1.1.3)\n",
      "Requirement already satisfied: srsly<3.0.0,>=2.4.3 in c:\\users\\olive\\git\\eprp\\.conda\\lib\\site-packages (from spacy) (2.5.1)\n",
      "Requirement already satisfied: catalogue<2.1.0,>=2.0.6 in c:\\users\\olive\\git\\eprp\\.conda\\lib\\site-packages (from spacy) (2.0.10)\n",
      "Requirement already satisfied: weasel<0.5.0,>=0.1.0 in c:\\users\\olive\\git\\eprp\\.conda\\lib\\site-packages (from spacy) (0.4.1)\n",
      "Requirement already satisfied: typer<1.0.0,>=0.3.0 in c:\\users\\olive\\git\\eprp\\.conda\\lib\\site-packages (from spacy) (0.15.2)\n",
      "Requirement already satisfied: tqdm<5.0.0,>=4.38.0 in c:\\users\\olive\\git\\eprp\\.conda\\lib\\site-packages (from spacy) (4.67.1)\n",
      "Requirement already satisfied: numpy>=1.19.0 in c:\\users\\olive\\git\\eprp\\.conda\\lib\\site-packages (from spacy) (2.2.3)\n",
      "Requirement already satisfied: requests<3.0.0,>=2.13.0 in c:\\users\\olive\\git\\eprp\\.conda\\lib\\site-packages (from spacy) (2.32.3)\n",
      "Requirement already satisfied: pydantic!=1.8,!=1.8.1,<3.0.0,>=1.7.4 in c:\\users\\olive\\git\\eprp\\.conda\\lib\\site-packages (from spacy) (2.10.6)\n",
      "Requirement already satisfied: jinja2 in c:\\users\\olive\\git\\eprp\\.conda\\lib\\site-packages (from spacy) (3.1.6)\n",
      "Requirement already satisfied: setuptools in c:\\users\\olive\\git\\eprp\\.conda\\lib\\site-packages (from spacy) (75.8.0)\n",
      "Requirement already satisfied: packaging>=20.0 in c:\\users\\olive\\appdata\\roaming\\python\\python311\\site-packages (from spacy) (24.0)\n",
      "Requirement already satisfied: langcodes<4.0.0,>=3.2.0 in c:\\users\\olive\\git\\eprp\\.conda\\lib\\site-packages (from spacy) (3.5.0)\n",
      "Requirement already satisfied: language-data>=1.2 in c:\\users\\olive\\git\\eprp\\.conda\\lib\\site-packages (from langcodes<4.0.0,>=3.2.0->spacy) (1.3.0)\n",
      "Requirement already satisfied: annotated-types>=0.6.0 in c:\\users\\olive\\git\\eprp\\.conda\\lib\\site-packages (from pydantic!=1.8,!=1.8.1,<3.0.0,>=1.7.4->spacy) (0.7.0)\n",
      "Requirement already satisfied: pydantic-core==2.27.2 in c:\\users\\olive\\git\\eprp\\.conda\\lib\\site-packages (from pydantic!=1.8,!=1.8.1,<3.0.0,>=1.7.4->spacy) (2.27.2)\n",
      "Requirement already satisfied: typing-extensions>=4.12.2 in c:\\users\\olive\\git\\eprp\\.conda\\lib\\site-packages (from pydantic!=1.8,!=1.8.1,<3.0.0,>=1.7.4->spacy) (4.12.2)\n",
      "Requirement already satisfied: charset-normalizer<4,>=2 in c:\\users\\olive\\git\\eprp\\.conda\\lib\\site-packages (from requests<3.0.0,>=2.13.0->spacy) (3.4.1)\n",
      "Requirement already satisfied: idna<4,>=2.5 in c:\\users\\olive\\git\\eprp\\.conda\\lib\\site-packages (from requests<3.0.0,>=2.13.0->spacy) (3.10)\n",
      "Requirement already satisfied: urllib3<3,>=1.21.1 in c:\\users\\olive\\git\\eprp\\.conda\\lib\\site-packages (from requests<3.0.0,>=2.13.0->spacy) (2.3.0)\n",
      "Requirement already satisfied: certifi>=2017.4.17 in c:\\users\\olive\\git\\eprp\\.conda\\lib\\site-packages (from requests<3.0.0,>=2.13.0->spacy) (2025.1.31)\n",
      "Requirement already satisfied: blis<1.3.0,>=1.2.0 in c:\\users\\olive\\git\\eprp\\.conda\\lib\\site-packages (from thinc<8.4.0,>=8.3.4->spacy) (1.2.0)\n",
      "Requirement already satisfied: confection<1.0.0,>=0.0.1 in c:\\users\\olive\\git\\eprp\\.conda\\lib\\site-packages (from thinc<8.4.0,>=8.3.4->spacy) (0.1.5)\n",
      "Requirement already satisfied: colorama in c:\\users\\olive\\appdata\\roaming\\python\\python311\\site-packages (from tqdm<5.0.0,>=4.38.0->spacy) (0.4.6)\n",
      "Requirement already satisfied: click>=8.0.0 in c:\\users\\olive\\git\\eprp\\.conda\\lib\\site-packages (from typer<1.0.0,>=0.3.0->spacy) (8.1.8)\n",
      "Requirement already satisfied: shellingham>=1.3.0 in c:\\users\\olive\\git\\eprp\\.conda\\lib\\site-packages (from typer<1.0.0,>=0.3.0->spacy) (1.5.4)\n",
      "Requirement already satisfied: rich>=10.11.0 in c:\\users\\olive\\git\\eprp\\.conda\\lib\\site-packages (from typer<1.0.0,>=0.3.0->spacy) (13.9.4)\n",
      "Requirement already satisfied: cloudpathlib<1.0.0,>=0.7.0 in c:\\users\\olive\\git\\eprp\\.conda\\lib\\site-packages (from weasel<0.5.0,>=0.1.0->spacy) (0.21.0)\n",
      "Requirement already satisfied: smart-open<8.0.0,>=5.2.1 in c:\\users\\olive\\git\\eprp\\.conda\\lib\\site-packages (from weasel<0.5.0,>=0.1.0->spacy) (7.1.0)\n",
      "Requirement already satisfied: MarkupSafe>=2.0 in c:\\users\\olive\\git\\eprp\\.conda\\lib\\site-packages (from jinja2->spacy) (3.0.2)\n",
      "Requirement already satisfied: marisa-trie>=1.1.0 in c:\\users\\olive\\git\\eprp\\.conda\\lib\\site-packages (from language-data>=1.2->langcodes<4.0.0,>=3.2.0->spacy) (1.2.1)\n",
      "Requirement already satisfied: markdown-it-py>=2.2.0 in c:\\users\\olive\\git\\eprp\\.conda\\lib\\site-packages (from rich>=10.11.0->typer<1.0.0,>=0.3.0->spacy) (3.0.0)\n",
      "Requirement already satisfied: pygments<3.0.0,>=2.13.0 in c:\\users\\olive\\appdata\\roaming\\python\\python311\\site-packages (from rich>=10.11.0->typer<1.0.0,>=0.3.0->spacy) (2.18.0)\n",
      "Requirement already satisfied: wrapt in c:\\users\\olive\\git\\eprp\\.conda\\lib\\site-packages (from smart-open<8.0.0,>=5.2.1->weasel<0.5.0,>=0.1.0->spacy) (1.17.2)\n",
      "Requirement already satisfied: mdurl~=0.1 in c:\\users\\olive\\git\\eprp\\.conda\\lib\\site-packages (from markdown-it-py>=2.2.0->rich>=10.11.0->typer<1.0.0,>=0.3.0->spacy) (0.1.2)\n",
      "Requirement already satisfied: tqdm in c:\\users\\olive\\git\\eprp\\.conda\\lib\\site-packages (4.67.1)\n",
      "Requirement already satisfied: colorama in c:\\users\\olive\\appdata\\roaming\\python\\python311\\site-packages (from tqdm) (0.4.6)\n",
      "Note: you may need to restart the kernel to use updated packages.\n",
      "Requirement already satisfied: ipywidgets in c:\\users\\olive\\git\\eprp\\.conda\\lib\\site-packages (8.1.5)\n",
      "Requirement already satisfied: comm>=0.1.3 in c:\\users\\olive\\appdata\\roaming\\python\\python311\\site-packages (from ipywidgets) (0.2.2)\n",
      "Requirement already satisfied: ipython>=6.1.0 in c:\\users\\olive\\appdata\\roaming\\python\\python311\\site-packages (from ipywidgets) (8.24.0)\n",
      "Requirement already satisfied: traitlets>=4.3.1 in c:\\users\\olive\\appdata\\roaming\\python\\python311\\site-packages (from ipywidgets) (5.14.3)\n",
      "Requirement already satisfied: widgetsnbextension~=4.0.12 in c:\\users\\olive\\git\\eprp\\.conda\\lib\\site-packages (from ipywidgets) (4.0.13)\n",
      "Requirement already satisfied: jupyterlab-widgets~=3.0.12 in c:\\users\\olive\\git\\eprp\\.conda\\lib\\site-packages (from ipywidgets) (3.0.13)\n",
      "Requirement already satisfied: decorator in c:\\users\\olive\\appdata\\roaming\\python\\python311\\site-packages (from ipython>=6.1.0->ipywidgets) (5.1.1)\n",
      "Requirement already satisfied: jedi>=0.16 in c:\\users\\olive\\appdata\\roaming\\python\\python311\\site-packages (from ipython>=6.1.0->ipywidgets) (0.19.1)\n",
      "Requirement already satisfied: matplotlib-inline in c:\\users\\olive\\appdata\\roaming\\python\\python311\\site-packages (from ipython>=6.1.0->ipywidgets) (0.1.7)\n",
      "Requirement already satisfied: prompt-toolkit<3.1.0,>=3.0.41 in c:\\users\\olive\\appdata\\roaming\\python\\python311\\site-packages (from ipython>=6.1.0->ipywidgets) (3.0.43)\n",
      "Requirement already satisfied: pygments>=2.4.0 in c:\\users\\olive\\appdata\\roaming\\python\\python311\\site-packages (from ipython>=6.1.0->ipywidgets) (2.18.0)\n",
      "Requirement already satisfied: stack-data in c:\\users\\olive\\appdata\\roaming\\python\\python311\\site-packages (from ipython>=6.1.0->ipywidgets) (0.6.3)\n",
      "Requirement already satisfied: typing-extensions>=4.6 in c:\\users\\olive\\git\\eprp\\.conda\\lib\\site-packages (from ipython>=6.1.0->ipywidgets) (4.12.2)\n",
      "Requirement already satisfied: colorama in c:\\users\\olive\\appdata\\roaming\\python\\python311\\site-packages (from ipython>=6.1.0->ipywidgets) (0.4.6)\n",
      "Requirement already satisfied: parso<0.9.0,>=0.8.3 in c:\\users\\olive\\appdata\\roaming\\python\\python311\\site-packages (from jedi>=0.16->ipython>=6.1.0->ipywidgets) (0.8.4)\n",
      "Requirement already satisfied: wcwidth in c:\\users\\olive\\appdata\\roaming\\python\\python311\\site-packages (from prompt-toolkit<3.1.0,>=3.0.41->ipython>=6.1.0->ipywidgets) (0.2.13)\n",
      "Requirement already satisfied: executing>=1.2.0 in c:\\users\\olive\\appdata\\roaming\\python\\python311\\site-packages (from stack-data->ipython>=6.1.0->ipywidgets) (2.0.1)\n",
      "Requirement already satisfied: asttokens>=2.1.0 in c:\\users\\olive\\appdata\\roaming\\python\\python311\\site-packages (from stack-data->ipython>=6.1.0->ipywidgets) (2.4.1)\n",
      "Requirement already satisfied: pure-eval in c:\\users\\olive\\appdata\\roaming\\python\\python311\\site-packages (from stack-data->ipython>=6.1.0->ipywidgets) (0.2.2)\n",
      "Requirement already satisfied: six>=1.12.0 in c:\\users\\olive\\appdata\\roaming\\python\\python311\\site-packages (from asttokens>=2.1.0->stack-data->ipython>=6.1.0->ipywidgets) (1.16.0)\n",
      "Note: you may need to restart the kernel to use updated packages.\n",
      "Collecting langdetect\n",
      "  Downloading langdetect-1.0.9.tar.gz (981 kB)\n",
      "     ---------------------------------------- 0.0/981.5 kB ? eta -:--:--\n",
      "     ------------------------------------- 981.5/981.5 kB 15.3 MB/s eta 0:00:00\n",
      "  Preparing metadata (setup.py): started\n",
      "  Preparing metadata (setup.py): finished with status 'done'\n",
      "Requirement already satisfied: six in c:\\users\\olive\\appdata\\roaming\\python\\python311\\site-packages (from langdetect) (1.16.0)\n",
      "Building wheels for collected packages: langdetect\n",
      "  Building wheel for langdetect (setup.py): started\n",
      "  Building wheel for langdetect (setup.py): finished with status 'done'\n",
      "  Created wheel for langdetect: filename=langdetect-1.0.9-py3-none-any.whl size=993313 sha256=3931560359cca453758c3461d0cf959429ea69c18fafd2cd6584d3bbe3c4d7e0\n",
      "  Stored in directory: c:\\users\\olive\\appdata\\local\\pip\\cache\\wheels\\0a\\f2\\b2\\e5ca405801e05eb7c8ed5b3b4bcf1fcabcd6272c167640072e\n",
      "Successfully built langdetect\n",
      "Installing collected packages: langdetect\n",
      "Successfully installed langdetect-1.0.9\n",
      "Note: you may need to restart the kernel to use updated packages.\n",
      "Collecting de-core-news-lg==3.8.0\n",
      "  Downloading https://github.com/explosion/spacy-models/releases/download/de_core_news_lg-3.8.0/de_core_news_lg-3.8.0-py3-none-any.whl (567.8 MB)\n",
      "     ---------------------------------------- 0.0/567.8 MB ? eta -:--:--\n",
      "     --------------------------------------- 4.7/567.8 MB 25.9 MB/s eta 0:00:22\n",
      "      ------------------------------------- 10.0/567.8 MB 25.9 MB/s eta 0:00:22\n",
      "     - ------------------------------------ 16.3/567.8 MB 27.7 MB/s eta 0:00:20\n",
      "     - ------------------------------------ 22.0/567.8 MB 27.9 MB/s eta 0:00:20\n",
      "     - ------------------------------------ 27.8/567.8 MB 28.0 MB/s eta 0:00:20\n",
      "     -- ----------------------------------- 33.8/567.8 MB 27.9 MB/s eta 0:00:20\n",
      "     -- ----------------------------------- 39.6/567.8 MB 28.0 MB/s eta 0:00:19\n",
      "     --- ---------------------------------- 45.1/567.8 MB 27.6 MB/s eta 0:00:19\n",
      "     --- ---------------------------------- 50.1/567.8 MB 27.2 MB/s eta 0:00:20\n",
      "     --- ---------------------------------- 54.3/567.8 MB 26.6 MB/s eta 0:00:20\n",
      "     --- ---------------------------------- 59.2/567.8 MB 26.4 MB/s eta 0:00:20\n",
      "     ---- --------------------------------- 65.0/567.8 MB 26.6 MB/s eta 0:00:19\n",
      "     ---- --------------------------------- 70.0/567.8 MB 26.6 MB/s eta 0:00:19\n",
      "     ----- -------------------------------- 75.2/567.8 MB 26.2 MB/s eta 0:00:19\n",
      "     ----- -------------------------------- 80.7/567.8 MB 26.1 MB/s eta 0:00:19\n",
      "     ----- -------------------------------- 86.2/567.8 MB 26.2 MB/s eta 0:00:19\n",
      "     ------ ------------------------------- 91.5/567.8 MB 26.2 MB/s eta 0:00:19\n",
      "     ------ ------------------------------- 97.3/567.8 MB 26.3 MB/s eta 0:00:18\n",
      "     ------ ------------------------------ 101.2/567.8 MB 25.8 MB/s eta 0:00:19\n",
      "     ------ ------------------------------ 105.6/567.8 MB 25.6 MB/s eta 0:00:19\n",
      "     ------- ----------------------------- 109.1/567.8 MB 25.2 MB/s eta 0:00:19\n",
      "     ------- ----------------------------- 114.0/567.8 MB 25.2 MB/s eta 0:00:19\n",
      "     ------- ----------------------------- 117.4/567.8 MB 24.9 MB/s eta 0:00:19\n",
      "     ------- ----------------------------- 121.9/567.8 MB 24.6 MB/s eta 0:00:19\n",
      "     -------- ---------------------------- 126.6/567.8 MB 24.6 MB/s eta 0:00:18\n",
      "     -------- ---------------------------- 132.1/567.8 MB 24.6 MB/s eta 0:00:18\n",
      "     -------- ---------------------------- 137.1/567.8 MB 24.6 MB/s eta 0:00:18\n",
      "     --------- --------------------------- 142.3/567.8 MB 24.6 MB/s eta 0:00:18\n",
      "     --------- --------------------------- 147.6/567.8 MB 24.6 MB/s eta 0:00:18\n",
      "     --------- --------------------------- 152.6/567.8 MB 24.6 MB/s eta 0:00:17\n",
      "     ---------- -------------------------- 157.3/567.8 MB 24.6 MB/s eta 0:00:17\n",
      "     ---------- -------------------------- 162.8/567.8 MB 24.6 MB/s eta 0:00:17\n",
      "     ---------- -------------------------- 168.0/567.8 MB 24.6 MB/s eta 0:00:17\n",
      "     ----------- ------------------------- 173.5/567.8 MB 24.6 MB/s eta 0:00:16\n",
      "     ----------- ------------------------- 179.0/567.8 MB 24.7 MB/s eta 0:00:16\n",
      "     ------------ ------------------------ 184.3/567.8 MB 24.7 MB/s eta 0:00:16\n",
      "     ------------ ------------------------ 188.2/567.8 MB 24.6 MB/s eta 0:00:16\n",
      "     ------------ ------------------------ 193.2/567.8 MB 24.5 MB/s eta 0:00:16\n",
      "     ------------ ------------------------ 199.0/567.8 MB 24.6 MB/s eta 0:00:15\n",
      "     ------------- ----------------------- 204.7/567.8 MB 24.7 MB/s eta 0:00:15\n",
      "     ------------- ----------------------- 210.5/567.8 MB 24.7 MB/s eta 0:00:15\n",
      "     -------------- ---------------------- 215.7/567.8 MB 24.8 MB/s eta 0:00:15\n",
      "     -------------- ---------------------- 221.2/567.8 MB 24.8 MB/s eta 0:00:14\n",
      "     -------------- ---------------------- 227.3/567.8 MB 24.9 MB/s eta 0:00:14\n",
      "     --------------- --------------------- 233.3/567.8 MB 25.0 MB/s eta 0:00:14\n",
      "     --------------- --------------------- 238.0/567.8 MB 24.9 MB/s eta 0:00:14\n",
      "     --------------- --------------------- 240.1/567.8 MB 24.6 MB/s eta 0:00:14\n",
      "     --------------- --------------------- 245.4/567.8 MB 24.6 MB/s eta 0:00:14\n",
      "     ---------------- -------------------- 249.6/567.8 MB 24.5 MB/s eta 0:00:13\n",
      "     ---------------- -------------------- 254.3/567.8 MB 24.5 MB/s eta 0:00:13\n",
      "     ---------------- -------------------- 260.0/567.8 MB 24.6 MB/s eta 0:00:13\n",
      "     ----------------- ------------------- 266.1/567.8 MB 24.6 MB/s eta 0:00:13\n",
      "     ----------------- ------------------- 272.4/567.8 MB 24.7 MB/s eta 0:00:12\n",
      "     ------------------ ------------------ 276.8/567.8 MB 24.5 MB/s eta 0:00:12\n",
      "     ------------------ ------------------ 282.6/567.8 MB 24.5 MB/s eta 0:00:12\n",
      "     ------------------ ------------------ 287.8/567.8 MB 24.5 MB/s eta 0:00:12\n",
      "     ------------------- ----------------- 293.1/567.8 MB 24.5 MB/s eta 0:00:12\n",
      "     ------------------- ----------------- 299.4/567.8 MB 24.5 MB/s eta 0:00:11\n",
      "     ------------------- ----------------- 305.1/567.8 MB 24.5 MB/s eta 0:00:11\n",
      "     -------------------- ---------------- 310.9/567.8 MB 24.5 MB/s eta 0:00:11\n",
      "     -------------------- ---------------- 316.7/567.8 MB 24.7 MB/s eta 0:00:11\n",
      "     --------------------- --------------- 322.4/567.8 MB 24.7 MB/s eta 0:00:10\n",
      "     --------------------- --------------- 328.2/567.8 MB 24.8 MB/s eta 0:00:10\n",
      "     --------------------- --------------- 333.4/567.8 MB 24.8 MB/s eta 0:00:10\n",
      "     ---------------------- -------------- 339.5/567.8 MB 24.8 MB/s eta 0:00:10\n",
      "     ---------------------- -------------- 345.0/567.8 MB 24.9 MB/s eta 0:00:09\n",
      "     ---------------------- -------------- 350.2/567.8 MB 24.8 MB/s eta 0:00:09\n",
      "     ----------------------- ------------- 356.0/567.8 MB 24.8 MB/s eta 0:00:09\n",
      "     ----------------------- ------------- 361.2/567.8 MB 24.9 MB/s eta 0:00:09\n",
      "     ----------------------- ------------- 366.2/567.8 MB 25.0 MB/s eta 0:00:09\n",
      "     ------------------------ ------------ 370.7/567.8 MB 25.1 MB/s eta 0:00:08\n",
      "     ------------------------ ------------ 374.9/567.8 MB 25.0 MB/s eta 0:00:08\n",
      "     ------------------------ ------------ 380.1/567.8 MB 25.2 MB/s eta 0:00:08\n",
      "     ------------------------- ----------- 385.6/567.8 MB 25.3 MB/s eta 0:00:08\n",
      "     ------------------------- ----------- 390.6/567.8 MB 25.4 MB/s eta 0:00:07\n",
      "     ------------------------- ----------- 396.1/567.8 MB 25.4 MB/s eta 0:00:07\n",
      "     -------------------------- ---------- 401.1/567.8 MB 25.4 MB/s eta 0:00:07\n",
      "     -------------------------- ---------- 406.3/567.8 MB 25.4 MB/s eta 0:00:07\n",
      "     -------------------------- ---------- 412.6/567.8 MB 25.5 MB/s eta 0:00:07\n",
      "     --------------------------- --------- 419.2/567.8 MB 25.6 MB/s eta 0:00:06\n",
      "     --------------------------- --------- 424.4/567.8 MB 25.6 MB/s eta 0:00:06\n",
      "     ---------------------------- -------- 431.8/567.8 MB 25.8 MB/s eta 0:00:06\n",
      "     ---------------------------- -------- 438.0/567.8 MB 25.9 MB/s eta 0:00:06\n",
      "     ---------------------------- -------- 443.3/567.8 MB 26.0 MB/s eta 0:00:05\n",
      "     ----------------------------- ------- 448.5/567.8 MB 26.1 MB/s eta 0:00:05\n",
      "     ----------------------------- ------- 451.4/567.8 MB 25.9 MB/s eta 0:00:05\n",
      "     ----------------------------- ------- 456.4/567.8 MB 25.8 MB/s eta 0:00:05\n",
      "     ------------------------------ ------ 461.9/567.8 MB 25.8 MB/s eta 0:00:05\n",
      "     ------------------------------ ------ 467.9/567.8 MB 25.8 MB/s eta 0:00:04\n",
      "     ------------------------------ ------ 472.9/567.8 MB 25.8 MB/s eta 0:00:04\n",
      "     ------------------------------- ----- 478.7/567.8 MB 25.8 MB/s eta 0:00:04\n",
      "     ------------------------------- ----- 484.2/567.8 MB 25.8 MB/s eta 0:00:04\n",
      "     ------------------------------- ----- 490.2/567.8 MB 25.8 MB/s eta 0:00:04\n",
      "     -------------------------------- ---- 496.5/567.8 MB 25.9 MB/s eta 0:00:03\n",
      "     -------------------------------- ---- 502.0/567.8 MB 26.2 MB/s eta 0:00:03\n",
      "     --------------------------------- --- 508.6/567.8 MB 26.4 MB/s eta 0:00:03\n",
      "     --------------------------------- --- 516.2/567.8 MB 26.8 MB/s eta 0:00:02\n",
      "     ---------------------------------- -- 524.0/567.8 MB 27.0 MB/s eta 0:00:02\n",
      "     ---------------------------------- -- 529.8/567.8 MB 26.9 MB/s eta 0:00:02\n",
      "     ---------------------------------- -- 535.8/567.8 MB 27.1 MB/s eta 0:00:02\n",
      "     ----------------------------------- - 539.5/567.8 MB 26.9 MB/s eta 0:00:02\n",
      "     ----------------------------------- - 542.4/567.8 MB 26.6 MB/s eta 0:00:01\n",
      "     ----------------------------------- - 544.2/567.8 MB 26.2 MB/s eta 0:00:01\n",
      "     ----------------------------------- - 547.6/567.8 MB 25.9 MB/s eta 0:00:01\n",
      "     ----------------------------------- - 550.0/567.8 MB 25.7 MB/s eta 0:00:01\n",
      "     ------------------------------------  555.2/567.8 MB 25.6 MB/s eta 0:00:01\n",
      "     ------------------------------------  561.5/567.8 MB 25.7 MB/s eta 0:00:01\n",
      "     ------------------------------------  567.5/567.8 MB 25.7 MB/s eta 0:00:01\n",
      "     ------------------------------------  567.8/567.8 MB 25.7 MB/s eta 0:00:01\n",
      "     ------------------------------------  567.8/567.8 MB 25.7 MB/s eta 0:00:01\n",
      "     ------------------------------------  567.8/567.8 MB 25.7 MB/s eta 0:00:01\n",
      "     ------------------------------------  567.8/567.8 MB 25.7 MB/s eta 0:00:01\n",
      "     ------------------------------------  567.8/567.8 MB 25.7 MB/s eta 0:00:01\n",
      "     ------------------------------------- 567.8/567.8 MB 23.2 MB/s eta 0:00:00\n",
      "\u001b[38;5;2m✔ Download and installation successful\u001b[0m\n",
      "You can now load the package via spacy.load('de_core_news_lg')\n"
     ]
    }
   ],
   "source": [
    "%pip install pandas numpy\n",
    "%pip install openpyxl\n",
    "%pip install spacy\n",
    "%pip install tqdm\n",
    "%pip install ipywidgets\n",
    "%pip install langdetect\n",
    "\n",
    "\n",
    "\n",
    "\n",
    "!python -m spacy download de_core_news_lg\n",
    "\n"
   ]
  },
  {
   "cell_type": "code",
   "execution_count": 1,
   "metadata": {},
   "outputs": [
    {
     "name": "stdout",
     "output_type": "stream",
     "text": [
      "Pandas Version: 2.2.3\n",
      "NumPy Version: 2.2.3\n"
     ]
    }
   ],
   "source": [
    "import pandas as pd\n",
    "import numpy as np\n",
    "\n",
    "from tqdm.notebook import tqdm\n",
    "\n",
    "from langdetect import detect\n",
    "from langdetect.lang_detect_exception import LangDetectException\n",
    "\n",
    "\n",
    "import spacy\n",
    "nlp = spacy.load(\"de_core_news_lg\")\n",
    "\n",
    "\n",
    "print(\"Pandas Version:\", pd.__version__)\n",
    "print(\"NumPy Version:\", np.__version__)\n"
   ]
  },
  {
   "cell_type": "code",
   "execution_count": 2,
   "metadata": {},
   "outputs": [
    {
     "data": {
      "text/html": [
       "<div>\n",
       "<style scoped>\n",
       "    .dataframe tbody tr th:only-of-type {\n",
       "        vertical-align: middle;\n",
       "    }\n",
       "\n",
       "    .dataframe tbody tr th {\n",
       "        vertical-align: top;\n",
       "    }\n",
       "\n",
       "    .dataframe thead th {\n",
       "        text-align: right;\n",
       "    }\n",
       "</style>\n",
       "<table border=\"1\" class=\"dataframe\">\n",
       "  <thead>\n",
       "    <tr style=\"text-align: right;\">\n",
       "      <th></th>\n",
       "      <th>ID_Politikbereich</th>\n",
       "      <th>Politikbereich</th>\n",
       "      <th>ID_Wahl</th>\n",
       "      <th>Kanton</th>\n",
       "      <th>Jahr</th>\n",
       "      <th>ID_Frage</th>\n",
       "      <th>Frage</th>\n",
       "      <th>ID_sv-Kategorie</th>\n",
       "      <th>ID_sv-Group</th>\n",
       "      <th>Fragetyp</th>\n",
       "    </tr>\n",
       "  </thead>\n",
       "  <tbody>\n",
       "    <tr>\n",
       "      <th>0</th>\n",
       "      <td>1.0</td>\n",
       "      <td>Aussenpolitik</td>\n",
       "      <td>76.0</td>\n",
       "      <td>BL</td>\n",
       "      <td>2015</td>\n",
       "      <td>1169.0</td>\n",
       "      <td>Soll die Schweiz innerhalb der nächsten vier J...</td>\n",
       "      <td>11.0</td>\n",
       "      <td>59.0</td>\n",
       "      <td>Standard-4</td>\n",
       "    </tr>\n",
       "    <tr>\n",
       "      <th>1</th>\n",
       "      <td>1.0</td>\n",
       "      <td>Aussenpolitik</td>\n",
       "      <td>76.0</td>\n",
       "      <td>BL</td>\n",
       "      <td>2015</td>\n",
       "      <td>1134.0</td>\n",
       "      <td>Befürworten Sie das bestehende Personenfreizüg...</td>\n",
       "      <td>4.0</td>\n",
       "      <td>61.0</td>\n",
       "      <td>Standard-4</td>\n",
       "    </tr>\n",
       "    <tr>\n",
       "      <th>2</th>\n",
       "      <td>1.0</td>\n",
       "      <td>Aussenpolitik</td>\n",
       "      <td>76.0</td>\n",
       "      <td>BL</td>\n",
       "      <td>2015</td>\n",
       "      <td>1168.0</td>\n",
       "      <td>Soll die Schweiz mit den USA über ein Freihand...</td>\n",
       "      <td>11.0</td>\n",
       "      <td>60.0</td>\n",
       "      <td>Standard-4</td>\n",
       "    </tr>\n",
       "    <tr>\n",
       "      <th>3</th>\n",
       "      <td>1.0</td>\n",
       "      <td>Aussenpolitik</td>\n",
       "      <td>76.0</td>\n",
       "      <td>BL</td>\n",
       "      <td>2015</td>\n",
       "      <td>1167.0</td>\n",
       "      <td>Die Schweiz verfolgt seit einigen Jahren eine ...</td>\n",
       "      <td>11.0</td>\n",
       "      <td>63.0</td>\n",
       "      <td>Standard-4</td>\n",
       "    </tr>\n",
       "    <tr>\n",
       "      <th>4</th>\n",
       "      <td>2.0</td>\n",
       "      <td>Bildung</td>\n",
       "      <td>76.0</td>\n",
       "      <td>BL</td>\n",
       "      <td>2015</td>\n",
       "      <td>1171.0</td>\n",
       "      <td>Bildung</td>\n",
       "      <td>13.0</td>\n",
       "      <td>301.0</td>\n",
       "      <td>Budget-5</td>\n",
       "    </tr>\n",
       "  </tbody>\n",
       "</table>\n",
       "</div>"
      ],
      "text/plain": [
       "   ID_Politikbereich Politikbereich  ID_Wahl Kanton  Jahr  ID_Frage  \\\n",
       "0                1.0  Aussenpolitik     76.0     BL  2015    1169.0   \n",
       "1                1.0  Aussenpolitik     76.0     BL  2015    1134.0   \n",
       "2                1.0  Aussenpolitik     76.0     BL  2015    1168.0   \n",
       "3                1.0  Aussenpolitik     76.0     BL  2015    1167.0   \n",
       "4                2.0        Bildung     76.0     BL  2015    1171.0   \n",
       "\n",
       "                                               Frage  ID_sv-Kategorie  \\\n",
       "0  Soll die Schweiz innerhalb der nächsten vier J...             11.0   \n",
       "1  Befürworten Sie das bestehende Personenfreizüg...              4.0   \n",
       "2  Soll die Schweiz mit den USA über ein Freihand...             11.0   \n",
       "3  Die Schweiz verfolgt seit einigen Jahren eine ...             11.0   \n",
       "4                                            Bildung             13.0   \n",
       "\n",
       "   ID_sv-Group    Fragetyp  \n",
       "0         59.0  Standard-4  \n",
       "1         61.0  Standard-4  \n",
       "2         60.0  Standard-4  \n",
       "3         63.0  Standard-4  \n",
       "4        301.0    Budget-5  "
      ]
     },
     "execution_count": 2,
     "metadata": {},
     "output_type": "execute_result"
    }
   ],
   "source": [
    "# Datei einlesen\n",
    "df = pd.read_excel(\"../data/sv-Fragen 2011-2021.xlsx\", engine=\"openpyxl\")\n",
    "\n",
    "# Erste Zeilen anzeigen\n",
    "df.head()"
   ]
  },
  {
   "cell_type": "code",
   "execution_count": 3,
   "metadata": {},
   "outputs": [
    {
     "name": "stdout",
     "output_type": "stream",
     "text": [
      "Shape der Daten: (4489, 10)\n",
      "Spaltenübersicht: ['ID_Politikbereich', 'Politikbereich', 'ID_Wahl', 'Kanton', 'Jahr', 'ID_Frage', 'Frage', 'ID_sv-Kategorie', 'ID_sv-Group', 'Fragetyp']\n",
      "<class 'pandas.core.frame.DataFrame'>\n",
      "RangeIndex: 4489 entries, 0 to 4488\n",
      "Data columns (total 10 columns):\n",
      " #   Column             Non-Null Count  Dtype  \n",
      "---  ------             --------------  -----  \n",
      " 0   ID_Politikbereich  4466 non-null   float64\n",
      " 1   Politikbereich     4466 non-null   object \n",
      " 2   ID_Wahl            4341 non-null   float64\n",
      " 3   Kanton             4489 non-null   object \n",
      " 4   Jahr               4489 non-null   int64  \n",
      " 5   ID_Frage           4341 non-null   float64\n",
      " 6   Frage              4489 non-null   object \n",
      " 7   ID_sv-Kategorie    4341 non-null   float64\n",
      " 8   ID_sv-Group        4191 non-null   float64\n",
      " 9   Fragetyp           4341 non-null   object \n",
      "dtypes: float64(5), int64(1), object(4)\n",
      "memory usage: 350.8+ KB\n"
     ]
    }
   ],
   "source": [
    "# Anzahl der Zeilen und Spalten\n",
    "print(\"Shape der Daten:\", df.shape)\n",
    "\n",
    "# Spaltennamen anzeigen\n",
    "print(\"Spaltenübersicht:\", df.columns.tolist())\n",
    "\n",
    "# Allgemeine Infos über die Datentypen\n",
    "df.info()\n"
   ]
  },
  {
   "cell_type": "code",
   "execution_count": 4,
   "metadata": {},
   "outputs": [
    {
     "name": "stdout",
     "output_type": "stream",
     "text": [
      "4489 Fragen geladen.\n"
     ]
    }
   ],
   "source": [
    "fragen = df[\"Frage\"].tolist()\n",
    "print(f\"{len(fragen)} Fragen geladen.\")\n"
   ]
  },
  {
   "cell_type": "code",
   "execution_count": 5,
   "metadata": {},
   "outputs": [
    {
     "name": "stdout",
     "output_type": "stream",
     "text": [
      "Sprache\n",
      "de    3646\n",
      "fr     619\n",
      "it     196\n",
      "en      13\n",
      "et       6\n",
      "ro       3\n",
      "sv       3\n",
      "es       2\n",
      "nl       1\n",
      "Name: count, dtype: int64\n"
     ]
    }
   ],
   "source": [
    "# Neue Spalte zur Sprache\n",
    "def erkenne_sprache(text):\n",
    "    try:\n",
    "        return detect(text)\n",
    "    except LangDetectException:\n",
    "        return \"unbekannt\"\n",
    "\n",
    "# Neue Spalte in deinem DataFrame\n",
    "df[\"Sprache\"] = df[\"Frage\"].apply(erkenne_sprache)\n",
    "\n",
    "# Kontrolle: Verteilung der Sprachen anzeigen\n",
    "print(df[\"Sprache\"].value_counts())"
   ]
  },
  {
   "cell_type": "code",
   "execution_count": 6,
   "metadata": {},
   "outputs": [
    {
     "name": "stdout",
     "output_type": "stream",
     "text": [
      "<bound method NDFrame.head of       ID_Politikbereich       Politikbereich  ID_Wahl Kanton  Jahr  ID_Frage  \\\n",
      "0                   1.0        Aussenpolitik     76.0     BL  2015    1169.0   \n",
      "1                   1.0        Aussenpolitik     76.0     BL  2015    1134.0   \n",
      "2                   1.0        Aussenpolitik     76.0     BL  2015    1168.0   \n",
      "3                   1.0        Aussenpolitik     76.0     BL  2015    1167.0   \n",
      "4                   2.0              Bildung     76.0     BL  2015    1171.0   \n",
      "...                 ...                  ...      ...    ...   ...       ...   \n",
      "4484               14.0              Verkehr    204.0     ZH  2019    3233.0   \n",
      "4485               15.0  Wirtschaft & Arbeit    204.0     ZH  2019    3243.0   \n",
      "4486               15.0  Wirtschaft & Arbeit    204.0     ZH  2019    3212.0   \n",
      "4487               15.0  Wirtschaft & Arbeit    204.0     ZH  2019    3226.0   \n",
      "4488               15.0  Wirtschaft & Arbeit    204.0     ZH  2019    3230.0   \n",
      "\n",
      "                                                  Frage  ID_sv-Kategorie  \\\n",
      "0     Soll die Schweiz innerhalb der nächsten vier J...             11.0   \n",
      "1     Befürworten Sie das bestehende Personenfreizüg...              4.0   \n",
      "2     Soll die Schweiz mit den USA über ein Freihand...             11.0   \n",
      "3     Die Schweiz verfolgt seit einigen Jahren eine ...             11.0   \n",
      "4                                               Bildung             13.0   \n",
      "...                                                 ...              ...   \n",
      "4484  Braucht es im Kanton Zürich zusätzliche Massna...             50.0   \n",
      "4485  Sollen die Haftungsregeln für Unternehmen aus ...             27.0   \n",
      "4486  Sollen Unternehmen einen Nachweis der Lohnglei...             20.0   \n",
      "4487  Befürworten Sie die Einführung eines für alle ...              7.0   \n",
      "4488  Würden Sie eine vollständige Privatisierung de...              7.0   \n",
      "\n",
      "      ID_sv-Group    Fragetyp Sprache  \n",
      "0            59.0  Standard-4      de  \n",
      "1            61.0  Standard-4      de  \n",
      "2            60.0  Standard-4      de  \n",
      "3            63.0  Standard-4      de  \n",
      "4           301.0    Budget-5      de  \n",
      "...           ...         ...     ...  \n",
      "4484        450.0  Standard-4      de  \n",
      "4485         64.0  Standard-4      de  \n",
      "4486         88.0  Standard-4      de  \n",
      "4487         32.0  Standard-4      de  \n",
      "4488        382.0  Standard-4      de  \n",
      "\n",
      "[4489 rows x 11 columns]>\n",
      "<bound method DataFrame.info of       ID_Politikbereich       Politikbereich  ID_Wahl Kanton  Jahr  ID_Frage  \\\n",
      "0                   1.0        Aussenpolitik     76.0     BL  2015    1169.0   \n",
      "1                   1.0        Aussenpolitik     76.0     BL  2015    1134.0   \n",
      "2                   1.0        Aussenpolitik     76.0     BL  2015    1168.0   \n",
      "3                   1.0        Aussenpolitik     76.0     BL  2015    1167.0   \n",
      "4                   2.0              Bildung     76.0     BL  2015    1171.0   \n",
      "...                 ...                  ...      ...    ...   ...       ...   \n",
      "4484               14.0              Verkehr    204.0     ZH  2019    3233.0   \n",
      "4485               15.0  Wirtschaft & Arbeit    204.0     ZH  2019    3243.0   \n",
      "4486               15.0  Wirtschaft & Arbeit    204.0     ZH  2019    3212.0   \n",
      "4487               15.0  Wirtschaft & Arbeit    204.0     ZH  2019    3226.0   \n",
      "4488               15.0  Wirtschaft & Arbeit    204.0     ZH  2019    3230.0   \n",
      "\n",
      "                                                  Frage  ID_sv-Kategorie  \\\n",
      "0     Soll die Schweiz innerhalb der nächsten vier J...             11.0   \n",
      "1     Befürworten Sie das bestehende Personenfreizüg...              4.0   \n",
      "2     Soll die Schweiz mit den USA über ein Freihand...             11.0   \n",
      "3     Die Schweiz verfolgt seit einigen Jahren eine ...             11.0   \n",
      "4                                               Bildung             13.0   \n",
      "...                                                 ...              ...   \n",
      "4484  Braucht es im Kanton Zürich zusätzliche Massna...             50.0   \n",
      "4485  Sollen die Haftungsregeln für Unternehmen aus ...             27.0   \n",
      "4486  Sollen Unternehmen einen Nachweis der Lohnglei...             20.0   \n",
      "4487  Befürworten Sie die Einführung eines für alle ...              7.0   \n",
      "4488  Würden Sie eine vollständige Privatisierung de...              7.0   \n",
      "\n",
      "      ID_sv-Group    Fragetyp Sprache  \n",
      "0            59.0  Standard-4      de  \n",
      "1            61.0  Standard-4      de  \n",
      "2            60.0  Standard-4      de  \n",
      "3            63.0  Standard-4      de  \n",
      "4           301.0    Budget-5      de  \n",
      "...           ...         ...     ...  \n",
      "4484        450.0  Standard-4      de  \n",
      "4485         64.0  Standard-4      de  \n",
      "4486         88.0  Standard-4      de  \n",
      "4487         32.0  Standard-4      de  \n",
      "4488        382.0  Standard-4      de  \n",
      "\n",
      "[4489 rows x 11 columns]>\n"
     ]
    }
   ],
   "source": [
    "print(df.head)\n",
    "\n",
    "print(df.info)"
   ]
  },
  {
   "cell_type": "code",
   "execution_count": 7,
   "metadata": {},
   "outputs": [
    {
     "name": "stdout",
     "output_type": "stream",
     "text": [
      "['Soll die Schweiz innerhalb der nächsten vier Jahre EU-Beitrittsverhandlungen aufnehmen?', 'Befürworten Sie das bestehende Personenfreizügigkeitsabkommen mit der EU?', 'Soll die Schweiz mit den USA über ein Freihandelsabkommen verhandeln?', 'Die Schweiz verfolgt seit einigen Jahren eine aktivere Aussenpolitik, die sich weniger an der strikten Neutralität orientiert. Begrüssen Sie dies?', 'Bildung', 'Finden Sie es richtig, wenn Schulen Dispense aus religiösen Gründen für einzelne Fächer oder Veranstaltungen bewilligen (z.B. Turn-/Schwimmunterricht, Schullager oder Sexualkundeunterricht)?', 'Seit 2014 werden auf der Primarschulstufe im Kanton Baselland zwei Fremdsprachen unterrichtet: Französisch ab der 3. und Englisch ab der 5. Klasse. Würden Sie eine Rückkehr zum Modell mit nur einer Fremdsprache auf der Primarstufe begrüssen?', 'Soll sich der Kanton Baselland für höhere Studiengebühren für ausländische Studierende an der Universität Basel einsetzen?', 'Würden Sie die Einführung des automatischen Austausches von Bankkundendaten zwischen der Schweiz und ausländischen Steuerbehörden befürworten?', 'Ein Vorschlag zur Anpassung des kantonalen Finanzausgleichs sieht vor, dass die Gebergemeinden finanziell entlastet werden. Befürworten Sie dies?']\n"
     ]
    }
   ],
   "source": [
    "print(fragen[0:10])"
   ]
  },
  {
   "cell_type": "code",
   "execution_count": 8,
   "metadata": {},
   "outputs": [
    {
     "data": {
      "application/vnd.jupyter.widget-view+json": {
       "model_id": "4f9beb41f98949c38778d3a9b797d003",
       "version_major": 2,
       "version_minor": 0
      },
      "text/plain": [
       "Verarbeite Fragen mit spaCy:   0%|          | 0/4489 [00:00<?, ?it/s]"
      ]
     },
     "metadata": {},
     "output_type": "display_data"
    }
   ],
   "source": [
    "docs = [nlp(text) for text in tqdm(fragen, desc=\"Verarbeite Fragen mit spaCy\")]\n"
   ]
  },
  {
   "cell_type": "code",
   "execution_count": 9,
   "metadata": {},
   "outputs": [
    {
     "name": "stdout",
     "output_type": "stream",
     "text": [
      "insgesammt 4489 doc objekte erzeugt\n",
      "Soll die Schweiz innerhalb der nächsten vier Jahre EU-Beitrittsverhandlungen aufnehmen?\n",
      "[ 1.25224996e+00  1.22242892e+00  9.35248196e-01 -5.04521787e-01\n",
      " -1.82096279e+00 -1.78192750e-01 -9.66906905e-01 -2.85568208e-01\n",
      "  8.53479981e-01 -5.61134398e-01 -1.09206629e+00  1.66300043e-01\n",
      "  5.37539303e-01  1.88856518e+00 -1.42969179e+00 -8.31870973e-01\n",
      " -1.13255274e+00  3.75250369e-01 -1.47899449e+00 -4.39719468e-01\n",
      " -8.52298200e-01  1.98068187e-01  1.81779996e-01 -3.31918150e-01\n",
      " -5.87908208e-01  5.85915148e-01  4.11780953e-01  5.67855597e-01\n",
      "  6.81246400e-01 -4.87981886e-01 -3.70926827e-01 -1.01381563e-01\n",
      " -3.50530028e-01 -3.57620907e+00 -8.25515568e-01 -1.61932611e+00\n",
      " -5.35312593e-01  1.53268087e+00  1.20549726e+00 -1.01655912e+00\n",
      " -1.50375557e+00  3.49303663e-01  9.35559988e-01 -1.26595271e+00\n",
      " -9.62835371e-01 -3.16797346e-01  5.43149650e-01  1.27787817e+00\n",
      " -1.26766294e-01  9.71607029e-01 -1.42164373e+00  7.65783668e-01\n",
      "  1.34397364e+00  3.71480286e-01 -2.11932993e+00  5.64958155e-01\n",
      "  3.40226680e-01 -6.87374532e-01 -8.76885355e-01 -1.13947916e+00\n",
      " -1.34341013e+00 -1.02641690e+00 -5.62487364e-01 -9.83256847e-02\n",
      "  1.59016538e+00  1.42093003e+00  1.61939466e+00 -1.41982353e+00\n",
      "  9.88859117e-01 -7.76850462e-01  9.49936360e-02 -2.38510996e-01\n",
      "  9.13501203e-01 -1.85727108e+00  1.13920414e+00  2.56907254e-01\n",
      " -1.68601191e+00 -5.65179110e-01  1.66778529e+00 -1.01774180e+00\n",
      " -1.91157377e+00 -1.32373726e+00  1.52099562e+00 -3.28170955e-01\n",
      "  1.06412518e+00 -1.65536389e-01  2.66231716e-01  1.06609039e-01\n",
      "  8.80357504e-01  3.97982150e-02 -1.57914352e+00 -2.33762908e+00\n",
      " -2.89956379e+00 -6.86700121e-02  2.56056100e-01  9.00301486e-02\n",
      " -2.36532673e-01  2.47832686e-01 -1.11581627e-02  2.85124922e+00\n",
      " -7.33236000e-02  1.56366277e+00  1.17276669e-01 -5.22018194e-01\n",
      " -2.04215741e+00  6.60121858e-01 -2.07063556e+00 -5.00186324e-01\n",
      " -8.31604004e-01  1.13485432e+00 -1.21230215e-01  1.04637456e+00\n",
      " -5.40871799e-01  1.45367026e+00  9.75907326e-01  1.51600927e-01\n",
      " -5.21100044e-01 -3.96122754e-01 -6.44596338e-01  8.56037319e-01\n",
      "  9.49451864e-01 -5.74443281e-01  8.01145554e-01  1.38415289e+00\n",
      "  8.28958273e-01  1.93026173e+00  1.65518641e+00 -1.58309072e-01\n",
      "  7.81329095e-01  3.94703090e-01  3.64072546e-02 -4.02575463e-01\n",
      "  3.59314561e-01 -1.70715436e-01  1.02408934e+00 -4.07074541e-01\n",
      "  2.27389455e+00  8.10242057e-01  1.12192464e+00 -1.09455198e-01\n",
      "  9.59241629e-01 -1.39829266e+00  2.07404569e-01 -1.91191363e+00\n",
      "  1.88245475e-01 -5.39696276e-01 -7.28046238e-01 -1.08208577e-03\n",
      " -9.30725411e-03 -2.01469064e+00  1.88337088e+00  9.86623704e-01\n",
      " -1.14622641e+00 -1.47878981e+00  1.15920258e+00 -1.28024280e-01\n",
      "  2.97369987e-01  1.07852924e+00  3.08626354e-01  3.45139056e-01\n",
      "  9.45012033e-01 -1.40527356e+00  5.94699323e-01 -1.59054637e+00\n",
      " -3.10087204e-03  7.36477256e-01  2.33323619e-01  7.02285528e-01\n",
      "  1.29067278e+00  1.66791797e-01  6.74800038e-01  2.29037261e+00\n",
      " -2.65522689e-01  2.17896485e+00 -8.03090036e-01  1.24386716e+00\n",
      "  6.77419066e-01  1.87120867e+00 -6.84272707e-01  9.15534377e-01\n",
      "  4.49066371e-01  1.05690740e-01  6.35440886e-01 -1.50969458e+00\n",
      " -5.32576144e-01  3.08154553e-01 -1.54253110e-01  4.78627652e-01\n",
      "  6.82999969e-01  2.65037268e-01 -2.69030053e-02 -8.59267831e-01\n",
      " -2.38734409e-02 -1.52636379e-01 -3.44839066e-01 -1.66770446e+00\n",
      " -1.62213969e+00 -8.61208200e-01  1.60634494e+00 -8.79009068e-01\n",
      "  1.39710534e+00  4.09386367e-01 -2.24234626e-01 -7.76534498e-01\n",
      "  1.14333534e+00  6.50374532e-01 -5.36904573e-01  1.57722175e+00\n",
      "  1.08201778e+00  1.25894272e+00 -1.05321264e+00 -6.07280910e-01\n",
      "  2.27554545e-01 -2.28872442e+00  2.23636627e-04 -2.27220368e+00\n",
      " -5.37152290e-01 -8.22927296e-01 -1.55282021e-02 -1.65695989e+00\n",
      "  9.61171746e-01  4.50281411e-01  1.79593420e+00  2.12279987e+00\n",
      " -5.17886162e-01  1.00590563e+00  9.10772681e-01 -9.77198541e-01\n",
      "  1.74117172e+00  2.41200638e+00  1.72265440e-01 -5.88018656e-01\n",
      " -1.16567183e+00 -9.32980120e-01 -1.47758448e+00  8.81522715e-01\n",
      "  2.05035433e-01  1.99376833e+00  1.10627085e-01 -1.26639113e-01\n",
      "  5.76798201e-01 -3.85948181e-01  1.02629912e+00 -1.62882090e+00\n",
      " -1.74307719e-01  5.02790511e-01  1.80136883e+00  1.09475100e+00\n",
      " -7.27080941e-01  9.26370978e-01 -8.39575052e-01 -1.73313832e+00\n",
      " -4.09874529e-01  1.31139040e-01 -3.00436378e-01 -3.83645855e-02\n",
      " -2.03113198e+00  1.44385993e+00  3.58737260e-01 -8.54411304e-01\n",
      " -6.84812784e-01 -7.27484524e-01 -8.27674687e-01 -3.44090939e-01\n",
      " -8.67378175e-01 -1.93491733e+00  4.11726296e-01 -1.07723391e+00\n",
      "  2.60757446e+00 -2.76048279e+00  1.17476737e+00 -8.34200084e-02\n",
      "  1.69757998e+00  1.79645140e-02 -1.32479358e+00  1.58977255e-01\n",
      "  2.56384581e-01  1.37479818e+00  4.65809941e-01 -1.22182190e+00\n",
      "  1.82349169e+00  1.63015556e+00 -3.75239074e-01  3.96049976e-01\n",
      " -6.15048170e-01  3.49804521e-01  1.02676368e+00 -1.52705157e+00\n",
      " -1.09511459e+00 -2.87091821e-01 -3.18118513e-01 -2.81736627e-02\n",
      " -3.14930320e-01  5.94089091e-01  2.15490890e+00 -3.90625447e-01\n",
      "  4.27373976e-01 -7.20019996e-01  3.13074470e+00  4.99190301e-01]\n"
     ]
    }
   ],
   "source": [
    "print(f\"insgesammt {len(docs)} doc objekte erzeugt\")\n",
    "\n",
    "print(docs[0])\n",
    "\n",
    "print(docs[0].vector)"
   ]
  },
  {
   "cell_type": "code",
   "execution_count": 10,
   "metadata": {},
   "outputs": [
    {
     "data": {
      "application/vnd.jupyter.widget-view+json": {
       "model_id": "ee3038a80cd847db8acb5dea9f08bd6c",
       "version_major": 2,
       "version_minor": 0
      },
      "text/plain": [
       "Berechne Ähnlichkeiten:   0%|          | 0/4489 [00:00<?, ?it/s]"
      ]
     },
     "metadata": {},
     "output_type": "display_data"
    },
    {
     "name": "stderr",
     "output_type": "stream",
     "text": [
      "C:\\Users\\olive\\AppData\\Local\\Temp\\ipykernel_32184\\3098819585.py:8: UserWarning: [W008] Evaluating Doc.similarity based on empty vectors.\n",
      "  sim = docs[i].similarity(docs[j])\n"
     ]
    }
   ],
   "source": [
    "# Leere Matrix erzeugen\n",
    "n = len(docs)\n",
    "similarity_matrix = np.zeros((n, n))\n",
    "\n",
    "# Ähnlichkeit für jedes Paar berechnen\n",
    "for i in tqdm(range(n), desc=\"Berechne Ähnlichkeiten\"):\n",
    "    for j in range(i, n):  # nur obere Hälfte + Diagonale (spart Zeit)\n",
    "        sim = docs[i].similarity(docs[j])\n",
    "        similarity_matrix[i, j] = sim\n",
    "        similarity_matrix[j, i] = sim  # symmetrisch"
   ]
  },
  {
   "cell_type": "code",
   "execution_count": 11,
   "metadata": {},
   "outputs": [
    {
     "name": "stdout",
     "output_type": "stream",
     "text": [
      "6 Fragen konnten nicht vektorisiert werden.\n",
      "['Insegnamento', 'Trasporti pubblici', 'Traffico stradale', 'Insegnamento', 'Trasporti pubblici', 'Traffico stradale']\n"
     ]
    }
   ],
   "source": [
    "# Liste für problematische Fragen\n",
    "nicht_vektorisierbar = []\n",
    "\n",
    "# Durch alle Fragen iterieren und prüfen, ob der erzeugte Vektor leer ist\n",
    "for frage, doc in zip(fragen, docs):\n",
    "    if doc.vector_norm == 0:\n",
    "        nicht_vektorisierbar.append(frage)\n",
    "\n",
    "# Anzahl anzeigen\n",
    "print(f\"{len(nicht_vektorisierbar)} Fragen konnten nicht vektorisiert werden.\")\n",
    "\n",
    "print(nicht_vektorisierbar)"
   ]
  },
  {
   "cell_type": "code",
   "execution_count": 12,
   "metadata": {},
   "outputs": [
    {
     "name": "stdout",
     "output_type": "stream",
     "text": [
      "4483 Fragen werden für die Ähnlichkeitsberechnung verwendet.\n"
     ]
    },
    {
     "data": {
      "application/vnd.jupyter.widget-view+json": {
       "model_id": "434e317a726e43a8ac2dab95a47837db",
       "version_major": 2,
       "version_minor": 0
      },
      "text/plain": [
       "Berechne Ähnlichkeiten:   0%|          | 0/4483 [00:00<?, ?it/s]"
      ]
     },
     "metadata": {},
     "output_type": "display_data"
    },
    {
     "name": "stdout",
     "output_type": "stream",
     "text": [
      "Ähnlichkeitsmatrix fertig.\n"
     ]
    }
   ],
   "source": [
    "# Nur gültige Fragen und Docs behalten\n",
    "valid_fragen = [frage for frage, doc in zip(fragen, docs) if doc.vector_norm != 0]\n",
    "valid_docs = [doc for doc in docs if doc.vector_norm != 0]\n",
    "n_valid = len(valid_docs)\n",
    "\n",
    "print(f\"{n_valid} Fragen werden für die Ähnlichkeitsberechnung verwendet.\")\n",
    "\n",
    "# Ähnlichkeitsmatrix berechnen\n",
    "similarity_matrix = np.zeros((n_valid, n_valid))\n",
    "\n",
    "for i in tqdm(range(n_valid), desc=\"Berechne Ähnlichkeiten\"):\n",
    "    for j in range(i, n_valid):\n",
    "        sim = valid_docs[i].similarity(valid_docs[j])\n",
    "        similarity_matrix[i, j] = sim\n",
    "        similarity_matrix[j, i] = sim  # symmetrisch\n",
    "\n",
    "print(\"Ähnlichkeitsmatrix fertig.\")\n"
   ]
  },
  {
   "cell_type": "code",
   "execution_count": 13,
   "metadata": {},
   "outputs": [
    {
     "name": "stdout",
     "output_type": "stream",
     "text": [
      "44074\n"
     ]
    }
   ],
   "source": [
    "# Ähnliche Paare mit Score > 0.90\n",
    "ähnliche_paare = []\n",
    "\n",
    "for i in range(n_valid):\n",
    "    for j in range(n_valid):\n",
    "        if i != j:  # keine Selbstvergleiche\n",
    "            score = similarity_matrix[i, j]\n",
    "            if score > 0.95:  # oder dein gewünschter Schwellenwert\n",
    "                ähnliche_paare.append((i, j, score))\n",
    "\n",
    "\n",
    "print(len(ähnliche_paare))"
   ]
  },
  {
   "cell_type": "code",
   "execution_count": 14,
   "metadata": {},
   "outputs": [
    {
     "name": "stdout",
     "output_type": "stream",
     "text": [
      "24634 Paare sind exakt gleich formuliert.\n",
      "(0, 167, np.float64(1.0))\n"
     ]
    }
   ],
   "source": [
    "exakt_gleich = [\n",
    "    (i, j, score) for i, j, score in ähnliche_paare\n",
    "    if valid_fragen[i] == valid_fragen[j]\n",
    "]\n",
    "\n",
    "print(f\"{len(exakt_gleich)} Paare sind exakt gleich formuliert.\")\n",
    "\n",
    "print(exakt_gleich[0])\n"
   ]
  },
  {
   "cell_type": "code",
   "execution_count": 15,
   "metadata": {},
   "outputs": [
    {
     "name": "stdout",
     "output_type": "stream",
     "text": [
      "19440 Paare sind semantisch ähnlich (nicht exakt gleich).\n"
     ]
    }
   ],
   "source": [
    "semantisch_ähnlich = [\n",
    "    (i, j, score) for i, j, score in ähnliche_paare\n",
    "    if valid_fragen[i] != valid_fragen[j]\n",
    "]\n",
    "\n",
    "print(f\"{len(semantisch_ähnlich)} Paare sind semantisch ähnlich (nicht exakt gleich).\")\n"
   ]
  },
  {
   "cell_type": "code",
   "execution_count": 16,
   "metadata": {},
   "outputs": [
    {
     "name": "stdout",
     "output_type": "stream",
     "text": [
      "🔁 Exakt gleiche Fragen (aber an unterschiedlichen Positionen):\n",
      "\n",
      "Frage 0 & 167 (Score: 1.00)\n",
      "→ Soll die Schweiz innerhalb der nächsten vier Jahre EU-Beitrittsverhandlungen aufnehmen?\n",
      "--------------------------------------------------------------------------------\n",
      "Frage 0 & 224 (Score: 1.00)\n",
      "→ Soll die Schweiz innerhalb der nächsten vier Jahre EU-Beitrittsverhandlungen aufnehmen?\n",
      "--------------------------------------------------------------------------------\n",
      "Frage 0 & 350 (Score: 1.00)\n",
      "→ Soll die Schweiz innerhalb der nächsten vier Jahre EU-Beitrittsverhandlungen aufnehmen?\n",
      "--------------------------------------------------------------------------------\n",
      "Frage 0 & 520 (Score: 1.00)\n",
      "→ Soll die Schweiz innerhalb der nächsten vier Jahre EU-Beitrittsverhandlungen aufnehmen?\n",
      "--------------------------------------------------------------------------------\n",
      "Frage 0 & 564 (Score: 1.00)\n",
      "→ Soll die Schweiz innerhalb der nächsten vier Jahre EU-Beitrittsverhandlungen aufnehmen?\n",
      "--------------------------------------------------------------------------------\n",
      "Frage 0 & 602 (Score: 1.00)\n",
      "→ Soll die Schweiz innerhalb der nächsten vier Jahre EU-Beitrittsverhandlungen aufnehmen?\n",
      "--------------------------------------------------------------------------------\n",
      "Frage 0 & 1993 (Score: 1.00)\n",
      "→ Soll die Schweiz innerhalb der nächsten vier Jahre EU-Beitrittsverhandlungen aufnehmen?\n",
      "--------------------------------------------------------------------------------\n",
      "Frage 0 & 2782 (Score: 1.00)\n",
      "→ Soll die Schweiz innerhalb der nächsten vier Jahre EU-Beitrittsverhandlungen aufnehmen?\n",
      "--------------------------------------------------------------------------------\n",
      "Frage 0 & 3002 (Score: 1.00)\n",
      "→ Soll die Schweiz innerhalb der nächsten vier Jahre EU-Beitrittsverhandlungen aufnehmen?\n",
      "--------------------------------------------------------------------------------\n",
      "Frage 0 & 3291 (Score: 1.00)\n",
      "→ Soll die Schweiz innerhalb der nächsten vier Jahre EU-Beitrittsverhandlungen aufnehmen?\n",
      "--------------------------------------------------------------------------------\n"
     ]
    }
   ],
   "source": [
    "print(\"🔁 Exakt gleiche Fragen (aber an unterschiedlichen Positionen):\\n\")\n",
    "\n",
    "for i, j, score in exakt_gleich[:10]:  # Zeige z. B. die ersten 10\n",
    "    print(f\"Frage {i} & {j} (Score: {score:.2f})\")\n",
    "    print(f\"→ {valid_fragen[i]}\")\n",
    "    print(\"-\" * 80)\n"
   ]
  },
  {
   "cell_type": "code",
   "execution_count": 17,
   "metadata": {},
   "outputs": [
    {
     "name": "stdout",
     "output_type": "stream",
     "text": [
      "Semantisch ähnliche Fragen (nicht wortgleich):\n",
      "\n",
      "Frage 0 & 1101 (Score: 0.98)\n",
      "Frage 1: Soll die Schweiz innerhalb der nächsten vier Jahre EU-Beitrittsverhandlungen aufnehmen?\n",
      "Frage 2: Soll die Schweiz innerhalb der nächsten vier Jahre EU- Beitrittsverhandlungen aufnehmen?\n",
      "--------------------------------------------------------------------------------\n",
      "Frage 0 & 1138 (Score: 0.98)\n",
      "Frage 1: Soll die Schweiz innerhalb der nächsten vier Jahre EU-Beitrittsverhandlungen aufnehmen?\n",
      "Frage 2: Soll die Schweiz innerhalb der nächsten vier Jahre EU- Beitrittsverhandlungen aufnehmen?\n",
      "--------------------------------------------------------------------------------\n",
      "Frage 0 & 1697 (Score: 1.00)\n",
      "Frage 1: Soll die Schweiz innerhalb der nächsten vier Jahre EU-Beitrittsverhandlungen aufnehmen?\n",
      "Frage 2: Soll die Schweiz innerhalb der nächsten vier Jahre EU-Beitrittsverhandlungen aufnehmen? \n",
      "--------------------------------------------------------------------------------\n",
      "Frage 0 & 1873 (Score: 1.00)\n",
      "Frage 1: Soll die Schweiz innerhalb der nächsten vier Jahre EU-Beitrittsverhandlungen aufnehmen?\n",
      "Frage 2: Soll die Schweiz innerhalb der nächsten vier Jahre EU-Beitrittsverhandlungen aufnehmen? \n",
      "--------------------------------------------------------------------------------\n",
      "Frage 0 & 2097 (Score: 1.00)\n",
      "Frage 1: Soll die Schweiz innerhalb der nächsten vier Jahre EU-Beitrittsverhandlungen aufnehmen?\n",
      "Frage 2: Soll die Schweiz innerhalb der nächsten vier Jahre EU-Beitrittsverhandlungen aufnehmen? \n",
      "--------------------------------------------------------------------------------\n",
      "Frage 0 & 2275 (Score: 1.00)\n",
      "Frage 1: Soll die Schweiz innerhalb der nächsten vier Jahre EU-Beitrittsverhandlungen aufnehmen?\n",
      "Frage 2: Soll die Schweiz innerhalb der nächsten vier Jahre EU-Beitrittsverhandlungen aufnehmen? \n",
      "--------------------------------------------------------------------------------\n",
      "Frage 0 & 2449 (Score: 1.00)\n",
      "Frage 1: Soll die Schweiz innerhalb der nächsten vier Jahre EU-Beitrittsverhandlungen aufnehmen?\n",
      "Frage 2: Soll die Schweiz innerhalb der nächsten vier Jahre EU-Beitrittsverhandlungen aufnehmen? \n",
      "--------------------------------------------------------------------------------\n",
      "Frage 0 & 2559 (Score: 1.00)\n",
      "Frage 1: Soll die Schweiz innerhalb der nächsten vier Jahre EU-Beitrittsverhandlungen aufnehmen?\n",
      "Frage 2: Soll die Schweiz innerhalb der nächsten vier Jahre EU-Beitrittsverhandlungen aufnehmen? \n",
      "--------------------------------------------------------------------------------\n",
      "Frage 0 & 3152 (Score: 0.98)\n",
      "Frage 1: Soll die Schweiz innerhalb der nächsten vier Jahre EU-Beitrittsverhandlungen aufnehmen?\n",
      "Frage 2: Soll die Schweiz innerhalb der nächsten vier Jahre EU- Beitrittsverhandlungen aufnehmen?\n",
      "--------------------------------------------------------------------------------\n",
      "Frage 0 & 3189 (Score: 0.98)\n",
      "Frage 1: Soll die Schweiz innerhalb der nächsten vier Jahre EU-Beitrittsverhandlungen aufnehmen?\n",
      "Frage 2: Soll die Schweiz innerhalb der nächsten vier Jahre EU- Beitrittsverhandlungen aufnehmen?\n",
      "--------------------------------------------------------------------------------\n"
     ]
    }
   ],
   "source": [
    "print(\"Semantisch ähnliche Fragen (nicht wortgleich):\\n\")\n",
    "\n",
    "for i, j, score in semantisch_ähnlich[:10]:  # Zeige z. B. die ersten 10\n",
    "    print(f\"Frage {i} & {j} (Score: {score:.2f})\")\n",
    "    print(\"Frage 1:\", valid_fragen[i])\n",
    "    print(\"Frage 2:\", valid_fragen[j])\n",
    "    print(\"-\" * 80)\n"
   ]
  },
  {
   "cell_type": "code",
   "execution_count": 18,
   "metadata": {},
   "outputs": [
    {
     "name": "stdout",
     "output_type": "stream",
     "text": [
      "36269 Fragepaare mit Score > 0.9\n"
     ]
    }
   ],
   "source": [
    "# Schwellenwert für Ähnlichkeit\n",
    "schwelle = 0.90\n",
    "\n",
    "# Liste vorbereiten\n",
    "ähnliche_fragen_liste = []\n",
    "\n",
    "# Schleife über alle Fragepaare\n",
    "for i in range(n_valid):\n",
    "    for j in range(i + 1, n_valid):  # nur jede Kombination einmal (kein i==j)\n",
    "        score = similarity_matrix[i, j]\n",
    "        if score > schwelle:\n",
    "            ähnliche_fragen_liste.append({\n",
    "                \"Frage 1\": valid_fragen[i],\n",
    "                \"Frage 2\": valid_fragen[j],\n",
    "                \"Score\": score\n",
    "            })\n",
    "\n",
    "print(f\"{len(ähnliche_fragen_liste)} Fragepaare mit Score > {schwelle}\")\n"
   ]
  },
  {
   "cell_type": "code",
   "execution_count": 19,
   "metadata": {},
   "outputs": [
    {
     "name": "stdout",
     "output_type": "stream",
     "text": [
      "(36269, 3)\n"
     ]
    },
    {
     "data": {
      "text/html": [
       "<div>\n",
       "<style scoped>\n",
       "    .dataframe tbody tr th:only-of-type {\n",
       "        vertical-align: middle;\n",
       "    }\n",
       "\n",
       "    .dataframe tbody tr th {\n",
       "        vertical-align: top;\n",
       "    }\n",
       "\n",
       "    .dataframe thead th {\n",
       "        text-align: right;\n",
       "    }\n",
       "</style>\n",
       "<table border=\"1\" class=\"dataframe\">\n",
       "  <thead>\n",
       "    <tr style=\"text-align: right;\">\n",
       "      <th></th>\n",
       "      <th>Frage 1</th>\n",
       "      <th>Frage 2</th>\n",
       "      <th>Score</th>\n",
       "    </tr>\n",
       "  </thead>\n",
       "  <tbody>\n",
       "    <tr>\n",
       "      <th>0</th>\n",
       "      <td>Soll die Schweiz innerhalb der nächsten vier J...</td>\n",
       "      <td>Soll die Schweiz innerhalb der nächsten vier J...</td>\n",
       "      <td>1.0</td>\n",
       "    </tr>\n",
       "    <tr>\n",
       "      <th>1</th>\n",
       "      <td>Soll die Schweiz innerhalb der nächsten vier J...</td>\n",
       "      <td>Soll die Schweiz innerhalb der nächsten vier J...</td>\n",
       "      <td>1.0</td>\n",
       "    </tr>\n",
       "    <tr>\n",
       "      <th>2</th>\n",
       "      <td>Soll die Schweiz innerhalb der nächsten vier J...</td>\n",
       "      <td>Soll die Schweiz innerhalb der nächsten vier J...</td>\n",
       "      <td>1.0</td>\n",
       "    </tr>\n",
       "    <tr>\n",
       "      <th>3</th>\n",
       "      <td>Soll die Schweiz innerhalb der nächsten vier J...</td>\n",
       "      <td>Soll die Schweiz innerhalb der nächsten vier J...</td>\n",
       "      <td>1.0</td>\n",
       "    </tr>\n",
       "    <tr>\n",
       "      <th>4</th>\n",
       "      <td>Soll die Schweiz innerhalb der nächsten vier J...</td>\n",
       "      <td>Soll die Schweiz innerhalb der nächsten vier J...</td>\n",
       "      <td>1.0</td>\n",
       "    </tr>\n",
       "  </tbody>\n",
       "</table>\n",
       "</div>"
      ],
      "text/plain": [
       "                                             Frage 1  \\\n",
       "0  Soll die Schweiz innerhalb der nächsten vier J...   \n",
       "1  Soll die Schweiz innerhalb der nächsten vier J...   \n",
       "2  Soll die Schweiz innerhalb der nächsten vier J...   \n",
       "3  Soll die Schweiz innerhalb der nächsten vier J...   \n",
       "4  Soll die Schweiz innerhalb der nächsten vier J...   \n",
       "\n",
       "                                             Frage 2  Score  \n",
       "0  Soll die Schweiz innerhalb der nächsten vier J...    1.0  \n",
       "1  Soll die Schweiz innerhalb der nächsten vier J...    1.0  \n",
       "2  Soll die Schweiz innerhalb der nächsten vier J...    1.0  \n",
       "3  Soll die Schweiz innerhalb der nächsten vier J...    1.0  \n",
       "4  Soll die Schweiz innerhalb der nächsten vier J...    1.0  "
      ]
     },
     "execution_count": 19,
     "metadata": {},
     "output_type": "execute_result"
    }
   ],
   "source": [
    "df_ähnlich = pd.DataFrame(ähnliche_fragen_liste)\n",
    "print(df_ähnlich.shape)\n",
    "df_ähnlich.head()\n",
    "\n"
   ]
  },
  {
   "cell_type": "code",
   "execution_count": 20,
   "metadata": {},
   "outputs": [
    {
     "name": "stdout",
     "output_type": "stream",
     "text": [
      "1603 Fragen haben mindestens eine ähnliche Partnerfrage.\n"
     ]
    }
   ],
   "source": [
    "# Alle betroffenen Frage-Texte extrahieren\n",
    "betroffene_fragen = set()\n",
    "\n",
    "for eintrag in ähnliche_fragen_liste:\n",
    "    betroffene_fragen.add(eintrag[\"Frage 1\"])\n",
    "    betroffene_fragen.add(eintrag[\"Frage 2\"])\n",
    "\n",
    "print(f\"{len(betroffene_fragen)} Fragen haben mindestens eine ähnliche Partnerfrage.\")"
   ]
  },
  {
   "cell_type": "code",
   "execution_count": 21,
   "metadata": {},
   "outputs": [
    {
     "name": "stdout",
     "output_type": "stream",
     "text": [
      "1.  Êtes-vous favorable à des exigences plus sévères en matière de naturalisation des étrangers?\n",
      "2. 2017 wurden die Gewinnsteuern im Kanton Graubünden für Unternehmen gesenkt (von 16.7% auf 16.1%). Befürworten Sie eine weitere Reduktion dieser Steuern für Unternehmen?\n",
      "3. A l'instar du canton de Bâle et la ville de Berne, le canton de Genève devrait-il introduire un quota minimum obligatoire de 35% de femmes pour les postes cadres de l'administration cantonale ? \n",
      "4. A l'instar du canton de Zoug, le canton de Genève devrait-il encourager l'utilisation de cryptomonnaies pour le paiements de contributions cantonales (université, impôts etc.) ?\n",
      "5. Aargauer Gemeinden können die Unterbringung von Asylsuchende durch die Entrichtung einer Ersatzabgabe umgehen. Befürworten Sie diese Praxis?\n",
      "6. Ab 2016 werden im Kanton St.Gallen keine neuen ausserordentlichen Ergänzungsleistungen (Mietkosten-Zulage) mehr ausbezahlt. Unterstützen Sie diese Sparmassnahme?\n",
      "7. Allez-vous voter en faveur de l'initiative \"pour en finir avec les constructions envahissantes de résidences secondaires\" qui propose une limitation de la proportion des résidences secondaires à 20 % du parc des logements et de la surface brute au sol habitable?\n",
      "8. Allez-vous voter en faveur de l'initiative \"épargne-logement\" qui vise à encourager l'accès à la propriété à travers la possibilité de déduire des impôts l'épargne destinée à l'achat d'un logement?\n",
      "9. Allez-vous voté en faveur de l'initiative \"6 semaines de vacances pour tous\"?\n",
      "10. Allgemeine Kantonsverwaltung\n"
     ]
    }
   ],
   "source": [
    "# In eine sortierte Liste umwandeln\n",
    "betroffene_fragen_liste = sorted(list(betroffene_fragen))\n",
    "\n",
    "# Beispiel: Die ersten 10 anzeigen\n",
    "for i, frage in enumerate(betroffene_fragen_liste[:10]):\n",
    "    print(f\"{i+1}. {frage}\")"
   ]
  }
 ],
 "metadata": {
  "kernelspec": {
   "display_name": "Python 3",
   "language": "python",
   "name": "python3"
  },
  "language_info": {
   "codemirror_mode": {
    "name": "ipython",
    "version": 3
   },
   "file_extension": ".py",
   "mimetype": "text/x-python",
   "name": "python",
   "nbconvert_exporter": "python",
   "pygments_lexer": "ipython3",
   "version": "3.11.11"
  }
 },
 "nbformat": 4,
 "nbformat_minor": 2
}
