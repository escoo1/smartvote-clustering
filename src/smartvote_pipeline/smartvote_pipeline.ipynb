{
 "cells": [
  {
   "cell_type": "markdown",
   "id": "14814462",
   "metadata": {},
   "source": [
    "\n",
    "# Smartvote – Clustering Pipeline  \n"
   ]
  },
  {
   "cell_type": "code",
   "execution_count": 21,
   "id": "5861e36f",
   "metadata": {},
   "outputs": [
    {
     "name": "stdout",
     "output_type": "stream",
     "text": [
      "Parameter geladen.\n"
     ]
    }
   ],
   "source": [
    "\n",
    "from pathlib import Path\n",
    "import pandas as pd\n",
    "import numpy as np\n",
    "\n",
    "from sentence_transformers import SentenceTransformer, util\n",
    "import hdbscan\n",
    "from sklearn.feature_extraction.text import TfidfVectorizer\n",
    "from sklearn.cluster import DBSCAN\n",
    "from nltk.corpus import stopwords\n",
    "import nltk, sys, warnings, math\n",
    "\n",
    "import math, itertools\n",
    "from openpyxl import Workbook\n",
    "from openpyxl.styles import PatternFill\n",
    "from openpyxl.utils import get_column_letter\n",
    "\n",
    "# ---------- Parameter ----------\n",
    "DATA_PATH              = Path('df_de_final.xlsx')       # Eingabedatei\n",
    "EXPORT_PATH            = Path('cluster_ergebnis.xlsx')  # Ausgabe‑Datei\n",
    "\n",
    "SBERT_MODEL_NAME       = 'paraphrase-multilingual-MiniLM-L12-v2'\n",
    "\n",
    "# Clustering\n",
    "HDBSCAN_MIN_CLUSTER_SIZE = 2\n",
    "HDBSCAN_MIN_SAMPLES      = None        # None = auto = min_cluster_size//2\n",
    "MIN_FINAL_CLUSTER_SIZE   = 2           # alles <2 wird als Noise behandelt\n",
    "\n",
    "# Duplikaterkennung\n",
    "DUP_EPS = 0.05                         # DBSCAN‑Epsilon im TF‑IDF‑Raum\n",
    "\n",
    "# Re‑Assignment\n",
    "REASSIGN_SIM_THRESH = 0.70             # Schwelle, ab der Noise‑Fragen einem Cluster zugeordnet werden\n",
    "\n",
    "# NLTK‐Stopwörter laden (nur 1× pro Session)\n",
    "nltk.download('stopwords', quiet=True)\n",
    "GERMAN_STOP = stopwords.words('german')\n",
    "\n",
    "print('Parameter geladen.')\n"
   ]
  },
  {
   "cell_type": "code",
   "execution_count": 22,
   "id": "99e324d1",
   "metadata": {},
   "outputs": [
    {
     "name": "stdout",
     "output_type": "stream",
     "text": [
      "Geladene Zeilen: 7,459\n",
      "Norm‑Spalte fertig.\n"
     ]
    }
   ],
   "source": [
    "\n",
    "# 1 ) Daten laden & Grundreinigung\n",
    "df_all = pd.read_excel(DATA_PATH)\n",
    "print(f'Geladene Zeilen: {len(df_all):,}')\n",
    "\n",
    "df_all['frage_text_norm'] = (\n",
    "    df_all['Frage_Text'].astype(str)\n",
    "          .str.strip()\n",
    "          .str.lower()\n",
    ")\n",
    "\n",
    "print('Norm‑Spalte fertig.')\n"
   ]
  },
  {
   "cell_type": "code",
   "execution_count": 23,
   "id": "acd05db7",
   "metadata": {},
   "outputs": [
    {
     "name": "stdout",
     "output_type": "stream",
     "text": [
      "Eindeutige Fragen nach Duplikaterkennung: 2,955\n"
     ]
    }
   ],
   "source": [
    "\n",
    "# 2 ) Duplikaterkennung mit TF‑IDF + DBSCAN\n",
    "tfidf  = TfidfVectorizer(stop_words=GERMAN_STOP)\n",
    "X_tfidf = tfidf.fit_transform(df_all['frage_text_norm'])\n",
    "\n",
    "dbscan = DBSCAN(eps=DUP_EPS, min_samples=2, metric='cosine')\n",
    "dupe_labels = dbscan.fit_predict(X_tfidf)\n",
    "\n",
    "df_all['dupe_cluster']  = dupe_labels\n",
    "df_all['dupe_is_main']  = df_all.groupby('dupe_cluster').cumcount() == 0\n",
    "\n",
    "# --- Repräsentanten auswählen & eindeutige Fragen extrahieren ---\n",
    "unique_mask = (df_all['dupe_cluster'] == -1) | (df_all['dupe_is_main'])\n",
    "df_unique   = df_all[unique_mask].copy().reset_index(drop=True)\n",
    "\n",
    "print(f'Eindeutige Fragen nach Duplikaterkennung: {len(df_unique):,}')\n"
   ]
  },
  {
   "cell_type": "code",
   "execution_count": 24,
   "id": "f7f376ad",
   "metadata": {},
   "outputs": [
    {
     "data": {
      "application/vnd.jupyter.widget-view+json": {
       "model_id": "b9785ee0d21e4bd381b447e003da07a7",
       "version_major": 2,
       "version_minor": 0
      },
      "text/plain": [
       "Batches:   0%|          | 0/93 [00:00<?, ?it/s]"
      ]
     },
     "metadata": {},
     "output_type": "display_data"
    },
    {
     "name": "stdout",
     "output_type": "stream",
     "text": [
      "Embeddings erstellt.\n"
     ]
    }
   ],
   "source": [
    "\n",
    "# 3 ) SBERT‑Embeddings berechnen\n",
    "model = SentenceTransformer(SBERT_MODEL_NAME)\n",
    "embeddings = model.encode(\n",
    "    df_unique['frage_text_norm'].tolist(),\n",
    "    show_progress_bar=True,\n",
    "    convert_to_tensor=True\n",
    ")\n",
    "print('Embeddings erstellt.')\n"
   ]
  },
  {
   "cell_type": "code",
   "execution_count": 25,
   "id": "23025fe1",
   "metadata": {},
   "outputs": [
    {
     "name": "stderr",
     "output_type": "stream",
     "text": [
      "c:\\Users\\olive\\git\\EPRP\\.conda\\Lib\\site-packages\\sklearn\\utils\\deprecation.py:151: FutureWarning: 'force_all_finite' was renamed to 'ensure_all_finite' in 1.6 and will be removed in 1.8.\n",
      "  warnings.warn(\n",
      "c:\\Users\\olive\\git\\EPRP\\.conda\\Lib\\site-packages\\sklearn\\utils\\deprecation.py:151: FutureWarning: 'force_all_finite' was renamed to 'ensure_all_finite' in 1.6 and will be removed in 1.8.\n",
      "  warnings.warn(\n"
     ]
    },
    {
     "name": "stdout",
     "output_type": "stream",
     "text": [
      "Anzahl Cluster (exkl. Noise): 276\n"
     ]
    }
   ],
   "source": [
    "\n",
    "# 4 ) HDBSCAN‑Clustering\n",
    "clusterer = hdbscan.HDBSCAN(\n",
    "    min_cluster_size      = HDBSCAN_MIN_CLUSTER_SIZE,\n",
    "    min_samples           = HDBSCAN_MIN_SAMPLES,\n",
    "    metric                = 'euclidean',\n",
    "    cluster_selection_method = 'eom'\n",
    ")\n",
    "cluster_labels = clusterer.fit_predict(embeddings.cpu().numpy())\n",
    "df_unique['cluster'] = cluster_labels\n",
    "\n",
    "print('Anzahl Cluster (exkl. Noise):',\n",
    "      len(set(cluster_labels)) - (1 if -1 in cluster_labels else 0))\n"
   ]
  },
  {
   "cell_type": "code",
   "execution_count": 26,
   "id": "539a9c8d",
   "metadata": {},
   "outputs": [
    {
     "name": "stdout",
     "output_type": "stream",
     "text": [
      "Als Noise markiert (Grösse <2): 0 Cluster\n"
     ]
    }
   ],
   "source": [
    "\n",
    "# 5 ) Ein‑Fragen‑Cluster als Noise behandeln\n",
    "size_map = df_unique.groupby('cluster').size()\n",
    "tiny_clusters = size_map[size_map < MIN_FINAL_CLUSTER_SIZE].index\n",
    "\n",
    "df_unique.loc[df_unique['cluster'].isin(tiny_clusters), 'cluster'] = -1\n",
    "print(f'Als Noise markiert (Grösse <{MIN_FINAL_CLUSTER_SIZE}): {len(tiny_clusters)} Cluster')\n"
   ]
  },
  {
   "cell_type": "code",
   "execution_count": 27,
   "id": "d796cba5",
   "metadata": {},
   "outputs": [
    {
     "name": "stderr",
     "output_type": "stream",
     "text": [
      "C:\\Users\\olive\\AppData\\Local\\Temp\\ipykernel_26140\\2995201860.py:22: FutureWarning: Setting an item of incompatible dtype is deprecated and will raise an error in a future version of pandas. Value 'noise_196' has dtype incompatible with int64, please explicitly cast to a compatible dtype first.\n",
      "  df_unique.at[idx, 'cluster'] = f'noise_{best_cluster}'\n"
     ]
    },
    {
     "name": "stdout",
     "output_type": "stream",
     "text": [
      "Noise‑Reassignment abgeschlossen.\n"
     ]
    }
   ],
   "source": [
    "\n",
    "# 6 ) Noise‑Punkte zuordnen\n",
    "import torch\n",
    "noise_idx = df_unique[df_unique['cluster'] == -1].index\n",
    "\n",
    "if len(noise_idx):\n",
    "    noise_emb = embeddings[noise_idx]\n",
    "    clustered_mask = df_unique['cluster'] != -1\n",
    "    clustered_emb  = embeddings[clustered_mask]\n",
    "\n",
    "    for i, idx in enumerate(noise_idx):\n",
    "        sims = util.cos_sim(noise_emb[i], clustered_emb)[0].cpu().numpy()\n",
    "        best_idx   = sims.argmax()\n",
    "        best_sim   = sims[best_idx]\n",
    "\n",
    "        if best_sim >= REASSIGN_SIM_THRESH:\n",
    "            best_cluster = df_unique.iloc[np.where(clustered_mask)[0][best_idx]]['cluster']\n",
    "            # -------- sauberes noise‑Label ohne Verdopplung -----------\n",
    "            if isinstance(best_cluster, str) and best_cluster.startswith('noise_'):\n",
    "                base = best_cluster.split('noise_')[-1]\n",
    "                df_unique.at[idx, 'cluster'] = f'noise_{base}'\n",
    "            else:\n",
    "                df_unique.at[idx, 'cluster'] = f'noise_{best_cluster}'\n",
    "\n",
    "print('Noise‑Reassignment abgeschlossen.')\n"
   ]
  },
  {
   "cell_type": "code",
   "execution_count": 28,
   "id": "f059d898",
   "metadata": {},
   "outputs": [
    {
     "name": "stdout",
     "output_type": "stream",
     "text": [
      "Hauptfragen markiert & Ähnlichkeiten berechnet.\n"
     ]
    }
   ],
   "source": [
    "\n",
    "# 7 ) Hauptfrage & Ähnlichkeit\n",
    "df_unique['ist_hauptfrage']              = False\n",
    "df_unique['ähnlichkeit_zur_hauptfrage']  = np.nan\n",
    "\n",
    "final_emb = model.encode(df_unique['frage_text_norm'].tolist(),\n",
    "                         convert_to_tensor=True)\n",
    "\n",
    "for cl in df_unique['cluster'].unique():\n",
    "    cl_mask = df_unique['cluster'] == cl\n",
    "    idxs    = np.where(cl_mask)[0]\n",
    "    if not len(idxs):\n",
    "        continue\n",
    "    centroid = final_emb[idxs].mean(dim=0, keepdim=True)\n",
    "    sims     = util.cos_sim(centroid, final_emb[idxs])[0].cpu().numpy()\n",
    "\n",
    "    best_local_idx = idxs[sims.argmax()]\n",
    "    df_unique.at[best_local_idx, 'ist_hauptfrage'] = True\n",
    "    df_unique.loc[cl_mask, 'ähnlichkeit_zur_hauptfrage'] = sims\n",
    "\n",
    "print('Hauptfragen markiert & Ähnlichkeiten berechnet.')\n"
   ]
  },
  {
   "cell_type": "code",
   "execution_count": 29,
   "id": "07589a9f",
   "metadata": {},
   "outputs": [
    {
     "name": "stdout",
     "output_type": "stream",
     "text": [
      "Cluster auf alle Zeilen übertragen.\n"
     ]
    }
   ],
   "source": [
    "\n",
    "# 8 ) Cluster auf alle Duplikats‑Zeilen übertragen\n",
    "# 8a) Cluster‑Info von df_unique an df_all mergen\n",
    "df_all = df_all.merge(\n",
    "    df_unique[['ID_gesamt', 'cluster']],\n",
    "    on='ID_gesamt',\n",
    "    how='left'\n",
    ")\n",
    "\n",
    "# 8b) Fehlende Cluster über Repräsentanten‑Map auffüllen\n",
    "rep_map = (df_all[df_all['dupe_is_main']]\n",
    "           .set_index('dupe_cluster')['cluster'])\n",
    "\n",
    "def fill_cluster(row):\n",
    "    if pd.isna(row['cluster']):\n",
    "        return rep_map.get(row['dupe_cluster'], -1)\n",
    "    return row['cluster']\n",
    "\n",
    "df_all['cluster'] = df_all.apply(fill_cluster, axis=1)\n",
    "\n",
    "print('Cluster auf alle Zeilen übertragen.')\n"
   ]
  },
  {
   "cell_type": "code",
   "execution_count": 30,
   "id": "a8b84909",
   "metadata": {},
   "outputs": [
    {
     "name": "stdout",
     "output_type": "stream",
     "text": [
      "→ 25 identische Cluster nach -1 verschoben\n",
      "✓ Export fertig: cluster_ergebnis.xlsx\n"
     ]
    }
   ],
   "source": [
    "# 9) Hauptfrage-Similarität, identische-Cluster zu -1, Noise-Sortierung -----\n",
    "from pathlib import Path\n",
    "import numpy as np, torch, pandas as pd\n",
    "from sentence_transformers import util\n",
    "from sklearn.feature_extraction.text import TfidfVectorizer\n",
    "from sklearn.cluster import DBSCAN\n",
    "from openpyxl import Workbook\n",
    "from openpyxl.styles import PatternFill\n",
    "from openpyxl.utils import get_column_letter\n",
    "\n",
    "EXPORT_PATH = Path('cluster_ergebnis.xlsx')\n",
    "\n",
    "export_cols = ['cluster',\n",
    "               'ist_hauptfrage',\n",
    "               'ähnlichkeit_zur_hauptfrage',\n",
    "               'Frage_Text',\n",
    "               'ID_gesamt']\n",
    "\n",
    "# ---------------------------------------------------------------------------\n",
    "# 9a) Grundspalten sicherstellen\n",
    "for col in ['ist_hauptfrage', 'ähnlichkeit_zur_hauptfrage']:\n",
    "    if col not in df_all.columns:\n",
    "        df_all[col] = False if col == 'ist_hauptfrage' else np.nan\n",
    "\n",
    "if ('frage_text_norm' not in df_all.columns or\n",
    "        df_all['frage_text_norm'].isna().all()):\n",
    "    df_all['frage_text_norm'] = (\n",
    "        df_all['Frage_Text'].astype(str).str.strip().str.lower()\n",
    "    )\n",
    "\n",
    "df_export = df_all[export_cols + ['frage_text_norm']].copy()\n",
    "\n",
    "# ---------------------------------------------------------------------------\n",
    "# 9b) Noise-Subcluster mit nur 1 Frage zu -1\n",
    "sizes = df_export.groupby('cluster').size()\n",
    "single_noise = [c for c, n in sizes.items() if (n == 1) and str(c).startswith('noise')]\n",
    "if single_noise:\n",
    "    df_export.loc[df_export['cluster'].isin(single_noise), 'cluster'] = -1\n",
    "\n",
    "# ---------------------------------------------------------------------------\n",
    "# 9c) Embeddings + Ähnlichkeit zur **Hauptfrage**\n",
    "emb = model.encode(df_export['frage_text_norm'].tolist(), convert_to_tensor=True)\n",
    "df_export[['ähnlichkeit_zur_hauptfrage', 'ist_hauptfrage']] = [np.nan, False]\n",
    "\n",
    "clusters_to_noise = []   # merken, ob alle Fragen identisch sind\n",
    "\n",
    "for cl in df_export['cluster'].unique():\n",
    "    if cl == -1:\n",
    "        continue\n",
    "\n",
    "    idxs = np.where(df_export['cluster'] == cl)[0]\n",
    "    if len(idxs) == 0:\n",
    "        continue\n",
    "\n",
    "    emb_cl = emb[idxs]\n",
    "\n",
    "    # Hauptfrage = Text mit höchster Frequenz; bei Gleichstand beste zum Zentroid\n",
    "    texts = df_export.loc[idxs, 'frage_text_norm']\n",
    "    counts = texts.value_counts()\n",
    "    most_freq = counts.index[0]\n",
    "    cand_idxs = idxs[texts == most_freq]\n",
    "\n",
    "    if len(cand_idxs) == 1:\n",
    "        main_idx = cand_idxs[0]\n",
    "    else:\n",
    "        # mehrere gleich häufig -> wähle die, die dem Zentroid am nächsten ist\n",
    "        centroid = emb_cl.mean(dim=0, keepdim=True)\n",
    "        sims_tmp = util.cos_sim(centroid, emb[cand_idxs])[0]\n",
    "        main_idx = cand_idxs[int(sims_tmp.argmax())]\n",
    "\n",
    "    main_emb = emb[main_idx]\n",
    "\n",
    "    # Ähnlichkeitsmatrix zur Hauptfrage\n",
    "    sims = util.cos_sim(main_emb, emb_cl)[0].cpu().numpy()\n",
    "\n",
    "    # identischer Text => 1.0\n",
    "    main_text = df_export.at[main_idx, 'frage_text_norm']\n",
    "    for i, idx in enumerate(idxs):\n",
    "        if df_export.at[idx, 'frage_text_norm'] == main_text:\n",
    "            sims[i] = 1.0\n",
    "\n",
    "    df_export.loc[idxs, 'ähnlichkeit_zur_hauptfrage'] = sims\n",
    "    df_export.at[main_idx, 'ist_hauptfrage'] = True\n",
    "    df_export.at[main_idx, 'ähnlichkeit_zur_hauptfrage'] = 1.0\n",
    "\n",
    "    # prüfen, ob ALLE Fragen identisch (sim==1)\n",
    "    if np.allclose(sims, 1.0):\n",
    "        clusters_to_noise.append(cl)\n",
    "\n",
    "# 9d) identische-Cluster zu -1\n",
    "if clusters_to_noise:\n",
    "    df_export.loc[df_export['cluster'].isin(clusters_to_noise), 'cluster'] = -1\n",
    "    print(f\"→ {len(clusters_to_noise)} identische Cluster nach -1 verschoben\")\n",
    "\n",
    "# ---------------------------------------------------------------------------\n",
    "# 9e) Cluster-Reihenfolge (normale, noise_sub)  – nach Grösse\n",
    "sizes = (df_export[df_export['cluster'] != -1]\n",
    "         .groupby('cluster').size()\n",
    "         .sort_values(ascending=False))\n",
    "normal_clusters = [c for c in sizes.index if not str(c).startswith('noise')]\n",
    "noise_sub       = [c for c in sizes.index if str(c).startswith('noise')]\n",
    "order_all       = normal_clusters + noise_sub      # -1 folgt später\n",
    "\n",
    "# ---------------------------------------------------------------------------\n",
    "# 9f) Noise-Fragen (-1) gruppieren & nach Gruppengrösse sortieren\n",
    "noise_df = df_export[df_export['cluster'] == -1].copy()\n",
    "noise_groups = {}\n",
    "if len(noise_df):\n",
    "    tfidf_vec = TfidfVectorizer(stop_words=None)\n",
    "    X_tfidf   = tfidf_vec.fit_transform(noise_df['frage_text_norm'])\n",
    "    dbscan    = DBSCAN(eps=0.05, min_samples=1, metric='cosine')\n",
    "    ng_labels = dbscan.fit_predict(X_tfidf)\n",
    "    noise_df['noise_group'] = ng_labels\n",
    "    # noise_group zurück in df_export übernehmen\n",
    "    df_export.loc[noise_df.index, 'noise_group'] = noise_df['noise_group']\n",
    "\n",
    "\n",
    "    # Gruppen dict, sortiert nach Grösse absteigend\n",
    "    grp_sizes = noise_df.groupby('noise_group').size().sort_values(ascending=False)\n",
    "    for g in grp_sizes.index:\n",
    "        noise_groups[int(g)] = noise_df[noise_df['noise_group'] == g]\n",
    "\n",
    "# ---------------------------------------------------------------------------\n",
    "# 9g) Excel-Export\n",
    "wb = Workbook()\n",
    "ws = wb.active\n",
    "ws.title = 'Cluster'\n",
    "\n",
    "# Kopfzeile\n",
    "for c_idx, col in enumerate(export_cols, 1):\n",
    "    ws.cell(row=1, column=c_idx, value=col)\n",
    "\n",
    "YELLOW  = PatternFill(start_color=\"FFFF00\", end_color=\"FFFF00\", fill_type=\"solid\")\n",
    "sim_col = export_cols.index('ähnlichkeit_zur_hauptfrage') + 1\n",
    "row_ptr = 2   # Zeile nach Header\n",
    "\n",
    "def write_block(start_row: int, df_block: pd.DataFrame, label: str) -> int:\n",
    "    \"\"\"Schreibt Überschrift + Zeilen, gibt neue Zeilen­nummer zurück.\"\"\"\n",
    "    row = start_row\n",
    "    ws.cell(row=row, column=1, value=f\"{label} enthält {len(df_block)} Fragen\")\n",
    "    row += 1\n",
    "\n",
    "    df_sorted = (df_block\n",
    "                 .sort_values(['ist_hauptfrage',\n",
    "                               'ähnlichkeit_zur_hauptfrage'],\n",
    "                              ascending=[False, False])\n",
    "                 [export_cols])\n",
    "\n",
    "    for _, r in df_sorted.iterrows():\n",
    "        for c_idx, col in enumerate(export_cols, 1):\n",
    "            val = r[col]\n",
    "            ws.cell(row=row, column=c_idx, value=val)\n",
    "            if (c_idx == sim_col) and pd.notna(val) and (val < 1):\n",
    "                ws.cell(row=row, column=c_idx).fill = YELLOW\n",
    "        row += 1\n",
    "    return row + 1   # Leerzeile danach\n",
    "\n",
    "# normale + noise-sub\n",
    "for cl in order_all:\n",
    "    row_ptr = write_block(row_ptr,\n",
    "                          df_export[df_export['cluster'] == cl],\n",
    "                          f\"Cluster {cl}\")\n",
    "\n",
    "# Noise (-1) nach Gruppen\n",
    "if noise_groups:\n",
    "    ws.cell(row=row_ptr, column=1,\n",
    "            value=f\"Ungeclusterte Noise-Fragen (-1): {len(noise_df)}\")\n",
    "    row_ptr += 1\n",
    "    for grp_id, grp_df in noise_groups.items():\n",
    "        row_ptr = write_block(row_ptr, grp_df, f\"Noise-Gruppe {grp_id}\")\n",
    "\n",
    "# Auto-Filter & Spaltenbreite\n",
    "ws.auto_filter.ref = f\"A1:{get_column_letter(len(export_cols))}{row_ptr}\"\n",
    "for c_idx in range(1, len(export_cols) + 1):\n",
    "    ws.column_dimensions[get_column_letter(c_idx)].width = 22\n",
    "\n",
    "wb.save(EXPORT_PATH)\n",
    "print(f\"✓ Export fertig: {EXPORT_PATH}\")\n"
   ]
  },
  {
   "cell_type": "code",
   "execution_count": 31,
   "id": "9294a46d",
   "metadata": {},
   "outputs": [
    {
     "name": "stdout",
     "output_type": "stream",
     "text": [
      "Normale Cluster:              276\n",
      "Noise-Subcluster:             199\n",
      "Noise-Gruppen in Cluster -1:  336\n"
     ]
    },
    {
     "data": {
      "image/png": "[encoded data removed]",
      "text/plain": [
       "<Figure size 600x400 with 1 Axes>"
      ]
     },
     "metadata": {},
     "output_type": "display_data"
    },
    {
     "data": {
      "text/html": [
       "<style type=\"text/css\">\n",
       "#T_a14c6_row0_col0 {\n",
       "  background-color: #00441b;\n",
       "  color: #f1f1f1;\n",
       "}\n",
       "#T_a14c6_row1_col0 {\n",
       "  background-color: #00491d;\n",
       "  color: #f1f1f1;\n",
       "}\n",
       "#T_a14c6_row2_col0 {\n",
       "  background-color: #45ad5f;\n",
       "  color: #f1f1f1;\n",
       "}\n",
       "#T_a14c6_row3_col0 {\n",
       "  background-color: #65bd6f;\n",
       "  color: #f1f1f1;\n",
       "}\n",
       "#T_a14c6_row4_col0 {\n",
       "  background-color: #bce4b5;\n",
       "  color: #000000;\n",
       "}\n",
       "#T_a14c6_row5_col0, #T_a14c6_row6_col0 {\n",
       "  background-color: #d5efcf;\n",
       "  color: #000000;\n",
       "}\n",
       "#T_a14c6_row7_col0 {\n",
       "  background-color: #daf0d4;\n",
       "  color: #000000;\n",
       "}\n",
       "#T_a14c6_row8_col0 {\n",
       "  background-color: #e9f7e5;\n",
       "  color: #000000;\n",
       "}\n",
       "#T_a14c6_row9_col0 {\n",
       "  background-color: #f7fcf5;\n",
       "  color: #000000;\n",
       "}\n",
       "</style>\n",
       "<table id=\"T_a14c6\">\n",
       "  <thead>\n",
       "    <tr>\n",
       "      <th class=\"blank level0\" >&nbsp;</th>\n",
       "      <th id=\"T_a14c6_level0_col0\" class=\"col_heading level0 col0\" >Fragen</th>\n",
       "    </tr>\n",
       "    <tr>\n",
       "      <th class=\"index_name level0\" >cluster</th>\n",
       "      <th class=\"blank col0\" >&nbsp;</th>\n",
       "    </tr>\n",
       "  </thead>\n",
       "  <tbody>\n",
       "    <tr>\n",
       "      <th id=\"T_a14c6_level0_row0\" class=\"row_heading level0 row0\" >48</th>\n",
       "      <td id=\"T_a14c6_row0_col0\" class=\"data row0 col0\" >131</td>\n",
       "    </tr>\n",
       "    <tr>\n",
       "      <th id=\"T_a14c6_level0_row1\" class=\"row_heading level0 row1\" >110</th>\n",
       "      <td id=\"T_a14c6_row1_col0\" class=\"data row1 col0\" >130</td>\n",
       "    </tr>\n",
       "    <tr>\n",
       "      <th id=\"T_a14c6_level0_row2\" class=\"row_heading level0 row2\" >31</th>\n",
       "      <td id=\"T_a14c6_row2_col0\" class=\"data row2 col0\" >111</td>\n",
       "    </tr>\n",
       "    <tr>\n",
       "      <th id=\"T_a14c6_level0_row3\" class=\"row_heading level0 row3\" >165</th>\n",
       "      <td id=\"T_a14c6_row3_col0\" class=\"data row3 col0\" >107</td>\n",
       "    </tr>\n",
       "    <tr>\n",
       "      <th id=\"T_a14c6_level0_row4\" class=\"row_heading level0 row4\" >81</th>\n",
       "      <td id=\"T_a14c6_row4_col0\" class=\"data row4 col0\" >94</td>\n",
       "    </tr>\n",
       "    <tr>\n",
       "      <th id=\"T_a14c6_level0_row5\" class=\"row_heading level0 row5\" >219</th>\n",
       "      <td id=\"T_a14c6_row5_col0\" class=\"data row5 col0\" >89</td>\n",
       "    </tr>\n",
       "    <tr>\n",
       "      <th id=\"T_a14c6_level0_row6\" class=\"row_heading level0 row6\" >69</th>\n",
       "      <td id=\"T_a14c6_row6_col0\" class=\"data row6 col0\" >89</td>\n",
       "    </tr>\n",
       "    <tr>\n",
       "      <th id=\"T_a14c6_level0_row7\" class=\"row_heading level0 row7\" >111</th>\n",
       "      <td id=\"T_a14c6_row7_col0\" class=\"data row7 col0\" >88</td>\n",
       "    </tr>\n",
       "    <tr>\n",
       "      <th id=\"T_a14c6_level0_row8\" class=\"row_heading level0 row8\" >noise_100</th>\n",
       "      <td id=\"T_a14c6_row8_col0\" class=\"data row8 col0\" >84</td>\n",
       "    </tr>\n",
       "    <tr>\n",
       "      <th id=\"T_a14c6_level0_row9\" class=\"row_heading level0 row9\" >15</th>\n",
       "      <td id=\"T_a14c6_row9_col0\" class=\"data row9 col0\" >79</td>\n",
       "    </tr>\n",
       "  </tbody>\n",
       "</table>\n"
      ],
      "text/plain": [
       "<pandas.io.formats.style.Styler at 0x279d880fc50>"
      ]
     },
     "metadata": {},
     "output_type": "display_data"
    },
    {
     "name": "stdout",
     "output_type": "stream",
     "text": [
      "len n_total: 7459\n",
      "len n_noise: 990\n",
      "Anteil unbearbeiteter Noise-Fragen: 13.3%\n",
      "Ø Ähnlichkeit (Median aller Cluster): 0.909\n"
     ]
    }
   ],
   "source": [
    "# --- Block 10: Cluster-Analyse ------------------------------------------------\n",
    "import matplotlib.pyplot as plt\n",
    "import pandas as pd\n",
    "from collections import Counter\n",
    "\n",
    "# 1) Normale Cluster (alle Integer ≠ -1, die NICHT mit \"noise_\" beginnen)\n",
    "normal_clusters = [\n",
    "    c for c in df_export[\"cluster\"].unique()\n",
    "    if c != -1 and not (isinstance(c, str) and c.startswith(\"noise\"))\n",
    "]\n",
    "n_normal = len(normal_clusters)\n",
    "\n",
    "# 2) Nachträglich gebildete Noise-Subcluster  (\"noise_<basis-cluster>\")\n",
    "noise_subclusters = [\n",
    "    c for c in df_export[\"cluster\"].unique()\n",
    "    if isinstance(c, str) and c.startswith(\"noise\")\n",
    "]\n",
    "n_noise_sub = len(noise_subclusters)\n",
    "\n",
    "# 3) Noise-Gruppen innerhalb des echten Noise-Clusters (-1)\n",
    "if \"noise_group\" in df_export.columns:\n",
    "    n_noise_groups = df_export.loc[df_export[\"cluster\"] == -1, \"noise_group\"].nunique()\n",
    "else:\n",
    "    n_noise_groups = 0  # Falls 9f noch nicht gelaufen ist\n",
    "\n",
    "print(f\"Normale Cluster:              {n_normal}\")\n",
    "print(f\"Noise-Subcluster:             {n_noise_sub}\")\n",
    "print(f\"Noise-Gruppen in Cluster -1:  {n_noise_groups}\")\n",
    "\n",
    "# --------------------------------------------------------------------------- #\n",
    "# Zusätzliche, optionale Auswertungen --------------------------------------- #\n",
    "\n",
    "# a) Verteilung der Clustergrössen\n",
    "sizes = df_export[df_export[\"cluster\"] != -1].groupby(\"cluster\").size()\n",
    "plt.figure(figsize=(6,4))\n",
    "plt.hist(sizes, bins=30)\n",
    "plt.title(\"Verteilung der Clustergrössen\")\n",
    "plt.xlabel(\"Fragen pro Cluster\")\n",
    "plt.ylabel(\"Anzahl Cluster\")\n",
    "plt.show()\n",
    "\n",
    "# b) Top-10 grösste Cluster\n",
    "top10 = sizes.sort_values(ascending=False).head(10)\n",
    "display(top10.to_frame(\"Fragen\").style.background_gradient(axis=0, cmap=\"Greens\"))\n",
    "\n",
    "# c) Anteil Noise-Fragen insgesamt\n",
    "n_total   = len(df_export)\n",
    "n_noise   = (df_export[\"cluster\"] == -1).sum()\n",
    "print(f\"len n_total: {n_total}\")\n",
    "print(f\"len n_noise: {n_noise}\")\n",
    "print(f\"Anteil unbearbeiteter Noise-Fragen: {n_noise/n_total:.1%}\")\n",
    "\n",
    "# d) Durchschnittliche Ähnlichkeit innerhalb jedes Clusters\n",
    "mean_sim = (df_export\n",
    "            .dropna(subset=[\"ähnlichkeit_zur_hauptfrage\"])\n",
    "            .groupby(\"cluster\")[\"ähnlichkeit_zur_hauptfrage\"]\n",
    "            .mean())\n",
    "print(f\"Ø Ähnlichkeit (Median aller Cluster): {mean_sim.median():.3f}\")\n"
   ]
  }
 ],
 "metadata": {
  "kernelspec": {
   "display_name": "Python 3",
   "language": "python",
   "name": "python3"
  },
  "language_info": {
   "codemirror_mode": {
    "name": "ipython",
    "version": 3
   },
   "file_extension": ".py",
   "mimetype": "text/x-python",
   "name": "python",
   "nbconvert_exporter": "python",
   "pygments_lexer": "ipython3",
   "version": "3.11.11"
  }
 },
 "nbformat": 4,
 "nbformat_minor": 5
}
