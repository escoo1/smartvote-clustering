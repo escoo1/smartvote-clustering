{
 "cells": [
  {
   "cell_type": "code",
   "execution_count": 3,
   "metadata": {},
   "outputs": [],
   "source": [
    "import pandas as pd\n",
    "import numpy as np"
   ]
  },
  {
   "cell_type": "code",
   "execution_count": 4,
   "metadata": {},
   "outputs": [
    {
     "name": "stdout",
     "output_type": "stream",
     "text": [
      "Deutsch: ['ID_Wahl', 'Wahl_tag', 'Datum', 'Question_tag_ID', 'Question_tag', 'Frage_ID', 'Frage_Text', 'Sprache', 'Frage_Typ', 'Bereich_ID', 'Bereich']\n",
      "Französisch: ['ID_Wahl', 'Wahl_tag', 'Datum', 'Question_tag_ID', 'Question_tag', 'Frage_ID', 'Frage_Text', 'Sprache', 'Frage_Typ', 'Bereich_ID', 'Bereich']\n",
      "Italienisch: ['ID_Wahl', 'Wahl_tag', 'Datum', 'Question_tag_ID', 'Question_tag', 'Frage_ID', 'Frage_Text', 'Sprache', 'Frage_Typ', 'Bereich_ID', 'Bereich']\n",
      "Alt: ['ID_Politikbereich', 'Politikbereich', 'ID_Wahl', 'Kanton', 'Jahr', 'ID_Frage', 'Frage', 'ID_sv-Kategorie', 'ID_sv-Group', 'Fragetyp']\n"
     ]
    }
   ],
   "source": [
    "# Dateien einlesen\n",
    "df_de = pd.read_excel(\"../data/export_questions_de_20250310.xlsx\")\n",
    "df_fr = pd.read_excel(\"../data/export_questions_fr_20250310.xlsx\")\n",
    "df_it = pd.read_excel(\"../data/export_questions_it_20250310.xlsx\")\n",
    "df_alt = pd.read_excel(\"../data/sv-Fragen 2011-2021.xlsx\")\n",
    "\n",
    "# Spalten anzeigen (zur Kontrolle)\n",
    "print(\"Deutsch:\", df_de.columns.tolist())\n",
    "print(\"Französisch:\", df_fr.columns.tolist())\n",
    "print(\"Italienisch:\", df_it.columns.tolist())\n",
    "print(\"Alt:\", df_alt.columns.tolist())\n"
   ]
  },
  {
   "cell_type": "code",
   "execution_count": 5,
   "metadata": {},
   "outputs": [],
   "source": [
    "# Altdatei anpassen: Spalten umbenennen & auf relevante Spalten reduzieren\n",
    "df_alt_angepasst = df_alt.rename(columns={\n",
    "    \"ID_Wahl\": \"ID_Wahl\",\n",
    "    \"Jahr\": \"Datum\",\n",
    "    \"ID_Frage\": \"Frage_ID\",\n",
    "    \"Frage\": \"Frage_Text\",\n",
    "    \"Fragetyp\": \"Frage_Typ\",\n",
    "    \"ID_Politikbereich\": \"Bereich_ID\",\n",
    "    \"Politikbereich\": \"Bereich\"\n",
    "})\n",
    "\n",
    "# Auswahl der Spalten wie in den neuen Dateien\n",
    "spalten = ['ID_Wahl', 'Datum', 'Frage_ID', 'Frage_Text', 'Frage_Typ', 'Bereich_ID', 'Bereich']\n",
    "df_alt_angepasst = df_alt_angepasst[spalten]\n",
    "df_de = df_de[spalten]\n",
    "df_fr = df_fr[spalten]\n",
    "df_it = df_it[spalten]"
   ]
  },
  {
   "cell_type": "code",
   "execution_count": 6,
   "metadata": {},
   "outputs": [
    {
     "data": {
      "text/html": [
       "<div>\n",
       "<style scoped>\n",
       "    .dataframe tbody tr th:only-of-type {\n",
       "        vertical-align: middle;\n",
       "    }\n",
       "\n",
       "    .dataframe tbody tr th {\n",
       "        vertical-align: top;\n",
       "    }\n",
       "\n",
       "    .dataframe thead th {\n",
       "        text-align: right;\n",
       "    }\n",
       "</style>\n",
       "<table border=\"1\" class=\"dataframe\">\n",
       "  <thead>\n",
       "    <tr style=\"text-align: right;\">\n",
       "      <th></th>\n",
       "      <th>ID_Wahl</th>\n",
       "      <th>Datum</th>\n",
       "      <th>Frage_ID</th>\n",
       "      <th>Frage_Text</th>\n",
       "      <th>Frage_Typ</th>\n",
       "      <th>Bereich_ID</th>\n",
       "      <th>Bereich</th>\n",
       "    </tr>\n",
       "  </thead>\n",
       "  <tbody>\n",
       "    <tr>\n",
       "      <th>0</th>\n",
       "      <td>76.0</td>\n",
       "      <td>2015</td>\n",
       "      <td>1169.0</td>\n",
       "      <td>Soll die Schweiz innerhalb der nächsten vier J...</td>\n",
       "      <td>Standard-4</td>\n",
       "      <td>1.0</td>\n",
       "      <td>Aussenpolitik</td>\n",
       "    </tr>\n",
       "    <tr>\n",
       "      <th>1</th>\n",
       "      <td>76.0</td>\n",
       "      <td>2015</td>\n",
       "      <td>1134.0</td>\n",
       "      <td>Befürworten Sie das bestehende Personenfreizüg...</td>\n",
       "      <td>Standard-4</td>\n",
       "      <td>1.0</td>\n",
       "      <td>Aussenpolitik</td>\n",
       "    </tr>\n",
       "    <tr>\n",
       "      <th>2</th>\n",
       "      <td>76.0</td>\n",
       "      <td>2015</td>\n",
       "      <td>1168.0</td>\n",
       "      <td>Soll die Schweiz mit den USA über ein Freihand...</td>\n",
       "      <td>Standard-4</td>\n",
       "      <td>1.0</td>\n",
       "      <td>Aussenpolitik</td>\n",
       "    </tr>\n",
       "    <tr>\n",
       "      <th>3</th>\n",
       "      <td>76.0</td>\n",
       "      <td>2015</td>\n",
       "      <td>1167.0</td>\n",
       "      <td>Die Schweiz verfolgt seit einigen Jahren eine ...</td>\n",
       "      <td>Standard-4</td>\n",
       "      <td>1.0</td>\n",
       "      <td>Aussenpolitik</td>\n",
       "    </tr>\n",
       "    <tr>\n",
       "      <th>4</th>\n",
       "      <td>76.0</td>\n",
       "      <td>2015</td>\n",
       "      <td>1171.0</td>\n",
       "      <td>Bildung</td>\n",
       "      <td>Budget-5</td>\n",
       "      <td>2.0</td>\n",
       "      <td>Bildung</td>\n",
       "    </tr>\n",
       "  </tbody>\n",
       "</table>\n",
       "</div>"
      ],
      "text/plain": [
       "   ID_Wahl  Datum  Frage_ID  \\\n",
       "0     76.0   2015    1169.0   \n",
       "1     76.0   2015    1134.0   \n",
       "2     76.0   2015    1168.0   \n",
       "3     76.0   2015    1167.0   \n",
       "4     76.0   2015    1171.0   \n",
       "\n",
       "                                          Frage_Text   Frage_Typ  Bereich_ID  \\\n",
       "0  Soll die Schweiz innerhalb der nächsten vier J...  Standard-4         1.0   \n",
       "1  Befürworten Sie das bestehende Personenfreizüg...  Standard-4         1.0   \n",
       "2  Soll die Schweiz mit den USA über ein Freihand...  Standard-4         1.0   \n",
       "3  Die Schweiz verfolgt seit einigen Jahren eine ...  Standard-4         1.0   \n",
       "4                                            Bildung    Budget-5         2.0   \n",
       "\n",
       "         Bereich  \n",
       "0  Aussenpolitik  \n",
       "1  Aussenpolitik  \n",
       "2  Aussenpolitik  \n",
       "3  Aussenpolitik  \n",
       "4        Bildung  "
      ]
     },
     "execution_count": 6,
     "metadata": {},
     "output_type": "execute_result"
    }
   ],
   "source": [
    "df_de.head()\n",
    "\n",
    "df_alt_angepasst.head()"
   ]
  },
  {
   "cell_type": "code",
   "execution_count": 7,
   "metadata": {},
   "outputs": [
    {
     "name": "stdout",
     "output_type": "stream",
     "text": [
      "Gesamtanzahl der Fragen: 8997\n"
     ]
    }
   ],
   "source": [
    "# Alle DataFrames zusammenführen\n",
    "df_gesamt = pd.concat([df_de, df_fr, df_it, df_alt_angepasst], ignore_index=True)\n",
    "print(f\"Gesamtanzahl der Fragen: {len(df_gesamt)}\")"
   ]
  },
  {
   "cell_type": "code",
   "execution_count": 8,
   "metadata": {},
   "outputs": [],
   "source": [
    "# Eindeutige ID pro Zeile\n",
    "df_gesamt[\"ID_gesamt\"] = [\"Q\" + str(i).zfill(5) for i in range(len(df_gesamt))]"
   ]
  },
  {
   "cell_type": "code",
   "execution_count": 9,
   "metadata": {},
   "outputs": [
    {
     "data": {
      "text/html": [
       "<div>\n",
       "<style scoped>\n",
       "    .dataframe tbody tr th:only-of-type {\n",
       "        vertical-align: middle;\n",
       "    }\n",
       "\n",
       "    .dataframe tbody tr th {\n",
       "        vertical-align: top;\n",
       "    }\n",
       "\n",
       "    .dataframe thead th {\n",
       "        text-align: right;\n",
       "    }\n",
       "</style>\n",
       "<table border=\"1\" class=\"dataframe\">\n",
       "  <thead>\n",
       "    <tr style=\"text-align: right;\">\n",
       "      <th></th>\n",
       "      <th>ID_Wahl</th>\n",
       "      <th>Datum</th>\n",
       "      <th>Frage_ID</th>\n",
       "      <th>Frage_Text</th>\n",
       "      <th>Frage_Typ</th>\n",
       "      <th>Bereich_ID</th>\n",
       "      <th>Bereich</th>\n",
       "      <th>ID_gesamt</th>\n",
       "    </tr>\n",
       "  </thead>\n",
       "  <tbody>\n",
       "    <tr>\n",
       "      <th>0</th>\n",
       "      <td>2.0</td>\n",
       "      <td>2019-10-20 00:00:00</td>\n",
       "      <td>5.0</td>\n",
       "      <td>Wie beurteilen Sie diese Aussage: \"Wer sich ni...</td>\n",
       "      <td>options7</td>\n",
       "      <td>4734.0</td>\n",
       "      <td>Werthaltungen</td>\n",
       "      <td>Q00000</td>\n",
       "    </tr>\n",
       "    <tr>\n",
       "      <th>1</th>\n",
       "      <td>2.0</td>\n",
       "      <td>2019-10-20 00:00:00</td>\n",
       "      <td>8.0</td>\n",
       "      <td>Wie beurteilen Sie diese Aussage: \"Die Bestraf...</td>\n",
       "      <td>options7</td>\n",
       "      <td>4734.0</td>\n",
       "      <td>Werthaltungen</td>\n",
       "      <td>Q00001</td>\n",
       "    </tr>\n",
       "    <tr>\n",
       "      <th>2</th>\n",
       "      <td>2.0</td>\n",
       "      <td>2019-10-20 00:00:00</td>\n",
       "      <td>11.0</td>\n",
       "      <td>Wie beurteilen Sie diese Aussage: \"Für ein Kin...</td>\n",
       "      <td>options7</td>\n",
       "      <td>4734.0</td>\n",
       "      <td>Werthaltungen</td>\n",
       "      <td>Q00002</td>\n",
       "    </tr>\n",
       "    <tr>\n",
       "      <th>3</th>\n",
       "      <td>2.0</td>\n",
       "      <td>2019-10-20 00:00:00</td>\n",
       "      <td>14.0</td>\n",
       "      <td>Soll der Bund Ausländer/-innen bei der Integra...</td>\n",
       "      <td>options4</td>\n",
       "      <td>4231.0</td>\n",
       "      <td>Migration &amp; Integration</td>\n",
       "      <td>Q00003</td>\n",
       "    </tr>\n",
       "    <tr>\n",
       "      <th>4</th>\n",
       "      <td>2.0</td>\n",
       "      <td>2019-10-20 00:00:00</td>\n",
       "      <td>17.0</td>\n",
       "      <td>Soll der Konsum von Cannabis legalisiert werden?</td>\n",
       "      <td>options4</td>\n",
       "      <td>4352.0</td>\n",
       "      <td>Gesellschaft &amp; Ethik</td>\n",
       "      <td>Q00004</td>\n",
       "    </tr>\n",
       "  </tbody>\n",
       "</table>\n",
       "</div>"
      ],
      "text/plain": [
       "   ID_Wahl                Datum  Frage_ID  \\\n",
       "0      2.0  2019-10-20 00:00:00       5.0   \n",
       "1      2.0  2019-10-20 00:00:00       8.0   \n",
       "2      2.0  2019-10-20 00:00:00      11.0   \n",
       "3      2.0  2019-10-20 00:00:00      14.0   \n",
       "4      2.0  2019-10-20 00:00:00      17.0   \n",
       "\n",
       "                                          Frage_Text Frage_Typ  Bereich_ID  \\\n",
       "0  Wie beurteilen Sie diese Aussage: \"Wer sich ni...  options7      4734.0   \n",
       "1  Wie beurteilen Sie diese Aussage: \"Die Bestraf...  options7      4734.0   \n",
       "2  Wie beurteilen Sie diese Aussage: \"Für ein Kin...  options7      4734.0   \n",
       "3  Soll der Bund Ausländer/-innen bei der Integra...  options4      4231.0   \n",
       "4   Soll der Konsum von Cannabis legalisiert werden?  options4      4352.0   \n",
       "\n",
       "                   Bereich ID_gesamt  \n",
       "0            Werthaltungen    Q00000  \n",
       "1            Werthaltungen    Q00001  \n",
       "2            Werthaltungen    Q00002  \n",
       "3  Migration & Integration    Q00003  \n",
       "4     Gesellschaft & Ethik    Q00004  "
      ]
     },
     "execution_count": 9,
     "metadata": {},
     "output_type": "execute_result"
    }
   ],
   "source": [
    "df_gesamt.head()"
   ]
  },
  {
   "cell_type": "code",
   "execution_count": 10,
   "metadata": {},
   "outputs": [],
   "source": [
    "from langdetect import detect\n",
    "from langdetect.lang_detect_exception import LangDetectException\n",
    "\n",
    "def erkenne_sprache(text):\n",
    "    try:\n",
    "        return detect(text)\n",
    "    except LangDetectException:\n",
    "        return \"unbekannt\"\n"
   ]
  },
  {
   "cell_type": "code",
   "execution_count": 11,
   "metadata": {},
   "outputs": [],
   "source": [
    "df_gesamt[\"Sprache\"] = df_gesamt[\"Frage_Text\"].apply(erkenne_sprache)"
   ]
  },
  {
   "cell_type": "code",
   "execution_count": 34,
   "metadata": {},
   "outputs": [
    {
     "name": "stdout",
     "output_type": "stream",
     "text": [
      "Sprache\n",
      "de    7459\n",
      "fr    1224\n",
      "it     314\n",
      "Name: count, dtype: int64\n"
     ]
    }
   ],
   "source": [
    "print(df_gesamt[\"Sprache\"].value_counts())"
   ]
  },
  {
   "cell_type": "code",
   "execution_count": 13,
   "metadata": {},
   "outputs": [
    {
     "name": "stdout",
     "output_type": "stream",
     "text": [
      "30 Fragen wurden nicht als Deutsch, Französisch oder Italienisch erkannt.\n"
     ]
    }
   ],
   "source": [
    "# Alle Zeilen, deren Sprache NICHT de, fr oder it ist\n",
    "df_andere_sprachen = df_gesamt[~df_gesamt[\"Sprache\"].isin([\"de\", \"fr\", \"it\"])]\n",
    "\n",
    "# Anzahl anzeigen\n",
    "print(f\"{len(df_andere_sprachen)} Fragen wurden nicht als Deutsch, Französisch oder Italienisch erkannt.\")"
   ]
  },
  {
   "cell_type": "code",
   "execution_count": 14,
   "metadata": {},
   "outputs": [
    {
     "data": {
      "text/html": [
       "<div>\n",
       "<style scoped>\n",
       "    .dataframe tbody tr th:only-of-type {\n",
       "        vertical-align: middle;\n",
       "    }\n",
       "\n",
       "    .dataframe tbody tr th {\n",
       "        vertical-align: top;\n",
       "    }\n",
       "\n",
       "    .dataframe thead th {\n",
       "        text-align: right;\n",
       "    }\n",
       "</style>\n",
       "<table border=\"1\" class=\"dataframe\">\n",
       "  <thead>\n",
       "    <tr style=\"text-align: right;\">\n",
       "      <th></th>\n",
       "      <th>ID_Wahl</th>\n",
       "      <th>Datum</th>\n",
       "      <th>Frage_ID</th>\n",
       "      <th>Frage_Text</th>\n",
       "      <th>Frage_Typ</th>\n",
       "      <th>Bereich_ID</th>\n",
       "      <th>Bereich</th>\n",
       "      <th>ID_gesamt</th>\n",
       "      <th>Sprache</th>\n",
       "    </tr>\n",
       "  </thead>\n",
       "  <tbody>\n",
       "    <tr>\n",
       "      <th>536</th>\n",
       "      <td>22.0</td>\n",
       "      <td>2020-09-27 00:00:00</td>\n",
       "      <td>1887.0</td>\n",
       "      <td>Soll der Kanton Solaranlagen an Gebäudefassade...</td>\n",
       "      <td>options4</td>\n",
       "      <td>5075.0</td>\n",
       "      <td>Umwelt, Verkehr &amp; Energie</td>\n",
       "      <td>Q00536</td>\n",
       "      <td>sv</td>\n",
       "    </tr>\n",
       "    <tr>\n",
       "      <th>3013</th>\n",
       "      <td>1106.0</td>\n",
       "      <td>2024-04-21 00:00:00</td>\n",
       "      <td>32478.0</td>\n",
       "      <td>Sollte der Kanton Gemeindefusionen stärker för...</td>\n",
       "      <td>options4</td>\n",
       "      <td>11498.0</td>\n",
       "      <td>Politisches System &amp; Digitalisierung</td>\n",
       "      <td>Q03013</td>\n",
       "      <td>sv</td>\n",
       "    </tr>\n",
       "    <tr>\n",
       "      <th>3919</th>\n",
       "      <td>29.0</td>\n",
       "      <td>2020-10-25 00:00:00</td>\n",
       "      <td>2419.0</td>\n",
       "      <td>Devrait-on mettre en place davantage de zones ...</td>\n",
       "      <td>options4</td>\n",
       "      <td>5397.0</td>\n",
       "      <td>Verkehr &amp; Infrastruktur</td>\n",
       "      <td>Q03919</td>\n",
       "      <td>nl</td>\n",
       "    </tr>\n",
       "    <tr>\n",
       "      <th>4025</th>\n",
       "      <td>62.0</td>\n",
       "      <td>2021-03-07 00:00:00</td>\n",
       "      <td>3463.0</td>\n",
       "      <td>Devrait-on mettre en place davantage de zones ...</td>\n",
       "      <td>options4</td>\n",
       "      <td>5404.0</td>\n",
       "      <td>Verkehr &amp; Infrastruktur</td>\n",
       "      <td>Q04025</td>\n",
       "      <td>nl</td>\n",
       "    </tr>\n",
       "    <tr>\n",
       "      <th>4586</th>\n",
       "      <td>123.0</td>\n",
       "      <td>2015</td>\n",
       "      <td>1909.0</td>\n",
       "      <td>Kultur</td>\n",
       "      <td>Budget-5</td>\n",
       "      <td>8.0</td>\n",
       "      <td>Kultur, Sport &amp; Medien</td>\n",
       "      <td>Q04586</td>\n",
       "      <td>et</td>\n",
       "    </tr>\n",
       "  </tbody>\n",
       "</table>\n",
       "</div>"
      ],
      "text/plain": [
       "      ID_Wahl                Datum  Frage_ID  \\\n",
       "536      22.0  2020-09-27 00:00:00    1887.0   \n",
       "3013   1106.0  2024-04-21 00:00:00   32478.0   \n",
       "3919     29.0  2020-10-25 00:00:00    2419.0   \n",
       "4025     62.0  2021-03-07 00:00:00    3463.0   \n",
       "4586    123.0                 2015    1909.0   \n",
       "\n",
       "                                             Frage_Text Frage_Typ  Bereich_ID  \\\n",
       "536   Soll der Kanton Solaranlagen an Gebäudefassade...  options4      5075.0   \n",
       "3013  Sollte der Kanton Gemeindefusionen stärker för...  options4     11498.0   \n",
       "3919  Devrait-on mettre en place davantage de zones ...  options4      5397.0   \n",
       "4025  Devrait-on mettre en place davantage de zones ...  options4      5404.0   \n",
       "4586                                             Kultur  Budget-5         8.0   \n",
       "\n",
       "                                   Bereich ID_gesamt Sprache  \n",
       "536              Umwelt, Verkehr & Energie    Q00536      sv  \n",
       "3013  Politisches System & Digitalisierung    Q03013      sv  \n",
       "3919               Verkehr & Infrastruktur    Q03919      nl  \n",
       "4025               Verkehr & Infrastruktur    Q04025      nl  \n",
       "4586                Kultur, Sport & Medien    Q04586      et  "
      ]
     },
     "execution_count": 14,
     "metadata": {},
     "output_type": "execute_result"
    }
   ],
   "source": [
    "df_andere_sprachen.head()"
   ]
  },
  {
   "cell_type": "code",
   "execution_count": 24,
   "metadata": {},
   "outputs": [
    {
     "name": "stdout",
     "output_type": "stream",
     "text": [
      "30 IDs gefunden.\n",
      "['Q00536', 'Q03013', 'Q03919', 'Q04025', 'Q04586', 'Q04619', 'Q04646', 'Q04665', 'Q04830', 'Q05155', 'Q05203', 'Q05315', 'Q05407', 'Q05492', 'Q06399', 'Q06470', 'Q06695', 'Q06951', 'Q07097', 'Q07216', 'Q07235', 'Q07403', 'Q07451', 'Q07770', 'Q07932', 'Q08323', 'Q08550', 'Q08595', 'Q08596', 'Q08653']\n"
     ]
    }
   ],
   "source": [
    "# Liste der IDs aus df_andere_sprachen\n",
    "ids_andere_sprachen = df_andere_sprachen[\"ID_gesamt\"].tolist()\n",
    "\n",
    "# Anzahl und Beispielausgabe\n",
    "print(f\"{len(ids_andere_sprachen)} IDs gefunden.\")\n",
    "print(ids_andere_sprachen)\n"
   ]
  },
  {
   "cell_type": "code",
   "execution_count": 35,
   "metadata": {},
   "outputs": [],
   "source": [
    "df_gesamt.to_excel(\"df_gesamt_final.xlsx\", index=False, engine=\"openpyxl\")\n"
   ]
  },
  {
   "cell_type": "code",
   "execution_count": 36,
   "metadata": {},
   "outputs": [],
   "source": [
    "df_de_final = df_gesamt[df_gesamt[\"Sprache\"] == \"de\"].reset_index(drop=True)\n",
    "df_fr_final = df_gesamt[df_gesamt[\"Sprache\"] == \"fr\"].reset_index(drop=True)\n",
    "df_it_final = df_gesamt[df_gesamt[\"Sprache\"] == \"it\"].reset_index(drop=True)\n"
   ]
  },
  {
   "cell_type": "code",
   "execution_count": 37,
   "metadata": {},
   "outputs": [],
   "source": [
    "df_de_final.to_excel(\"df_de_final.xlsx\", index=False, engine=\"openpyxl\")\n",
    "df_fr_final.to_excel(\"df_fr_final.xlsx\", index=False, engine=\"openpyxl\")\n",
    "df_it_final.to_excel(\"df_it_final.xlsx\", index=False, engine=\"openpyxl\")\n"
   ]
  }
 ],
 "metadata": {
  "kernelspec": {
   "display_name": "Python 3",
   "language": "python",
   "name": "python3"
  },
  "language_info": {
   "codemirror_mode": {
    "name": "ipython",
    "version": 3
   },
   "file_extension": ".py",
   "mimetype": "text/x-python",
   "name": "python",
   "nbconvert_exporter": "python",
   "pygments_lexer": "ipython3",
   "version": "3.11.11"
  }
 },
 "nbformat": 4,
 "nbformat_minor": 2
}
